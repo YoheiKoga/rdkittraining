{
 "cells": [
  {
   "cell_type": "code",
   "execution_count": 1,
   "metadata": {},
   "outputs": [],
   "source": [
    "# reference\n",
    "# [ご注文はリード化合物ですか？〜医薬化学録にわ〜](https://aimedchem.hatenablog.com/)"
   ]
  },
  {
   "cell_type": "code",
   "execution_count": 2,
   "metadata": {},
   "outputs": [
    {
     "name": "stderr",
     "output_type": "stream",
     "text": [
      "RDKit WARNING: [08:50:41] Enabling RDKit 2019.09.2 jupyter extensions\n"
     ]
    }
   ],
   "source": [
    "import numpy as np\n",
    "import pandas as pd\n",
    "from rdkit import Chem\n",
    "from rdkit.Chem.Draw import IPythonConsole\n",
    "\n",
    "from mordred import Calculator, descriptors"
   ]
  },
  {
   "cell_type": "code",
   "execution_count": 5,
   "metadata": {},
   "outputs": [
    {
     "name": "stderr",
     "output_type": "stream",
     "text": [
      "100%|██████████| 3/3 [00:00<00:00, 28.11it/s]\n"
     ]
    }
   ],
   "source": [
    "# prepare instance for calculating descriptor\n",
    "calc = Calculator(descriptors, ignore_3D = True)\n",
    "\n",
    "# prepare molecular data to calculate\n",
    "mols = [Chem.MolFromSmiles(smiles) for smiles in ['c1ccccc1Cl', 'c1ccccc1O', 'c1ccccc1N']]\n",
    "\n",
    "# output Pandas dataframe\n",
    "df = calc.pandas(mols)"
   ]
  },
  {
   "cell_type": "code",
   "execution_count": 6,
   "metadata": {},
   "outputs": [
    {
     "data": {
      "text/html": [
       "<div>\n",
       "<style scoped>\n",
       "    .dataframe tbody tr th:only-of-type {\n",
       "        vertical-align: middle;\n",
       "    }\n",
       "\n",
       "    .dataframe tbody tr th {\n",
       "        vertical-align: top;\n",
       "    }\n",
       "\n",
       "    .dataframe thead th {\n",
       "        text-align: right;\n",
       "    }\n",
       "</style>\n",
       "<table border=\"1\" class=\"dataframe\">\n",
       "  <thead>\n",
       "    <tr style=\"text-align: right;\">\n",
       "      <th></th>\n",
       "      <th>ABC</th>\n",
       "      <th>ABCGG</th>\n",
       "      <th>nAcid</th>\n",
       "      <th>nBase</th>\n",
       "      <th>SpAbs_A</th>\n",
       "      <th>SpMax_A</th>\n",
       "      <th>SpDiam_A</th>\n",
       "      <th>SpAD_A</th>\n",
       "      <th>SpMAD_A</th>\n",
       "      <th>LogEE_A</th>\n",
       "      <th>...</th>\n",
       "      <th>SRW10</th>\n",
       "      <th>TSRW10</th>\n",
       "      <th>MW</th>\n",
       "      <th>AMW</th>\n",
       "      <th>WPath</th>\n",
       "      <th>WPol</th>\n",
       "      <th>Zagreb1</th>\n",
       "      <th>Zagreb2</th>\n",
       "      <th>mZagreb1</th>\n",
       "      <th>mZagreb2</th>\n",
       "    </tr>\n",
       "  </thead>\n",
       "  <tbody>\n",
       "    <tr>\n",
       "      <th>0</th>\n",
       "      <td>5.059137</td>\n",
       "      <td>4.785854</td>\n",
       "      <td>0</td>\n",
       "      <td>0</td>\n",
       "      <td>8.720566</td>\n",
       "      <td>2.101003</td>\n",
       "      <td>4.202006</td>\n",
       "      <td>8.720566</td>\n",
       "      <td>1.245795</td>\n",
       "      <td>2.844305</td>\n",
       "      <td>...</td>\n",
       "      <td>8.124151</td>\n",
       "      <td>33.544698</td>\n",
       "      <td>112.007978</td>\n",
       "      <td>9.333998</td>\n",
       "      <td>42</td>\n",
       "      <td>5</td>\n",
       "      <td>30.0</td>\n",
       "      <td>31.0</td>\n",
       "      <td>2.361111</td>\n",
       "      <td>1.666667</td>\n",
       "    </tr>\n",
       "    <tr>\n",
       "      <th>1</th>\n",
       "      <td>5.059137</td>\n",
       "      <td>4.785854</td>\n",
       "      <td>0</td>\n",
       "      <td>0</td>\n",
       "      <td>8.720566</td>\n",
       "      <td>2.101003</td>\n",
       "      <td>4.202006</td>\n",
       "      <td>8.720566</td>\n",
       "      <td>1.245795</td>\n",
       "      <td>2.844305</td>\n",
       "      <td>...</td>\n",
       "      <td>8.124151</td>\n",
       "      <td>33.544698</td>\n",
       "      <td>94.041865</td>\n",
       "      <td>7.233990</td>\n",
       "      <td>42</td>\n",
       "      <td>5</td>\n",
       "      <td>30.0</td>\n",
       "      <td>31.0</td>\n",
       "      <td>2.361111</td>\n",
       "      <td>1.666667</td>\n",
       "    </tr>\n",
       "    <tr>\n",
       "      <th>2</th>\n",
       "      <td>5.059137</td>\n",
       "      <td>4.785854</td>\n",
       "      <td>0</td>\n",
       "      <td>0</td>\n",
       "      <td>8.720566</td>\n",
       "      <td>2.101003</td>\n",
       "      <td>4.202006</td>\n",
       "      <td>8.720566</td>\n",
       "      <td>1.245795</td>\n",
       "      <td>2.844305</td>\n",
       "      <td>...</td>\n",
       "      <td>8.124151</td>\n",
       "      <td>33.544698</td>\n",
       "      <td>93.057849</td>\n",
       "      <td>6.646989</td>\n",
       "      <td>42</td>\n",
       "      <td>5</td>\n",
       "      <td>30.0</td>\n",
       "      <td>31.0</td>\n",
       "      <td>2.361111</td>\n",
       "      <td>1.666667</td>\n",
       "    </tr>\n",
       "  </tbody>\n",
       "</table>\n",
       "<p>3 rows × 1613 columns</p>\n",
       "</div>"
      ],
      "text/plain": [
       "        ABC     ABCGG  nAcid  nBase   SpAbs_A   SpMax_A  SpDiam_A    SpAD_A  \\\n",
       "0  5.059137  4.785854      0      0  8.720566  2.101003  4.202006  8.720566   \n",
       "1  5.059137  4.785854      0      0  8.720566  2.101003  4.202006  8.720566   \n",
       "2  5.059137  4.785854      0      0  8.720566  2.101003  4.202006  8.720566   \n",
       "\n",
       "    SpMAD_A   LogEE_A  ...     SRW10     TSRW10          MW       AMW  WPath  \\\n",
       "0  1.245795  2.844305  ...  8.124151  33.544698  112.007978  9.333998     42   \n",
       "1  1.245795  2.844305  ...  8.124151  33.544698   94.041865  7.233990     42   \n",
       "2  1.245795  2.844305  ...  8.124151  33.544698   93.057849  6.646989     42   \n",
       "\n",
       "   WPol  Zagreb1  Zagreb2  mZagreb1  mZagreb2  \n",
       "0     5     30.0     31.0  2.361111  1.666667  \n",
       "1     5     30.0     31.0  2.361111  1.666667  \n",
       "2     5     30.0     31.0  2.361111  1.666667  \n",
       "\n",
       "[3 rows x 1613 columns]"
      ]
     },
     "execution_count": 6,
     "metadata": {},
     "output_type": "execute_result"
    }
   ],
   "source": [
    "df"
   ]
  }
 ],
 "metadata": {
  "kernelspec": {
   "display_name": "Python 3",
   "language": "python",
   "name": "python3"
  },
  "language_info": {
   "codemirror_mode": {
    "name": "ipython",
    "version": 3
   },
   "file_extension": ".py",
   "mimetype": "text/x-python",
   "name": "python",
   "nbconvert_exporter": "python",
   "pygments_lexer": "ipython3",
   "version": "3.7.5"
  }
 },
 "nbformat": 4,
 "nbformat_minor": 4
}
