{
 "cells": [
  {
   "cell_type": "code",
   "execution_count": 1,
   "metadata": {},
   "outputs": [],
   "source": [
    "# [ケモインフォマティクスで多様な化合物ライブラリーを構築する | 化学の新しいカタチ](https://future-chem.com/diversified-library/)\n",
    "# https://future-chem.com/diversified-library/"
   ]
  },
  {
   "cell_type": "code",
   "execution_count": 30,
   "metadata": {},
   "outputs": [],
   "source": [
    "from rdkit import rdBase, Chem, DataStructs\n",
    "from rdkit.Chem import AllChem, Draw\n",
    "from rdkit.SimDivFilters.rdSimDivPickers import HierarchicalClusterPicker, ClusterMethod\n",
    "import numpy as np\n",
    "\n"
   ]
  },
  {
   "cell_type": "code",
   "execution_count": 38,
   "metadata": {},
   "outputs": [],
   "source": [
    "# below platinum dataset is got from \n",
    "# suppl = Chem.SDMolSupplier('./sdf/platinum_dataset_2017_01.sdf')\n",
    "\n",
    "# I got below sample data from below URL (Japanese blog)\n",
    "# [これであなたもデータサイエンティスト！？～Python入門のためのプログラミング課題と模範解答～(逐次更新)](https://datachemeng.com/pythonassignment/)\n",
    "suppl = Chem.SDMolSupplier('./sdf/logSdataset1290_2d.sdf')\n",
    "\n",
    "# you can down load ChEMBLab sdf data from below\n",
    "# [ChEMBL Database](https://www.ebi.ac.uk/chembl/)\n",
    "# [Index of /pub/databases/chembl/ChEMBLdb/latest/](ftp://ftp.ebi.ac.uk/pub/databases/chembl/ChEMBLdb/latest/)\n",
    "# suppl = Chem.SDMolSupplier('./sdf/')\n",
    "\n",
    "\n",
    "mols = [x for x in suppl if x is not None]\n"
   ]
  },
  {
   "cell_type": "code",
   "execution_count": 39,
   "metadata": {
    "scrolled": false
   },
   "outputs": [
    {
     "name": "stdout",
     "output_type": "stream",
     "text": [
      "CAS_Number: 60-35-5\n",
      "logS: 1.58\n"
     ]
    }
   ],
   "source": [
    "for prop in suppl[0].GetPropNames():\n",
    "    print('{}: {}'.format(prop, mols[0].GetProp(prop)))\n",
    "#     print(prop)\n",
    "# print(len(mols))"
   ]
  },
  {
   "cell_type": "code",
   "execution_count": 40,
   "metadata": {},
   "outputs": [
    {
     "name": "stdout",
     "output_type": "stream",
     "text": [
      "1290\n"
     ]
    }
   ],
   "source": [
    "print(len(mols))"
   ]
  },
  {
   "cell_type": "code",
   "execution_count": 44,
   "metadata": {},
   "outputs": [
    {
     "data": {
      "text/plain": [
       "'60-35-5'"
      ]
     },
     "execution_count": 44,
     "metadata": {},
     "output_type": "execute_result"
    }
   ],
   "source": [
    "# PUBCHEM_COMPOUND_CID\n",
    "# mols[0].GetProp(\"PUBCHEM_COMPOUND_CID\")\n",
    "mols[0].GetProp(\"CAS_Number\")"
   ]
  },
  {
   "cell_type": "code",
   "execution_count": 45,
   "metadata": {},
   "outputs": [],
   "source": [
    "# create finger print\n",
    "morgan_fps = [AllChem.GetMorganFingerprintAsBitVect(m, 2, 2048) for m in mols]"
   ]
  },
  {
   "cell_type": "code",
   "execution_count": 50,
   "metadata": {},
   "outputs": [
    {
     "data": {
      "text/plain": [
       "[492, 785, 715, 554, 366, 874]"
      ]
     },
     "execution_count": 50,
     "metadata": {},
     "output_type": "execute_result"
    }
   ],
   "source": [
    "# calculate distance matrix\n",
    "dis_mat = []\n",
    "for i in range(1, 1000):\n",
    "    dis_mat.extend(DataStructs.BulkTanimotoSimilarity(morgan_fps[i], morgan_fps[:i], returnDistance=True))\n",
    "\n",
    "### create  HierarchicalClusterPicker instance\n",
    "ward = HierarchicalClusterPicker(ClusterMethod.WARD)\n",
    "ids = ward.Pick(np.array(dis_mat), 1000, 6)\n",
    "list(ids)"
   ]
  }
 ],
 "metadata": {
  "kernelspec": {
   "display_name": "Python 3",
   "language": "python",
   "name": "python3"
  },
  "language_info": {
   "codemirror_mode": {
    "name": "ipython",
    "version": 3
   },
   "file_extension": ".py",
   "mimetype": "text/x-python",
   "name": "python",
   "nbconvert_exporter": "python",
   "pygments_lexer": "ipython3",
   "version": "3.7.5"
  }
 },
 "nbformat": 4,
 "nbformat_minor": 2
}
