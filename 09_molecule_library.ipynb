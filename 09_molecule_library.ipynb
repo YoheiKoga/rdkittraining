{
 "cells": [
  {
   "cell_type": "code",
   "execution_count": 1,
   "metadata": {},
   "outputs": [],
   "source": [
    "# [ケモインフォマティクスで多様な化合物ライブラリーを構築する | 化学の新しいカタチ](https://future-chem.com/diversified-library/)\n",
    "# https://future-chem.com/diversified-library/"
   ]
  },
  {
   "cell_type": "code",
   "execution_count": 11,
   "metadata": {},
   "outputs": [],
   "source": [
    "from rdkit import rdBase, Chem, DataStructs\n",
    "from rdkit.Chem import AllChem, Draw\n",
    "import numpy as np\n",
    "\n"
   ]
  },
  {
   "cell_type": "code",
   "execution_count": 50,
   "metadata": {},
   "outputs": [],
   "source": [
    "# suppl = Chem.SDMolSupplier('./sdf/platinum_dataset_2017_01.sdf')\n",
    "suppl = Chem.SDMolSupplier('./sdf/Structure2D_CID_2244.sdf')\n",
    "mols = [x for x in suppl if x is not None]\n"
   ]
  },
  {
   "cell_type": "code",
   "execution_count": 54,
   "metadata": {
    "scrolled": false
   },
   "outputs": [
    {
     "name": "stdout",
     "output_type": "stream",
     "text": [
      "PUBCHEM_COMPOUND_CID: 2244\n",
      "PUBCHEM_COMPOUND_CANONICALIZED: 1\n",
      "PUBCHEM_CACTVS_COMPLEXITY: 212\n",
      "PUBCHEM_CACTVS_HBOND_ACCEPTOR: 4\n",
      "PUBCHEM_CACTVS_HBOND_DONOR: 1\n",
      "PUBCHEM_CACTVS_ROTATABLE_BOND: 3\n",
      "PUBCHEM_CACTVS_SUBSKEYS: AAADccBwOAAAAAAAAAAAAAAAAAAAAAAAAAAwAAAAAAAAAAABAAAAGgAACAAADASAmAAyDoAABgCIAiDSCAACCAAkIAAIiAEGCMgMJzaENRqCe2Cl4BEIuYeIyCCOAAAAAAAIAAAAAAAAABAAAAAAAAAAAA==\n",
      "PUBCHEM_IUPAC_OPENEYE_NAME: 2-acetoxybenzoic acid\n",
      "PUBCHEM_IUPAC_CAS_NAME: 2-acetyloxybenzoic acid\n",
      "PUBCHEM_IUPAC_NAME_MARKUP: 2-acetyloxybenzoic acid\n",
      "PUBCHEM_IUPAC_NAME: 2-acetyloxybenzoic acid\n",
      "PUBCHEM_IUPAC_SYSTEMATIC_NAME: 2-acetyloxybenzoic acid\n",
      "PUBCHEM_IUPAC_TRADITIONAL_NAME: 2-acetoxybenzoic acid\n",
      "PUBCHEM_IUPAC_INCHI: InChI=1S/C9H8O4/c1-6(10)13-8-5-3-2-4-7(8)9(11)12/h2-5H,1H3,(H,11,12)\n",
      "PUBCHEM_IUPAC_INCHIKEY: BSYNRYMUTXBXSQ-UHFFFAOYSA-N\n",
      "PUBCHEM_XLOGP3: 1.2\n",
      "PUBCHEM_EXACT_MASS: 180.042259\n",
      "PUBCHEM_MOLECULAR_FORMULA: C9H8O4\n",
      "PUBCHEM_MOLECULAR_WEIGHT: 180.16\n",
      "PUBCHEM_OPENEYE_CAN_SMILES: CC(=O)OC1=CC=CC=C1C(=O)O\n",
      "PUBCHEM_OPENEYE_ISO_SMILES: CC(=O)OC1=CC=CC=C1C(=O)O\n",
      "PUBCHEM_CACTVS_TPSA: 63.6\n",
      "PUBCHEM_MONOISOTOPIC_WEIGHT: 180.042259\n",
      "PUBCHEM_TOTAL_CHARGE: 0\n",
      "PUBCHEM_HEAVY_ATOM_COUNT: 13\n",
      "PUBCHEM_ATOM_DEF_STEREO_COUNT: 0\n",
      "PUBCHEM_ATOM_UDEF_STEREO_COUNT: 0\n",
      "PUBCHEM_BOND_DEF_STEREO_COUNT: 0\n",
      "PUBCHEM_BOND_UDEF_STEREO_COUNT: 0\n",
      "PUBCHEM_ISOTOPIC_ATOM_COUNT: 0\n",
      "PUBCHEM_COMPONENT_COUNT: 1\n",
      "PUBCHEM_CACTVS_TAUTO_COUNT: -1\n",
      "PUBCHEM_COORDINATE_TYPE: 1\n",
      "5\n",
      "255\n",
      "PUBCHEM_BONDANNOTATIONS: 5  6  8\n",
      "5  7  8\n",
      "6  8  8\n",
      "7  9  8\n",
      "8  10  8\n",
      "9  10  8\n"
     ]
    }
   ],
   "source": [
    "for prop in suppl[0].GetPropNames():\n",
    "    print('{}: {}'.format(prop, mols[0].GetProp(prop)))\n",
    "#     print(prop)\n",
    "# print(len(mols))"
   ]
  },
  {
   "cell_type": "code",
   "execution_count": 56,
   "metadata": {},
   "outputs": [
    {
     "data": {
      "text/plain": [
       "'2244'"
      ]
     },
     "execution_count": 56,
     "metadata": {},
     "output_type": "execute_result"
    }
   ],
   "source": [
    "# PUBCHEM_COMPOUND_CID\n",
    "mols[0].GetProp(\"PUBCHEM_COMPOUND_CID\")"
   ]
  },
  {
   "cell_type": "code",
   "execution_count": 58,
   "metadata": {},
   "outputs": [],
   "source": [
    "# create finger print\n",
    "morgan_fps = [AllChem.GetMorganFingerprintAsBitVect(m, 2, 2048) for m in mols]"
   ]
  }
 ],
 "metadata": {
  "kernelspec": {
   "display_name": "Python 3",
   "language": "python",
   "name": "python3"
  },
  "language_info": {
   "codemirror_mode": {
    "name": "ipython",
    "version": 3
   },
   "file_extension": ".py",
   "mimetype": "text/x-python",
   "name": "python",
   "nbconvert_exporter": "python",
   "pygments_lexer": "ipython3",
   "version": "3.7.5"
  }
 },
 "nbformat": 4,
 "nbformat_minor": 2
}
