{
 "cells": [
  {
   "cell_type": "code",
   "execution_count": 1,
   "metadata": {},
   "outputs": [
    {
     "name": "stderr",
     "output_type": "stream",
     "text": [
      "RDKit WARNING: [13:32:11] Enabling RDKit 2019.09.2 jupyter extensions\n"
     ]
    }
   ],
   "source": [
    "# [RDKitによる3次元構造の生成 | 化学の新しいカタチ](https://future-chem.com/rdkit-3dstruct/)\n",
    "from rdkit import rdBase, Chem\n",
    "from rdkit.Chem import AllChem, Draw\n",
    "from rdkit.Chem.Draw import IPythonConsole\n",
    "import sys, py3Dmol\n",
    "import pandas as pd"
   ]
  },
  {
   "cell_type": "code",
   "execution_count": 2,
   "metadata": {},
   "outputs": [
    {
     "name": "stdout",
     "output_type": "stream",
     "text": [
      "3.7.5 (default, Oct 25 2019, 10:52:18) \n",
      "[Clang 4.0.1 (tags/RELEASE_401/final)]\n",
      "2019.09.2\n"
     ]
    }
   ],
   "source": [
    "print(sys.version)\n",
    "print(rdBase.rdkitVersion)"
   ]
  },
  {
   "cell_type": "code",
   "execution_count": 3,
   "metadata": {},
   "outputs": [
    {
     "data": {
      "text/plain": [
       "4548"
      ]
     },
     "execution_count": 3,
     "metadata": {},
     "output_type": "execute_result"
    }
   ],
   "source": [
    "# The Platinum Dataset is downloaded from below link\n",
    "# [Servers & Datasets](https://comp3d.univie.ac.at/servers-datasets/#c523270)\n",
    "# read molecule\n",
    "suppl = Chem.SDMolSupplier('./sdf/platinum_dataset_2017_01.sdf', removeHs=False)\n",
    "mols = [x for x in suppl if x is not None]\n",
    "len(mols)"
   ]
  },
  {
   "cell_type": "code",
   "execution_count": 5,
   "metadata": {},
   "outputs": [],
   "source": [
    "# re-building molecules by exchange SMILES\n",
    "smiles = [Chem.MolToSmiles(m) for m in mols]\n",
    "mols_from_sm = [Chem.MolFromSmiles(sm) for sm in smiles]\n",
    "mols_from_sm = mols_from_sm[0:2]  # mols_from_sm is too long so adjusted"
   ]
  },
  {
   "cell_type": "code",
   "execution_count": 9,
   "metadata": {},
   "outputs": [],
   "source": [
    "### create 3D object for each way\n",
    "\n",
    "def DG(mols):\n",
    "    DG_uff = []\n",
    "    for mol in mols:\n",
    "        mh = Chem.AddHs(mol)\n",
    "        AllChem.EmbedMolecule(mh, useBasicKnowledge=False, useExpTorsionAnglePrefs=False)\n",
    "        if AllChem.UFFHasAllMoleculeParams(mh):\n",
    "            AllChem.UFFOptimizeMolecule(mh)\n",
    "            DG_uff.append(mh)\n",
    "    return DG_uff\n",
    "\n",
    "def ETDG(mols):\n",
    "    ETDG_mols = []\n",
    "    for mol in mols:\n",
    "        mh = Chem.AddHs(mol)\n",
    "        AllChem.EmbedMolecule(mh, AllChem.ETDG())\n",
    "        ETDG_mols.append(mh)\n",
    "    return ETDG_mols\n",
    "\n",
    "def ETKDG(mols, version=1):\n",
    "    ETKDG_mols = []\n",
    "    for mol in mols:\n",
    "        mh = Chem.AddHs(mol)\n",
    "        if version == 1:\n",
    "            p = AllChem.ETKDG()\n",
    "        elif version == 2:\n",
    "            p = AllChem.ETKDGv2()\n",
    "        else:\n",
    "            print('invalid input')\n",
    "        AllChem.EmbedMolecule(mh, p)\n",
    "        ETKDG_mols.append(mh)\n",
    "    return ETKDG_mols\n",
    "\n",
    "# DG_m = DG(mols_from_sm)\n",
    "# ETDG_m = ETDG(mols_from_sm)\n",
    "# ETKDGv1_m = ETKDG(mols_from_sm)\n",
    "# ETKDGv2_m = ETKDG(mols_from_sm, 2)\n",
    "\n",
    "# # get crystal structure and RMDS\n",
    "# RMSD = []\n",
    "# for mol, dg, etdg, etkdg1, etkdg2 in zip(mols, DG_m, ETDG_m, ETKDGv1_m, ETKDGv2_m):\n",
    "#     DG_rms = AllChem.GetBestRMS(mol, dg)\n",
    "#     ETDG_rms = AllChem.GetBestRMS(mol, etdg)\n",
    "#     ETKDG1_rms = AllChem.GetBestRMS(mol, etkdg1)\n",
    "#     ETKDG2_rms = AllChem.GetBestRMS(mol, etkdg2)\n",
    "#     RMSD.append((DG_rms, ETDG_rms, ETKDG1_rms, ETKDG2_rms))\n",
    "# RMSD = pd.DataFrame(RMSD, columns=['DG+UFF', 'ETDG', 'ETKDG', 'ETKDGv2'])\n",
    "# RMSD.describe().round(2)"
   ]
  },
  {
   "cell_type": "code",
   "execution_count": 7,
   "metadata": {},
   "outputs": [],
   "source": [
    "DG_m = DG(mols_from_sm)\n",
    "ETDG_m = ETDG(mols_from_sm)\n",
    "ETKDGv1_m = ETKDG(mols_from_sm)\n",
    "ETKDGv2_m = ETKDG(mols_from_sm, 2)"
   ]
  },
  {
   "cell_type": "code",
   "execution_count": 10,
   "metadata": {},
   "outputs": [
    {
     "data": {
      "text/html": [
       "<div>\n",
       "<style scoped>\n",
       "    .dataframe tbody tr th:only-of-type {\n",
       "        vertical-align: middle;\n",
       "    }\n",
       "\n",
       "    .dataframe tbody tr th {\n",
       "        vertical-align: top;\n",
       "    }\n",
       "\n",
       "    .dataframe thead th {\n",
       "        text-align: right;\n",
       "    }\n",
       "</style>\n",
       "<table border=\"1\" class=\"dataframe\">\n",
       "  <thead>\n",
       "    <tr style=\"text-align: right;\">\n",
       "      <th></th>\n",
       "      <th>DG+UFF</th>\n",
       "      <th>ETDG</th>\n",
       "      <th>ETKDG</th>\n",
       "      <th>ETKDGv2</th>\n",
       "    </tr>\n",
       "  </thead>\n",
       "  <tbody>\n",
       "    <tr>\n",
       "      <th>count</th>\n",
       "      <td>2.00</td>\n",
       "      <td>2.00</td>\n",
       "      <td>2.00</td>\n",
       "      <td>2.00</td>\n",
       "    </tr>\n",
       "    <tr>\n",
       "      <th>mean</th>\n",
       "      <td>2.75</td>\n",
       "      <td>2.62</td>\n",
       "      <td>3.08</td>\n",
       "      <td>3.10</td>\n",
       "    </tr>\n",
       "    <tr>\n",
       "      <th>std</th>\n",
       "      <td>0.47</td>\n",
       "      <td>0.36</td>\n",
       "      <td>0.80</td>\n",
       "      <td>0.84</td>\n",
       "    </tr>\n",
       "    <tr>\n",
       "      <th>min</th>\n",
       "      <td>2.42</td>\n",
       "      <td>2.37</td>\n",
       "      <td>2.51</td>\n",
       "      <td>2.51</td>\n",
       "    </tr>\n",
       "    <tr>\n",
       "      <th>25%</th>\n",
       "      <td>2.58</td>\n",
       "      <td>2.50</td>\n",
       "      <td>2.79</td>\n",
       "      <td>2.80</td>\n",
       "    </tr>\n",
       "    <tr>\n",
       "      <th>50%</th>\n",
       "      <td>2.75</td>\n",
       "      <td>2.62</td>\n",
       "      <td>3.08</td>\n",
       "      <td>3.10</td>\n",
       "    </tr>\n",
       "    <tr>\n",
       "      <th>75%</th>\n",
       "      <td>2.91</td>\n",
       "      <td>2.75</td>\n",
       "      <td>3.36</td>\n",
       "      <td>3.39</td>\n",
       "    </tr>\n",
       "    <tr>\n",
       "      <th>max</th>\n",
       "      <td>3.08</td>\n",
       "      <td>2.88</td>\n",
       "      <td>3.64</td>\n",
       "      <td>3.69</td>\n",
       "    </tr>\n",
       "  </tbody>\n",
       "</table>\n",
       "</div>"
      ],
      "text/plain": [
       "       DG+UFF  ETDG  ETKDG  ETKDGv2\n",
       "count    2.00  2.00   2.00     2.00\n",
       "mean     2.75  2.62   3.08     3.10\n",
       "std      0.47  0.36   0.80     0.84\n",
       "min      2.42  2.37   2.51     2.51\n",
       "25%      2.58  2.50   2.79     2.80\n",
       "50%      2.75  2.62   3.08     3.10\n",
       "75%      2.91  2.75   3.36     3.39\n",
       "max      3.08  2.88   3.64     3.69"
      ]
     },
     "execution_count": 10,
     "metadata": {},
     "output_type": "execute_result"
    }
   ],
   "source": [
    "# get crystal structure and RMDS\n",
    "RMSD = []\n",
    "for mol, dg, etdg, etkdg1, etkdg2 in zip(mols, DG_m, ETDG_m, ETKDGv1_m, ETKDGv2_m):\n",
    "    DG_rms = AllChem.GetBestRMS(mol, dg)\n",
    "    ETDG_rms = AllChem.GetBestRMS(mol, etdg)\n",
    "    ETKDG1_rms = AllChem.GetBestRMS(mol, etkdg1)\n",
    "    ETKDG2_rms = AllChem.GetBestRMS(mol, etkdg2)\n",
    "    RMSD.append((DG_rms, ETDG_rms, ETKDG1_rms, ETKDG2_rms))\n",
    "RMSD = pd.DataFrame(RMSD, columns=['DG+UFF', 'ETDG', 'ETKDG', 'ETKDGv2'])\n",
    "RMSD.describe().round(2)"
   ]
  },
  {
   "cell_type": "code",
   "execution_count": 13,
   "metadata": {},
   "outputs": [
    {
     "data": {
      "application/3dmoljs_load.v0": "<div id=\"3dmolviewer_1582520318412521\"  style=\"position: relative; width: 400px; height: 400px\">\n        <p id=\"3dmolwarning_1582520318412521\" style=\"background-color:#ffcccc;color:black\">You appear to be running in JupyterLab (or JavaScript failed to load for some other reason).  You need to install the 3dmol extension: <br>\n        <tt>jupyter labextension install jupyterlab_3dmol</tt></p>\n        </div>\n<script>\n\nvar loadScriptAsync = function(uri){\n  return new Promise((resolve, reject) => {\n    var tag = document.createElement('script');\n    tag.src = uri;\n    tag.async = true;\n    tag.onload = () => {\n      resolve();\n    };\n  var firstScriptTag = document.getElementsByTagName('script')[0];\n  firstScriptTag.parentNode.insertBefore(tag, firstScriptTag);\n});\n};\n\nif(typeof $3Dmolpromise === 'undefined') {\n$3Dmolpromise = null;\n  $3Dmolpromise = loadScriptAsync('https://3dmol.csb.pitt.edu/build/3Dmol.js');\n}\n\nvar viewer_1582520318412521 = null;\nvar warn = document.getElementById(\"3dmolwarning_1582520318412521\");\nif(warn) {\n    warn.parentNode.removeChild(warn);\n}\n$3Dmolpromise.then(function() {\nviewer_1582520318412521 = $3Dmol.createViewer($(\"#3dmolviewer_1582520318412521\"),{backgroundColor:\"white\"});\n\tviewer_1582520318412521.removeAllModels();\n\tviewer_1582520318412521.addModel(\"ZZZ_2CFI_A\\n     RDKit          3D\\n\\n 23 24  0  0  0  0  0  0  0  0999 V2000\\n   31.7880   11.3830   17.4660 C   0  0  0  0  0  0  0  0  0  0  0  0\\n   32.1210   12.6740   18.0640 N   0  0  0  0  0  0  0  0  0  0  0  0\\n   33.4060   13.0140   18.2590 C   0  0  0  0  0  0  0  0  0  0  0  0\\n   33.7710   14.2890   18.4640 N   0  0  0  0  0  0  0  0  0  0  0  0\\n   35.0880   14.5950   18.6190 C   0  0  0  0  0  0  0  0  0  0  0  0\\n   35.4450   15.8900   18.8560 N   0  0  0  0  0  0  0  0  0  0  0  0\\n   34.4410   11.9640   18.1430 C   0  0  0  0  0  0  0  0  0  0  0  0\\n   35.8380   12.3870   18.3060 C   0  0  0  0  0  0  0  0  0  0  0  0\\n   36.0660   13.6830   18.5360 N   0  0  0  0  0  0  0  0  0  0  0  0\\n   36.7950   11.5770   18.2280 O   0  0  0  0  0  0  0  0  0  0  0  0\\n   34.0550   10.6280   17.8970 N   0  0  0  0  0  0  0  0  0  0  0  0\\n   32.6410   10.2500   18.0300 C   0  0  0  0  0  0  0  0  0  0  0  0\\n   32.2140   10.1020   19.4790 C   0  0  0  0  0  0  0  0  0  0  0  0\\n   31.0550    9.6900   19.7130 O   0  0  0  0  0  0  0  0  0  0  0  0\\n   31.9367   11.4374   16.4786 H   0  0  0  0  0  0  0  0  0  0  0  0\\n   30.8253   11.1826   17.6476 H   0  0  0  0  0  0  0  0  0  0  0  0\\n   31.3917   13.3050   18.3284 H   0  0  0  0  0  0  0  0  0  0  0  0\\n   36.4089   16.1297   18.9720 H   0  0  0  0  0  0  0  0  0  0  0  0\\n   34.7428   16.5997   18.9138 H   0  0  0  0  0  0  0  0  0  0  0  0\\n   34.7373    9.9456   17.6348 H   0  0  0  0  0  0  0  0  0  0  0  0\\n   32.4624    9.4026   17.5300 H   0  0  0  0  0  0  0  0  0  0  0  0\\n   32.8403   10.3271   20.2253 H   0  0  0  0  0  0  0  0  0  0  0  0\\n   37.0116   13.9869   18.6517 H   0  0  0  0  0  0  0  0  0  0  0  0\\n  1  2  1  0\\n  1 12  1  0\\n  2  3  1  0\\n  3  4  1  0\\n  3  7  2  0\\n  4  5  2  0\\n  5  6  1  0\\n  5  9  1  0\\n  7  8  1  0\\n  7 11  1  0\\n  8  9  1  0\\n  8 10  2  0\\n 11 12  1  0\\n 12 13  1  0\\n 13 14  2  0\\n  1 15  1  0\\n  1 16  1  0\\n  2 17  1  0\\n 13 22  1  0\\n  6 18  1  0\\n  6 19  1  0\\n 11 20  1  0\\n 12 21  1  0\\n  9 23  1  0\\nM  END\\n\",\"sdf\");\n\tviewer_1582520318412521.setStyle({\"stick\": {}});\n\tviewer_1582520318412521.setBackgroundColor(\"0xeeeeee\");\n\tviewer_1582520318412521.zoomTo();\nviewer_1582520318412521.render();\n});\n</script>",
      "text/html": [
       "<div id=\"3dmolviewer_1582520318412521\"  style=\"position: relative; width: 400px; height: 400px\">\n",
       "        <p id=\"3dmolwarning_1582520318412521\" style=\"background-color:#ffcccc;color:black\">You appear to be running in JupyterLab (or JavaScript failed to load for some other reason).  You need to install the 3dmol extension: <br>\n",
       "        <tt>jupyter labextension install jupyterlab_3dmol</tt></p>\n",
       "        </div>\n",
       "<script>\n",
       "\n",
       "var loadScriptAsync = function(uri){\n",
       "  return new Promise((resolve, reject) => {\n",
       "    var tag = document.createElement('script');\n",
       "    tag.src = uri;\n",
       "    tag.async = true;\n",
       "    tag.onload = () => {\n",
       "      resolve();\n",
       "    };\n",
       "  var firstScriptTag = document.getElementsByTagName('script')[0];\n",
       "  firstScriptTag.parentNode.insertBefore(tag, firstScriptTag);\n",
       "});\n",
       "};\n",
       "\n",
       "if(typeof $3Dmolpromise === 'undefined') {\n",
       "$3Dmolpromise = null;\n",
       "  $3Dmolpromise = loadScriptAsync('https://3dmol.csb.pitt.edu/build/3Dmol.js');\n",
       "}\n",
       "\n",
       "var viewer_1582520318412521 = null;\n",
       "var warn = document.getElementById(\"3dmolwarning_1582520318412521\");\n",
       "if(warn) {\n",
       "    warn.parentNode.removeChild(warn);\n",
       "}\n",
       "$3Dmolpromise.then(function() {\n",
       "viewer_1582520318412521 = $3Dmol.createViewer($(\"#3dmolviewer_1582520318412521\"),{backgroundColor:\"white\"});\n",
       "\tviewer_1582520318412521.removeAllModels();\n",
       "\tviewer_1582520318412521.addModel(\"ZZZ_2CFI_A\\n     RDKit          3D\\n\\n 23 24  0  0  0  0  0  0  0  0999 V2000\\n   31.7880   11.3830   17.4660 C   0  0  0  0  0  0  0  0  0  0  0  0\\n   32.1210   12.6740   18.0640 N   0  0  0  0  0  0  0  0  0  0  0  0\\n   33.4060   13.0140   18.2590 C   0  0  0  0  0  0  0  0  0  0  0  0\\n   33.7710   14.2890   18.4640 N   0  0  0  0  0  0  0  0  0  0  0  0\\n   35.0880   14.5950   18.6190 C   0  0  0  0  0  0  0  0  0  0  0  0\\n   35.4450   15.8900   18.8560 N   0  0  0  0  0  0  0  0  0  0  0  0\\n   34.4410   11.9640   18.1430 C   0  0  0  0  0  0  0  0  0  0  0  0\\n   35.8380   12.3870   18.3060 C   0  0  0  0  0  0  0  0  0  0  0  0\\n   36.0660   13.6830   18.5360 N   0  0  0  0  0  0  0  0  0  0  0  0\\n   36.7950   11.5770   18.2280 O   0  0  0  0  0  0  0  0  0  0  0  0\\n   34.0550   10.6280   17.8970 N   0  0  0  0  0  0  0  0  0  0  0  0\\n   32.6410   10.2500   18.0300 C   0  0  0  0  0  0  0  0  0  0  0  0\\n   32.2140   10.1020   19.4790 C   0  0  0  0  0  0  0  0  0  0  0  0\\n   31.0550    9.6900   19.7130 O   0  0  0  0  0  0  0  0  0  0  0  0\\n   31.9367   11.4374   16.4786 H   0  0  0  0  0  0  0  0  0  0  0  0\\n   30.8253   11.1826   17.6476 H   0  0  0  0  0  0  0  0  0  0  0  0\\n   31.3917   13.3050   18.3284 H   0  0  0  0  0  0  0  0  0  0  0  0\\n   36.4089   16.1297   18.9720 H   0  0  0  0  0  0  0  0  0  0  0  0\\n   34.7428   16.5997   18.9138 H   0  0  0  0  0  0  0  0  0  0  0  0\\n   34.7373    9.9456   17.6348 H   0  0  0  0  0  0  0  0  0  0  0  0\\n   32.4624    9.4026   17.5300 H   0  0  0  0  0  0  0  0  0  0  0  0\\n   32.8403   10.3271   20.2253 H   0  0  0  0  0  0  0  0  0  0  0  0\\n   37.0116   13.9869   18.6517 H   0  0  0  0  0  0  0  0  0  0  0  0\\n  1  2  1  0\\n  1 12  1  0\\n  2  3  1  0\\n  3  4  1  0\\n  3  7  2  0\\n  4  5  2  0\\n  5  6  1  0\\n  5  9  1  0\\n  7  8  1  0\\n  7 11  1  0\\n  8  9  1  0\\n  8 10  2  0\\n 11 12  1  0\\n 12 13  1  0\\n 13 14  2  0\\n  1 15  1  0\\n  1 16  1  0\\n  2 17  1  0\\n 13 22  1  0\\n  6 18  1  0\\n  6 19  1  0\\n 11 20  1  0\\n 12 21  1  0\\n  9 23  1  0\\nM  END\\n\",\"sdf\");\n",
       "\tviewer_1582520318412521.setStyle({\"stick\": {}});\n",
       "\tviewer_1582520318412521.setBackgroundColor(\"0xeeeeee\");\n",
       "\tviewer_1582520318412521.zoomTo();\n",
       "viewer_1582520318412521.render();\n",
       "});\n",
       "</script>"
      ]
     },
     "metadata": {},
     "output_type": "display_data"
    }
   ],
   "source": [
    "IPythonConsole.drawMol3D(mols[-1])"
   ]
  },
  {
   "cell_type": "code",
   "execution_count": 15,
   "metadata": {},
   "outputs": [
    {
     "data": {
      "application/3dmoljs_load.v0": "<div id=\"3dmolviewer_15825205073297029\"  style=\"position: relative; width: 400px; height: 400px\">\n        <p id=\"3dmolwarning_15825205073297029\" style=\"background-color:#ffcccc;color:black\">You appear to be running in JupyterLab (or JavaScript failed to load for some other reason).  You need to install the 3dmol extension: <br>\n        <tt>jupyter labextension install jupyterlab_3dmol</tt></p>\n        </div>\n<script>\n\nvar loadScriptAsync = function(uri){\n  return new Promise((resolve, reject) => {\n    var tag = document.createElement('script');\n    tag.src = uri;\n    tag.async = true;\n    tag.onload = () => {\n      resolve();\n    };\n  var firstScriptTag = document.getElementsByTagName('script')[0];\n  firstScriptTag.parentNode.insertBefore(tag, firstScriptTag);\n});\n};\n\nif(typeof $3Dmolpromise === 'undefined') {\n$3Dmolpromise = null;\n  $3Dmolpromise = loadScriptAsync('https://3dmol.csb.pitt.edu/build/3Dmol.js');\n}\n\nvar viewer_15825205073297029 = null;\nvar warn = document.getElementById(\"3dmolwarning_15825205073297029\");\nif(warn) {\n    warn.parentNode.removeChild(warn);\n}\n$3Dmolpromise.then(function() {\nviewer_15825205073297029 = $3Dmol.createViewer($(\"#3dmolviewer_15825205073297029\"),{backgroundColor:\"white\"});\n\tviewer_15825205073297029.addModel(\"\\n     RDKit          3D\\n\\n 58 62  0  0  0  0  0  0  0  0999 V2000\\n   -0.0110   -5.7759    0.6987 C   0  0  0  0  0  0  0  0  0  0  0  0\\n    0.4671   -6.0902   -0.5349 N   0  0  0  0  0  0  0  0  0  0  0  0\\n    0.7424   -5.1307   -1.4583 C   0  0  0  0  0  0  0  0  0  0  0  0\\n    0.5371   -3.7836   -1.1514 C   0  0  0  0  0  0  0  0  0  0  0  0\\n    0.0528   -3.4328    0.1150 C   0  0  0  0  0  0  0  0  0  0  0  0\\n   -0.1769   -2.0182    0.4586 C   0  0  0  0  0  0  0  0  0  0  0  0\\n   -1.3903   -1.4307    0.7613 C   0  0  0  0  0  0  0  0  0  0  0  0\\n   -2.6989   -1.8833    0.8143 C   0  0  0  0  0  0  0  0  0  0  0  0\\n   -2.9704   -3.0837    0.5364 O   0  0  0  0  0  0  0  0  0  0  0  0\\n   -3.6837   -0.9900    1.1690 N   0  0  0  0  0  0  0  0  0  0  0  0\\n   -5.0873   -1.4318    1.2261 C   0  0  0  0  0  0  0  0  0  0  0  0\\n   -3.3706    0.3398    1.4024 C   0  0  0  0  0  0  0  0  0  0  0  0\\n   -4.2891    1.1530    1.7041 O   0  0  0  0  0  0  0  0  0  0  0  0\\n   -2.0674    0.7876    1.3096 N   0  0  0  0  0  0  0  0  0  0  0  0\\n   -1.7110    2.2038    1.5388 C   0  0  0  0  0  0  0  0  0  0  0  0\\n   -1.7266    3.0564    0.2447 C   0  0  0  0  0  0  0  0  0  0  0  0\\n   -3.1065    3.0891   -0.4222 C   0  0  0  0  0  0  0  0  0  0  0  0\\n   -0.6523    2.6248   -0.7611 C   0  0  0  0  0  0  0  0  0  0  0  0\\n   -1.1056   -0.1283    1.0108 C   0  0  0  0  0  0  0  0  0  0  0  0\\n    0.2143    0.1009    0.8910 N   0  0  0  0  0  0  0  0  0  0  0  0\\n    0.7769   -1.0522    0.5433 N   0  0  0  0  0  0  0  0  0  0  0  0\\n    2.2246   -1.2108    0.3742 C   0  0  0  0  0  0  0  0  0  0  0  0\\n    2.7476   -0.2188   -0.6449 C   0  0  0  0  0  0  0  0  0  0  0  0\\n    2.9326   -0.6670   -1.9647 C   0  0  0  0  0  0  0  0  0  0  0  0\\n    3.3520    0.2056   -2.9669 C   0  0  0  0  0  0  0  0  0  0  0  0\\n    3.5916    1.5456   -2.6768 C   0  0  0  0  0  0  0  0  0  0  0  0\\n    3.4229    2.0273   -1.3723 C   0  0  0  0  0  0  0  0  0  0  0  0\\n    3.6627    3.3822   -1.0937 C   0  0  0  0  0  0  0  0  0  0  0  0\\n    3.4990    3.8745    0.2006 C   0  0  0  0  0  0  0  0  0  0  0  0\\n    3.1017    3.0212    1.2282 C   0  0  0  0  0  0  0  0  0  0  0  0\\n    2.8606    1.6699    0.9701 C   0  0  0  0  0  0  0  0  0  0  0  0\\n    3.0062    1.1472   -0.3350 C   0  0  0  0  0  0  0  0  0  0  0  0\\n   -0.2299   -4.4406    1.0460 C   0  0  0  0  0  0  0  0  0  0  0  0\\n   -0.2217   -6.5629    1.4104 H   0  0  0  0  0  0  0  0  0  0  0  0\\n    1.1168   -5.4138   -2.4330 H   0  0  0  0  0  0  0  0  0  0  0  0\\n    0.7405   -3.0243   -1.8951 H   0  0  0  0  0  0  0  0  0  0  0  0\\n   -5.5750   -1.2484    0.2456 H   0  0  0  0  0  0  0  0  0  0  0  0\\n   -5.6447   -0.8889    2.0190 H   0  0  0  0  0  0  0  0  0  0  0  0\\n   -5.1643   -2.5120    1.4741 H   0  0  0  0  0  0  0  0  0  0  0  0\\n   -0.7041    2.2733    2.0073 H   0  0  0  0  0  0  0  0  0  0  0  0\\n   -2.4026    2.6586    2.2814 H   0  0  0  0  0  0  0  0  0  0  0  0\\n   -1.4858    4.1001    0.5465 H   0  0  0  0  0  0  0  0  0  0  0  0\\n   -3.8764    3.4263    0.3035 H   0  0  0  0  0  0  0  0  0  0  0  0\\n   -3.1006    3.8061   -1.2708 H   0  0  0  0  0  0  0  0  0  0  0  0\\n   -3.3821    2.0871   -0.8139 H   0  0  0  0  0  0  0  0  0  0  0  0\\n    0.3459    2.6189   -0.2770 H   0  0  0  0  0  0  0  0  0  0  0  0\\n   -0.8710    1.6164   -1.1710 H   0  0  0  0  0  0  0  0  0  0  0  0\\n   -0.6139    3.3435   -1.6071 H   0  0  0  0  0  0  0  0  0  0  0  0\\n    2.7370   -1.0935    1.3504 H   0  0  0  0  0  0  0  0  0  0  0  0\\n    2.4656   -2.2454    0.0523 H   0  0  0  0  0  0  0  0  0  0  0  0\\n    2.7455   -1.7005   -2.2256 H   0  0  0  0  0  0  0  0  0  0  0  0\\n    3.4857   -0.1589   -3.9773 H   0  0  0  0  0  0  0  0  0  0  0  0\\n    3.9102    2.2071   -3.4739 H   0  0  0  0  0  0  0  0  0  0  0  0\\n    3.9757    4.0610   -1.8782 H   0  0  0  0  0  0  0  0  0  0  0  0\\n    3.6831    4.9207    0.4082 H   0  0  0  0  0  0  0  0  0  0  0  0\\n    2.9780    3.4088    2.2313 H   0  0  0  0  0  0  0  0  0  0  0  0\\n    2.5531    1.0544    1.8021 H   0  0  0  0  0  0  0  0  0  0  0  0\\n   -0.6096   -4.1943    2.0301 H   0  0  0  0  0  0  0  0  0  0  0  0\\n  1  2  2  0\\n  2  3  1  0\\n  3  4  2  0\\n  4  5  1  0\\n  5  6  1  0\\n  6  7  2  0\\n  7  8  1  0\\n  8  9  2  0\\n  8 10  1  0\\n 10 11  1  0\\n 10 12  1  0\\n 12 13  2  0\\n 12 14  1  0\\n 14 15  1  0\\n 15 16  1  0\\n 16 17  1  0\\n 16 18  1  0\\n 14 19  1  0\\n 19 20  2  0\\n 20 21  1  0\\n 21 22  1  0\\n 22 23  1  0\\n 23 24  2  0\\n 24 25  1  0\\n 25 26  2  0\\n 26 27  1  0\\n 27 28  2  0\\n 28 29  1  0\\n 29 30  2  0\\n 30 31  1  0\\n 31 32  2  0\\n  5 33  2  0\\n 33  1  1  0\\n 21  6  1  0\\n 32 23  1  0\\n 19  7  1  0\\n 32 27  1  0\\n  1 34  1  0\\n  3 35  1  0\\n  4 36  1  0\\n 11 37  1  0\\n 11 38  1  0\\n 11 39  1  0\\n 15 40  1  0\\n 15 41  1  0\\n 16 42  1  0\\n 17 43  1  0\\n 17 44  1  0\\n 17 45  1  0\\n 18 46  1  0\\n 18 47  1  0\\n 18 48  1  0\\n 22 49  1  0\\n 22 50  1  0\\n 24 51  1  0\\n 25 52  1  0\\n 26 53  1  0\\n 28 54  1  0\\n 29 55  1  0\\n 30 56  1  0\\n 31 57  1  0\\n 33 58  1  0\\nM  END\\n\",\"sdf\");\n\tviewer_15825205073297029.addModel(\"\\n     RDKit          3D\\n\\n 58 62  0  0  0  0  0  0  0  0999 V2000\\n    1.3884    5.1151    0.4606 C   0  0  0  0  0  0  0  0  0  0  0  0\\n    1.1670    4.9785    1.7920 N   0  0  0  0  0  0  0  0  0  0  0  0\\n    0.0677    4.2897    2.1380 C   0  0  0  0  0  0  0  0  0  0  0  0\\n   -0.3413    3.2513    1.3016 C   0  0  0  0  0  0  0  0  0  0  0  0\\n    0.4353    2.9432    0.1725 C   0  0  0  0  0  0  0  0  0  0  0  0\\n    0.0021    1.8743   -0.7689 C   0  0  0  0  0  0  0  0  0  0  0  0\\n   -1.1948    1.1856   -0.5623 C   0  0  0  0  0  0  0  0  0  0  0  0\\n   -2.4739    1.7151   -0.5390 C   0  0  0  0  0  0  0  0  0  0  0  0\\n   -2.5904    2.9346   -0.2591 O   0  0  0  0  0  0  0  0  0  0  0  0\\n   -3.5302    0.9757   -0.9627 N   0  0  0  0  0  0  0  0  0  0  0  0\\n   -4.8304    1.6449   -1.0693 C   0  0  0  0  0  0  0  0  0  0  0  0\\n   -3.3130   -0.1979   -1.5931 C   0  0  0  0  0  0  0  0  0  0  0  0\\n   -4.2888   -0.7302   -2.1731 O   0  0  0  0  0  0  0  0  0  0  0  0\\n   -2.1435   -0.8323   -1.3919 N   0  0  0  0  0  0  0  0  0  0  0  0\\n   -1.9926   -2.2226   -1.6638 C   0  0  0  0  0  0  0  0  0  0  0  0\\n   -2.3124   -3.1083   -0.4836 C   0  0  0  0  0  0  0  0  0  0  0  0\\n   -3.7623   -2.9013   -0.0338 C   0  0  0  0  0  0  0  0  0  0  0  0\\n   -1.3789   -2.9566    0.6704 C   0  0  0  0  0  0  0  0  0  0  0  0\\n   -1.0633   -0.0519   -1.2046 C   0  0  0  0  0  0  0  0  0  0  0  0\\n    0.2594   -0.1900   -1.4037 N   0  0  0  0  0  0  0  0  0  0  0  0\\n    0.8846    0.9917   -1.3336 N   0  0  0  0  0  0  0  0  0  0  0  0\\n    2.3515    1.1094   -1.2730 C   0  0  0  0  0  0  0  0  0  0  0  0\\n    2.8586    0.4101   -0.0823 C   0  0  0  0  0  0  0  0  0  0  0  0\\n    2.8993    1.1301    1.1128 C   0  0  0  0  0  0  0  0  0  0  0  0\\n    2.9430    0.4354    2.2895 C   0  0  0  0  0  0  0  0  0  0  0  0\\n    3.3082   -0.8933    2.3674 C   0  0  0  0  0  0  0  0  0  0  0  0\\n    3.4195   -1.5575    1.1653 C   0  0  0  0  0  0  0  0  0  0  0  0\\n    4.1595   -2.7188    1.0843 C   0  0  0  0  0  0  0  0  0  0  0  0\\n    3.9777   -3.4964   -0.0527 C   0  0  0  0  0  0  0  0  0  0  0  0\\n    3.1710   -3.0390   -1.0931 C   0  0  0  0  0  0  0  0  0  0  0  0\\n    2.9479   -1.6754   -1.1857 C   0  0  0  0  0  0  0  0  0  0  0  0\\n    2.9585   -0.9543   -0.0112 C   0  0  0  0  0  0  0  0  0  0  0  0\\n    1.1764    4.0166   -0.3355 C   0  0  0  0  0  0  0  0  0  0  0  0\\n    1.9507    5.9889    0.0868 H   0  0  0  0  0  0  0  0  0  0  0  0\\n   -0.4897    4.4975    3.0405 H   0  0  0  0  0  0  0  0  0  0  0  0\\n   -0.8156    2.3858    1.7559 H   0  0  0  0  0  0  0  0  0  0  0  0\\n   -5.3110    1.6556   -0.0844 H   0  0  0  0  0  0  0  0  0  0  0  0\\n   -5.4913    1.1549   -1.8132 H   0  0  0  0  0  0  0  0  0  0  0  0\\n   -4.6462    2.6803   -1.4669 H   0  0  0  0  0  0  0  0  0  0  0  0\\n   -2.7127   -2.5249   -2.4729 H   0  0  0  0  0  0  0  0  0  0  0  0\\n   -0.9955   -2.4779   -2.0758 H   0  0  0  0  0  0  0  0  0  0  0  0\\n   -2.2424   -4.1608   -0.8281 H   0  0  0  0  0  0  0  0  0  0  0  0\\n   -3.8599   -1.8327    0.3059 H   0  0  0  0  0  0  0  0  0  0  0  0\\n   -4.4712   -3.1875   -0.8120 H   0  0  0  0  0  0  0  0  0  0  0  0\\n   -3.9813   -3.4944    0.8751 H   0  0  0  0  0  0  0  0  0  0  0  0\\n   -0.9590   -1.9469    0.8131 H   0  0  0  0  0  0  0  0  0  0  0  0\\n   -1.9216   -3.2685    1.5969 H   0  0  0  0  0  0  0  0  0  0  0  0\\n   -0.4883   -3.6445    0.5880 H   0  0  0  0  0  0  0  0  0  0  0  0\\n    2.8232    0.8232   -2.2299 H   0  0  0  0  0  0  0  0  0  0  0  0\\n    2.6053    2.1876   -1.1554 H   0  0  0  0  0  0  0  0  0  0  0  0\\n    3.1140    2.2062    1.0961 H   0  0  0  0  0  0  0  0  0  0  0  0\\n    2.8582    0.9882    3.2288 H   0  0  0  0  0  0  0  0  0  0  0  0\\n    3.7038   -1.2978    3.2985 H   0  0  0  0  0  0  0  0  0  0  0  0\\n    4.6399   -3.1035    1.9692 H   0  0  0  0  0  0  0  0  0  0  0  0\\n    4.5635   -4.4030   -0.1535 H   0  0  0  0  0  0  0  0  0  0  0  0\\n    2.9407   -3.6547   -1.9300 H   0  0  0  0  0  0  0  0  0  0  0  0\\n    2.7675   -1.1873   -2.1322 H   0  0  0  0  0  0  0  0  0  0  0  0\\n    1.2590    4.1408   -1.4069 H   0  0  0  0  0  0  0  0  0  0  0  0\\n  1  2  2  0\\n  2  3  1  0\\n  3  4  2  0\\n  4  5  1  0\\n  5  6  1  0\\n  6  7  2  0\\n  7  8  1  0\\n  8  9  2  0\\n  8 10  1  0\\n 10 11  1  0\\n 10 12  1  0\\n 12 13  2  0\\n 12 14  1  0\\n 14 15  1  0\\n 15 16  1  0\\n 16 17  1  0\\n 16 18  1  0\\n 14 19  1  0\\n 19 20  2  0\\n 20 21  1  0\\n 21 22  1  0\\n 22 23  1  0\\n 23 24  2  0\\n 24 25  1  0\\n 25 26  2  0\\n 26 27  1  0\\n 27 28  2  0\\n 28 29  1  0\\n 29 30  2  0\\n 30 31  1  0\\n 31 32  2  0\\n  5 33  2  0\\n 33  1  1  0\\n 21  6  1  0\\n 32 23  1  0\\n 19  7  1  0\\n 32 27  1  0\\n  1 34  1  0\\n  3 35  1  0\\n  4 36  1  0\\n 11 37  1  0\\n 11 38  1  0\\n 11 39  1  0\\n 15 40  1  0\\n 15 41  1  0\\n 16 42  1  0\\n 17 43  1  0\\n 17 44  1  0\\n 17 45  1  0\\n 18 46  1  0\\n 18 47  1  0\\n 18 48  1  0\\n 22 49  1  0\\n 22 50  1  0\\n 24 51  1  0\\n 25 52  1  0\\n 26 53  1  0\\n 28 54  1  0\\n 29 55  1  0\\n 30 56  1  0\\n 31 57  1  0\\n 33 58  1  0\\nM  END\\n\",\"sdf\");\n\tviewer_15825205073297029.addModel(\"\\n     RDKit          3D\\n\\n 58 62  0  0  0  0  0  0  0  0999 V2000\\n    2.7772    3.7242    0.5163 C   0  0  0  0  0  0  0  0  0  0  0  0\\n    2.3609    4.7610    1.2372 N   0  0  0  0  0  0  0  0  0  0  0  0\\n    1.2054    4.6985    1.8837 C   0  0  0  0  0  0  0  0  0  0  0  0\\n    0.4158    3.5424    1.8129 C   0  0  0  0  0  0  0  0  0  0  0  0\\n    0.7946    2.4375    1.0794 C   0  0  0  0  0  0  0  0  0  0  0  0\\n   -0.0483    1.2679    0.8876 C   0  0  0  0  0  0  0  0  0  0  0  0\\n   -1.4436    1.2786    0.8481 C   0  0  0  0  0  0  0  0  0  0  0  0\\n   -2.4408    2.2167    0.7715 C   0  0  0  0  0  0  0  0  0  0  0  0\\n   -2.1561    3.4346    0.7338 O   0  0  0  0  0  0  0  0  0  0  0  0\\n   -3.7632    1.9156    0.7233 N   0  0  0  0  0  0  0  0  0  0  0  0\\n   -4.7785    2.9467    0.6456 C   0  0  0  0  0  0  0  0  0  0  0  0\\n   -4.0879    0.5974    0.7515 C   0  0  0  0  0  0  0  0  0  0  0  0\\n   -5.3333    0.3611    0.7084 O   0  0  0  0  0  0  0  0  0  0  0  0\\n   -3.1511   -0.3548    0.8217 N   0  0  0  0  0  0  0  0  0  0  0  0\\n   -3.5478   -1.7349    0.8406 C   0  0  0  0  0  0  0  0  0  0  0  0\\n   -3.6191   -2.3816   -0.4999 C   0  0  0  0  0  0  0  0  0  0  0  0\\n   -4.6037   -1.6775   -1.3762 C   0  0  0  0  0  0  0  0  0  0  0  0\\n   -2.2654   -2.5238   -1.1494 C   0  0  0  0  0  0  0  0  0  0  0  0\\n   -1.8239   -0.0372    0.8706 C   0  0  0  0  0  0  0  0  0  0  0  0\\n   -0.7082   -0.7581    0.9144 N   0  0  0  0  0  0  0  0  0  0  0  0\\n    0.3960    0.0040    0.9243 N   0  0  0  0  0  0  0  0  0  0  0  0\\n    1.7480   -0.5373    0.9523 C   0  0  0  0  0  0  0  0  0  0  0  0\\n    2.2875   -0.9023   -0.3556 C   0  0  0  0  0  0  0  0  0  0  0  0\\n    1.6176   -0.7579   -1.5465 C   0  0  0  0  0  0  0  0  0  0  0  0\\n    2.1880   -1.1219   -2.7474 C   0  0  0  0  0  0  0  0  0  0  0  0\\n    3.4488   -1.6422   -2.7890 C   0  0  0  0  0  0  0  0  0  0  0  0\\n    4.1507   -1.8004   -1.6033 C   0  0  0  0  0  0  0  0  0  0  0  0\\n    5.4219   -2.3234   -1.6305 C   0  0  0  0  0  0  0  0  0  0  0  0\\n    6.1555   -2.4972   -0.4695 C   0  0  0  0  0  0  0  0  0  0  0  0\\n    5.5888   -2.1346    0.7331 C   0  0  0  0  0  0  0  0  0  0  0  0\\n    4.3108   -1.6101    0.7483 C   0  0  0  0  0  0  0  0  0  0  0  0\\n    3.5655   -1.4298   -0.3977 C   0  0  0  0  0  0  0  0  0  0  0  0\\n    2.0094    2.5561    0.4251 C   0  0  0  0  0  0  0  0  0  0  0  0\\n    3.7319    3.8086   -0.0015 H   0  0  0  0  0  0  0  0  0  0  0  0\\n    0.8787    5.5500    2.4666 H   0  0  0  0  0  0  0  0  0  0  0  0\\n   -0.4666    3.5423    2.4114 H   0  0  0  0  0  0  0  0  0  0  0  0\\n   -5.6494    2.6329    0.0273 H   0  0  0  0  0  0  0  0  0  0  0  0\\n   -4.3146    3.8748    0.2621 H   0  0  0  0  0  0  0  0  0  0  0  0\\n   -5.0948    3.1641    1.7010 H   0  0  0  0  0  0  0  0  0  0  0  0\\n   -2.8165   -2.3583    1.4461 H   0  0  0  0  0  0  0  0  0  0  0  0\\n   -4.5144   -1.8776    1.4003 H   0  0  0  0  0  0  0  0  0  0  0  0\\n   -4.0175   -3.4397   -0.3972 H   0  0  0  0  0  0  0  0  0  0  0  0\\n   -5.6234   -1.7569   -0.9514 H   0  0  0  0  0  0  0  0  0  0  0  0\\n   -4.3117   -0.6391   -1.5874 H   0  0  0  0  0  0  0  0  0  0  0  0\\n   -4.6632   -2.2170   -2.3784 H   0  0  0  0  0  0  0  0  0  0  0  0\\n   -1.8299   -1.5662   -1.4926 H   0  0  0  0  0  0  0  0  0  0  0  0\\n   -2.3910   -3.2403   -2.0072 H   0  0  0  0  0  0  0  0  0  0  0  0\\n   -1.5343   -3.0110   -0.4800 H   0  0  0  0  0  0  0  0  0  0  0  0\\n    1.7656   -1.4944    1.5625 H   0  0  0  0  0  0  0  0  0  0  0  0\\n    2.4614    0.1181    1.4707 H   0  0  0  0  0  0  0  0  0  0  0  0\\n    0.6234   -0.3463   -1.5027 H   0  0  0  0  0  0  0  0  0  0  0  0\\n    1.6516   -1.0057   -3.6958 H   0  0  0  0  0  0  0  0  0  0  0  0\\n    3.9501   -1.9458   -3.6948 H   0  0  0  0  0  0  0  0  0  0  0  0\\n    5.9126   -2.6239   -2.5494 H   0  0  0  0  0  0  0  0  0  0  0  0\\n    7.1580   -2.9080   -0.4757 H   0  0  0  0  0  0  0  0  0  0  0  0\\n    6.1201   -2.2491    1.6790 H   0  0  0  0  0  0  0  0  0  0  0  0\\n    3.8693   -1.3249    1.7172 H   0  0  0  0  0  0  0  0  0  0  0  0\\n    2.4329    1.7958   -0.1950 H   0  0  0  0  0  0  0  0  0  0  0  0\\n  1  2  2  0\\n  2  3  1  0\\n  3  4  2  0\\n  4  5  1  0\\n  5  6  1  0\\n  6  7  2  0\\n  7  8  1  0\\n  8  9  2  0\\n  8 10  1  0\\n 10 11  1  0\\n 10 12  1  0\\n 12 13  2  0\\n 12 14  1  0\\n 14 15  1  0\\n 15 16  1  0\\n 16 17  1  0\\n 16 18  1  0\\n 14 19  1  0\\n 19 20  2  0\\n 20 21  1  0\\n 21 22  1  0\\n 22 23  1  0\\n 23 24  2  0\\n 24 25  1  0\\n 25 26  2  0\\n 26 27  1  0\\n 27 28  2  0\\n 28 29  1  0\\n 29 30  2  0\\n 30 31  1  0\\n 31 32  2  0\\n  5 33  2  0\\n 33  1  1  0\\n 21  6  1  0\\n 32 23  1  0\\n 19  7  1  0\\n 32 27  1  0\\n  1 34  1  0\\n  3 35  1  0\\n  4 36  1  0\\n 11 37  1  0\\n 11 38  1  0\\n 11 39  1  0\\n 15 40  1  0\\n 15 41  1  0\\n 16 42  1  0\\n 17 43  1  0\\n 17 44  1  0\\n 17 45  1  0\\n 18 46  1  0\\n 18 47  1  0\\n 18 48  1  0\\n 22 49  1  0\\n 22 50  1  0\\n 24 51  1  0\\n 25 52  1  0\\n 26 53  1  0\\n 28 54  1  0\\n 29 55  1  0\\n 30 56  1  0\\n 31 57  1  0\\n 33 58  1  0\\nM  END\\n\",\"sdf\");\n\tviewer_15825205073297029.addModel(\"\\n     RDKit          3D\\n\\n 58 62  0  0  0  0  0  0  0  0999 V2000\\n    1.9857    3.7077   -1.6667 C   0  0  0  0  0  0  0  0  0  0  0  0\\n    1.7681    4.8457   -0.9803 N   0  0  0  0  0  0  0  0  0  0  0  0\\n    1.0557    4.8704    0.1648 C   0  0  0  0  0  0  0  0  0  0  0  0\\n    0.5191    3.7140    0.6779 C   0  0  0  0  0  0  0  0  0  0  0  0\\n    0.7124    2.5171    0.0136 C   0  0  0  0  0  0  0  0  0  0  0  0\\n    0.0683    1.3236    0.5065 C   0  0  0  0  0  0  0  0  0  0  0  0\\n   -1.3474    1.2546    0.4915 C   0  0  0  0  0  0  0  0  0  0  0  0\\n   -2.3011    2.1324    0.0274 C   0  0  0  0  0  0  0  0  0  0  0  0\\n   -2.0003    3.2337   -0.5018 O   0  0  0  0  0  0  0  0  0  0  0  0\\n   -3.5973    1.7540    0.1673 N   0  0  0  0  0  0  0  0  0  0  0  0\\n   -4.6106    2.6670   -0.3159 C   0  0  0  0  0  0  0  0  0  0  0  0\\n   -3.8947    0.5650    0.7401 C   0  0  0  0  0  0  0  0  0  0  0  0\\n   -5.1297    0.2902    0.8316 O   0  0  0  0  0  0  0  0  0  0  0  0\\n   -2.9419   -0.2726    1.1844 N   0  0  0  0  0  0  0  0  0  0  0  0\\n   -3.3375   -1.5111    1.7846 C   0  0  0  0  0  0  0  0  0  0  0  0\\n   -3.4916   -2.6621    0.8441 C   0  0  0  0  0  0  0  0  0  0  0  0\\n   -3.9161   -3.8672    1.6680 C   0  0  0  0  0  0  0  0  0  0  0  0\\n   -2.1643   -2.9444    0.1426 C   0  0  0  0  0  0  0  0  0  0  0  0\\n   -1.6246    0.0530    1.0711 C   0  0  0  0  0  0  0  0  0  0  0  0\\n   -0.4785   -0.5349    1.4005 N   0  0  0  0  0  0  0  0  0  0  0  0\\n    0.5934    0.2442    1.0567 N   0  0  0  0  0  0  0  0  0  0  0  0\\n    1.9129   -0.2395    1.3873 C   0  0  0  0  0  0  0  0  0  0  0  0\\n    2.5420   -1.0848    0.3696 C   0  0  0  0  0  0  0  0  0  0  0  0\\n    2.1338   -2.4398    0.2877 C   0  0  0  0  0  0  0  0  0  0  0  0\\n    2.5941   -3.2919   -0.6851 C   0  0  0  0  0  0  0  0  0  0  0  0\\n    3.4760   -2.8648   -1.6250 C   0  0  0  0  0  0  0  0  0  0  0  0\\n    3.9123   -1.5450   -1.5905 C   0  0  0  0  0  0  0  0  0  0  0  0\\n    4.8374   -1.1096   -2.5091 C   0  0  0  0  0  0  0  0  0  0  0  0\\n    5.3351    0.1700   -2.4910 C   0  0  0  0  0  0  0  0  0  0  0  0\\n    4.8664    1.0070   -1.5065 C   0  0  0  0  0  0  0  0  0  0  0  0\\n    3.9366    0.5700   -0.5852 C   0  0  0  0  0  0  0  0  0  0  0  0\\n    3.4315   -0.7131   -0.6003 C   0  0  0  0  0  0  0  0  0  0  0  0\\n    1.4408    2.5508   -1.1412 C   0  0  0  0  0  0  0  0  0  0  0  0\\n    2.5618    3.7470   -2.5741 H   0  0  0  0  0  0  0  0  0  0  0  0\\n    0.9025    5.8220    0.6935 H   0  0  0  0  0  0  0  0  0  0  0  0\\n   -0.0555    3.7778    1.6153 H   0  0  0  0  0  0  0  0  0  0  0  0\\n   -4.8515    3.3787    0.5044 H   0  0  0  0  0  0  0  0  0  0  0  0\\n   -4.1929    3.2652   -1.1546 H   0  0  0  0  0  0  0  0  0  0  0  0\\n   -5.5171    2.1240   -0.6741 H   0  0  0  0  0  0  0  0  0  0  0  0\\n   -2.5559   -1.8292    2.5375 H   0  0  0  0  0  0  0  0  0  0  0  0\\n   -4.2999   -1.4176    2.3665 H   0  0  0  0  0  0  0  0  0  0  0  0\\n   -4.2333   -2.5198    0.0575 H   0  0  0  0  0  0  0  0  0  0  0  0\\n   -4.1582   -4.6790    0.9735 H   0  0  0  0  0  0  0  0  0  0  0  0\\n   -4.8256   -3.5841    2.2369 H   0  0  0  0  0  0  0  0  0  0  0  0\\n   -3.1196   -4.1414    2.3998 H   0  0  0  0  0  0  0  0  0  0  0  0\\n   -1.3959   -3.1169    0.8957 H   0  0  0  0  0  0  0  0  0  0  0  0\\n   -2.2998   -3.8160   -0.5386 H   0  0  0  0  0  0  0  0  0  0  0  0\\n   -1.9099   -2.0514   -0.4536 H   0  0  0  0  0  0  0  0  0  0  0  0\\n    1.8622   -0.9126    2.3109 H   0  0  0  0  0  0  0  0  0  0  0  0\\n    2.5723    0.5683    1.7657 H   0  0  0  0  0  0  0  0  0  0  0  0\\n    1.4335   -2.8024    1.0249 H   0  0  0  0  0  0  0  0  0  0  0  0\\n    2.2579   -4.3246   -0.7192 H   0  0  0  0  0  0  0  0  0  0  0  0\\n    3.8573   -3.5075   -2.4038 H   0  0  0  0  0  0  0  0  0  0  0  0\\n    5.1873   -1.7850   -3.2662 H   0  0  0  0  0  0  0  0  0  0  0  0\\n    6.0760    0.5105   -3.2302 H   0  0  0  0  0  0  0  0  0  0  0  0\\n    5.2162    2.0290   -1.4309 H   0  0  0  0  0  0  0  0  0  0  0  0\\n    3.5711    1.2245    0.1988 H   0  0  0  0  0  0  0  0  0  0  0  0\\n    1.6312    1.6510   -1.7544 H   0  0  0  0  0  0  0  0  0  0  0  0\\n  1  2  2  0\\n  2  3  1  0\\n  3  4  2  0\\n  4  5  1  0\\n  5  6  1  0\\n  6  7  2  0\\n  7  8  1  0\\n  8  9  2  0\\n  8 10  1  0\\n 10 11  1  0\\n 10 12  1  0\\n 12 13  2  0\\n 12 14  1  0\\n 14 15  1  0\\n 15 16  1  0\\n 16 17  1  0\\n 16 18  1  0\\n 14 19  1  0\\n 19 20  2  0\\n 20 21  1  0\\n 21 22  1  0\\n 22 23  1  0\\n 23 24  2  0\\n 24 25  1  0\\n 25 26  2  0\\n 26 27  1  0\\n 27 28  2  0\\n 28 29  1  0\\n 29 30  2  0\\n 30 31  1  0\\n 31 32  2  0\\n  5 33  2  0\\n 33  1  1  0\\n 21  6  1  0\\n 32 23  1  0\\n 19  7  1  0\\n 32 27  1  0\\n  1 34  1  0\\n  3 35  1  0\\n  4 36  1  0\\n 11 37  1  0\\n 11 38  1  0\\n 11 39  1  0\\n 15 40  1  0\\n 15 41  1  0\\n 16 42  1  0\\n 17 43  1  0\\n 17 44  1  0\\n 17 45  1  0\\n 18 46  1  0\\n 18 47  1  0\\n 18 48  1  0\\n 22 49  1  0\\n 22 50  1  0\\n 24 51  1  0\\n 25 52  1  0\\n 26 53  1  0\\n 28 54  1  0\\n 29 55  1  0\\n 30 56  1  0\\n 31 57  1  0\\n 33 58  1  0\\nM  END\\n\",\"sdf\");\n\tviewer_15825205073297029.setBackgroundColor(\"0xeeeeee\");\n\tviewer_15825205073297029.setStyle({\"stick\": {}});\n\tviewer_15825205073297029.zoomTo();\nviewer_15825205073297029.render();\n});\n</script>",
      "text/html": [
       "<div id=\"3dmolviewer_15825205073297029\"  style=\"position: relative; width: 400px; height: 400px\">\n",
       "        <p id=\"3dmolwarning_15825205073297029\" style=\"background-color:#ffcccc;color:black\">You appear to be running in JupyterLab (or JavaScript failed to load for some other reason).  You need to install the 3dmol extension: <br>\n",
       "        <tt>jupyter labextension install jupyterlab_3dmol</tt></p>\n",
       "        </div>\n",
       "<script>\n",
       "\n",
       "var loadScriptAsync = function(uri){\n",
       "  return new Promise((resolve, reject) => {\n",
       "    var tag = document.createElement('script');\n",
       "    tag.src = uri;\n",
       "    tag.async = true;\n",
       "    tag.onload = () => {\n",
       "      resolve();\n",
       "    };\n",
       "  var firstScriptTag = document.getElementsByTagName('script')[0];\n",
       "  firstScriptTag.parentNode.insertBefore(tag, firstScriptTag);\n",
       "});\n",
       "};\n",
       "\n",
       "if(typeof $3Dmolpromise === 'undefined') {\n",
       "$3Dmolpromise = null;\n",
       "  $3Dmolpromise = loadScriptAsync('https://3dmol.csb.pitt.edu/build/3Dmol.js');\n",
       "}\n",
       "\n",
       "var viewer_15825205073297029 = null;\n",
       "var warn = document.getElementById(\"3dmolwarning_15825205073297029\");\n",
       "if(warn) {\n",
       "    warn.parentNode.removeChild(warn);\n",
       "}\n",
       "$3Dmolpromise.then(function() {\n",
       "viewer_15825205073297029 = $3Dmol.createViewer($(\"#3dmolviewer_15825205073297029\"),{backgroundColor:\"white\"});\n",
       "\tviewer_15825205073297029.addModel(\"\\n     RDKit          3D\\n\\n 58 62  0  0  0  0  0  0  0  0999 V2000\\n   -0.0110   -5.7759    0.6987 C   0  0  0  0  0  0  0  0  0  0  0  0\\n    0.4671   -6.0902   -0.5349 N   0  0  0  0  0  0  0  0  0  0  0  0\\n    0.7424   -5.1307   -1.4583 C   0  0  0  0  0  0  0  0  0  0  0  0\\n    0.5371   -3.7836   -1.1514 C   0  0  0  0  0  0  0  0  0  0  0  0\\n    0.0528   -3.4328    0.1150 C   0  0  0  0  0  0  0  0  0  0  0  0\\n   -0.1769   -2.0182    0.4586 C   0  0  0  0  0  0  0  0  0  0  0  0\\n   -1.3903   -1.4307    0.7613 C   0  0  0  0  0  0  0  0  0  0  0  0\\n   -2.6989   -1.8833    0.8143 C   0  0  0  0  0  0  0  0  0  0  0  0\\n   -2.9704   -3.0837    0.5364 O   0  0  0  0  0  0  0  0  0  0  0  0\\n   -3.6837   -0.9900    1.1690 N   0  0  0  0  0  0  0  0  0  0  0  0\\n   -5.0873   -1.4318    1.2261 C   0  0  0  0  0  0  0  0  0  0  0  0\\n   -3.3706    0.3398    1.4024 C   0  0  0  0  0  0  0  0  0  0  0  0\\n   -4.2891    1.1530    1.7041 O   0  0  0  0  0  0  0  0  0  0  0  0\\n   -2.0674    0.7876    1.3096 N   0  0  0  0  0  0  0  0  0  0  0  0\\n   -1.7110    2.2038    1.5388 C   0  0  0  0  0  0  0  0  0  0  0  0\\n   -1.7266    3.0564    0.2447 C   0  0  0  0  0  0  0  0  0  0  0  0\\n   -3.1065    3.0891   -0.4222 C   0  0  0  0  0  0  0  0  0  0  0  0\\n   -0.6523    2.6248   -0.7611 C   0  0  0  0  0  0  0  0  0  0  0  0\\n   -1.1056   -0.1283    1.0108 C   0  0  0  0  0  0  0  0  0  0  0  0\\n    0.2143    0.1009    0.8910 N   0  0  0  0  0  0  0  0  0  0  0  0\\n    0.7769   -1.0522    0.5433 N   0  0  0  0  0  0  0  0  0  0  0  0\\n    2.2246   -1.2108    0.3742 C   0  0  0  0  0  0  0  0  0  0  0  0\\n    2.7476   -0.2188   -0.6449 C   0  0  0  0  0  0  0  0  0  0  0  0\\n    2.9326   -0.6670   -1.9647 C   0  0  0  0  0  0  0  0  0  0  0  0\\n    3.3520    0.2056   -2.9669 C   0  0  0  0  0  0  0  0  0  0  0  0\\n    3.5916    1.5456   -2.6768 C   0  0  0  0  0  0  0  0  0  0  0  0\\n    3.4229    2.0273   -1.3723 C   0  0  0  0  0  0  0  0  0  0  0  0\\n    3.6627    3.3822   -1.0937 C   0  0  0  0  0  0  0  0  0  0  0  0\\n    3.4990    3.8745    0.2006 C   0  0  0  0  0  0  0  0  0  0  0  0\\n    3.1017    3.0212    1.2282 C   0  0  0  0  0  0  0  0  0  0  0  0\\n    2.8606    1.6699    0.9701 C   0  0  0  0  0  0  0  0  0  0  0  0\\n    3.0062    1.1472   -0.3350 C   0  0  0  0  0  0  0  0  0  0  0  0\\n   -0.2299   -4.4406    1.0460 C   0  0  0  0  0  0  0  0  0  0  0  0\\n   -0.2217   -6.5629    1.4104 H   0  0  0  0  0  0  0  0  0  0  0  0\\n    1.1168   -5.4138   -2.4330 H   0  0  0  0  0  0  0  0  0  0  0  0\\n    0.7405   -3.0243   -1.8951 H   0  0  0  0  0  0  0  0  0  0  0  0\\n   -5.5750   -1.2484    0.2456 H   0  0  0  0  0  0  0  0  0  0  0  0\\n   -5.6447   -0.8889    2.0190 H   0  0  0  0  0  0  0  0  0  0  0  0\\n   -5.1643   -2.5120    1.4741 H   0  0  0  0  0  0  0  0  0  0  0  0\\n   -0.7041    2.2733    2.0073 H   0  0  0  0  0  0  0  0  0  0  0  0\\n   -2.4026    2.6586    2.2814 H   0  0  0  0  0  0  0  0  0  0  0  0\\n   -1.4858    4.1001    0.5465 H   0  0  0  0  0  0  0  0  0  0  0  0\\n   -3.8764    3.4263    0.3035 H   0  0  0  0  0  0  0  0  0  0  0  0\\n   -3.1006    3.8061   -1.2708 H   0  0  0  0  0  0  0  0  0  0  0  0\\n   -3.3821    2.0871   -0.8139 H   0  0  0  0  0  0  0  0  0  0  0  0\\n    0.3459    2.6189   -0.2770 H   0  0  0  0  0  0  0  0  0  0  0  0\\n   -0.8710    1.6164   -1.1710 H   0  0  0  0  0  0  0  0  0  0  0  0\\n   -0.6139    3.3435   -1.6071 H   0  0  0  0  0  0  0  0  0  0  0  0\\n    2.7370   -1.0935    1.3504 H   0  0  0  0  0  0  0  0  0  0  0  0\\n    2.4656   -2.2454    0.0523 H   0  0  0  0  0  0  0  0  0  0  0  0\\n    2.7455   -1.7005   -2.2256 H   0  0  0  0  0  0  0  0  0  0  0  0\\n    3.4857   -0.1589   -3.9773 H   0  0  0  0  0  0  0  0  0  0  0  0\\n    3.9102    2.2071   -3.4739 H   0  0  0  0  0  0  0  0  0  0  0  0\\n    3.9757    4.0610   -1.8782 H   0  0  0  0  0  0  0  0  0  0  0  0\\n    3.6831    4.9207    0.4082 H   0  0  0  0  0  0  0  0  0  0  0  0\\n    2.9780    3.4088    2.2313 H   0  0  0  0  0  0  0  0  0  0  0  0\\n    2.5531    1.0544    1.8021 H   0  0  0  0  0  0  0  0  0  0  0  0\\n   -0.6096   -4.1943    2.0301 H   0  0  0  0  0  0  0  0  0  0  0  0\\n  1  2  2  0\\n  2  3  1  0\\n  3  4  2  0\\n  4  5  1  0\\n  5  6  1  0\\n  6  7  2  0\\n  7  8  1  0\\n  8  9  2  0\\n  8 10  1  0\\n 10 11  1  0\\n 10 12  1  0\\n 12 13  2  0\\n 12 14  1  0\\n 14 15  1  0\\n 15 16  1  0\\n 16 17  1  0\\n 16 18  1  0\\n 14 19  1  0\\n 19 20  2  0\\n 20 21  1  0\\n 21 22  1  0\\n 22 23  1  0\\n 23 24  2  0\\n 24 25  1  0\\n 25 26  2  0\\n 26 27  1  0\\n 27 28  2  0\\n 28 29  1  0\\n 29 30  2  0\\n 30 31  1  0\\n 31 32  2  0\\n  5 33  2  0\\n 33  1  1  0\\n 21  6  1  0\\n 32 23  1  0\\n 19  7  1  0\\n 32 27  1  0\\n  1 34  1  0\\n  3 35  1  0\\n  4 36  1  0\\n 11 37  1  0\\n 11 38  1  0\\n 11 39  1  0\\n 15 40  1  0\\n 15 41  1  0\\n 16 42  1  0\\n 17 43  1  0\\n 17 44  1  0\\n 17 45  1  0\\n 18 46  1  0\\n 18 47  1  0\\n 18 48  1  0\\n 22 49  1  0\\n 22 50  1  0\\n 24 51  1  0\\n 25 52  1  0\\n 26 53  1  0\\n 28 54  1  0\\n 29 55  1  0\\n 30 56  1  0\\n 31 57  1  0\\n 33 58  1  0\\nM  END\\n\",\"sdf\");\n",
       "\tviewer_15825205073297029.addModel(\"\\n     RDKit          3D\\n\\n 58 62  0  0  0  0  0  0  0  0999 V2000\\n    1.3884    5.1151    0.4606 C   0  0  0  0  0  0  0  0  0  0  0  0\\n    1.1670    4.9785    1.7920 N   0  0  0  0  0  0  0  0  0  0  0  0\\n    0.0677    4.2897    2.1380 C   0  0  0  0  0  0  0  0  0  0  0  0\\n   -0.3413    3.2513    1.3016 C   0  0  0  0  0  0  0  0  0  0  0  0\\n    0.4353    2.9432    0.1725 C   0  0  0  0  0  0  0  0  0  0  0  0\\n    0.0021    1.8743   -0.7689 C   0  0  0  0  0  0  0  0  0  0  0  0\\n   -1.1948    1.1856   -0.5623 C   0  0  0  0  0  0  0  0  0  0  0  0\\n   -2.4739    1.7151   -0.5390 C   0  0  0  0  0  0  0  0  0  0  0  0\\n   -2.5904    2.9346   -0.2591 O   0  0  0  0  0  0  0  0  0  0  0  0\\n   -3.5302    0.9757   -0.9627 N   0  0  0  0  0  0  0  0  0  0  0  0\\n   -4.8304    1.6449   -1.0693 C   0  0  0  0  0  0  0  0  0  0  0  0\\n   -3.3130   -0.1979   -1.5931 C   0  0  0  0  0  0  0  0  0  0  0  0\\n   -4.2888   -0.7302   -2.1731 O   0  0  0  0  0  0  0  0  0  0  0  0\\n   -2.1435   -0.8323   -1.3919 N   0  0  0  0  0  0  0  0  0  0  0  0\\n   -1.9926   -2.2226   -1.6638 C   0  0  0  0  0  0  0  0  0  0  0  0\\n   -2.3124   -3.1083   -0.4836 C   0  0  0  0  0  0  0  0  0  0  0  0\\n   -3.7623   -2.9013   -0.0338 C   0  0  0  0  0  0  0  0  0  0  0  0\\n   -1.3789   -2.9566    0.6704 C   0  0  0  0  0  0  0  0  0  0  0  0\\n   -1.0633   -0.0519   -1.2046 C   0  0  0  0  0  0  0  0  0  0  0  0\\n    0.2594   -0.1900   -1.4037 N   0  0  0  0  0  0  0  0  0  0  0  0\\n    0.8846    0.9917   -1.3336 N   0  0  0  0  0  0  0  0  0  0  0  0\\n    2.3515    1.1094   -1.2730 C   0  0  0  0  0  0  0  0  0  0  0  0\\n    2.8586    0.4101   -0.0823 C   0  0  0  0  0  0  0  0  0  0  0  0\\n    2.8993    1.1301    1.1128 C   0  0  0  0  0  0  0  0  0  0  0  0\\n    2.9430    0.4354    2.2895 C   0  0  0  0  0  0  0  0  0  0  0  0\\n    3.3082   -0.8933    2.3674 C   0  0  0  0  0  0  0  0  0  0  0  0\\n    3.4195   -1.5575    1.1653 C   0  0  0  0  0  0  0  0  0  0  0  0\\n    4.1595   -2.7188    1.0843 C   0  0  0  0  0  0  0  0  0  0  0  0\\n    3.9777   -3.4964   -0.0527 C   0  0  0  0  0  0  0  0  0  0  0  0\\n    3.1710   -3.0390   -1.0931 C   0  0  0  0  0  0  0  0  0  0  0  0\\n    2.9479   -1.6754   -1.1857 C   0  0  0  0  0  0  0  0  0  0  0  0\\n    2.9585   -0.9543   -0.0112 C   0  0  0  0  0  0  0  0  0  0  0  0\\n    1.1764    4.0166   -0.3355 C   0  0  0  0  0  0  0  0  0  0  0  0\\n    1.9507    5.9889    0.0868 H   0  0  0  0  0  0  0  0  0  0  0  0\\n   -0.4897    4.4975    3.0405 H   0  0  0  0  0  0  0  0  0  0  0  0\\n   -0.8156    2.3858    1.7559 H   0  0  0  0  0  0  0  0  0  0  0  0\\n   -5.3110    1.6556   -0.0844 H   0  0  0  0  0  0  0  0  0  0  0  0\\n   -5.4913    1.1549   -1.8132 H   0  0  0  0  0  0  0  0  0  0  0  0\\n   -4.6462    2.6803   -1.4669 H   0  0  0  0  0  0  0  0  0  0  0  0\\n   -2.7127   -2.5249   -2.4729 H   0  0  0  0  0  0  0  0  0  0  0  0\\n   -0.9955   -2.4779   -2.0758 H   0  0  0  0  0  0  0  0  0  0  0  0\\n   -2.2424   -4.1608   -0.8281 H   0  0  0  0  0  0  0  0  0  0  0  0\\n   -3.8599   -1.8327    0.3059 H   0  0  0  0  0  0  0  0  0  0  0  0\\n   -4.4712   -3.1875   -0.8120 H   0  0  0  0  0  0  0  0  0  0  0  0\\n   -3.9813   -3.4944    0.8751 H   0  0  0  0  0  0  0  0  0  0  0  0\\n   -0.9590   -1.9469    0.8131 H   0  0  0  0  0  0  0  0  0  0  0  0\\n   -1.9216   -3.2685    1.5969 H   0  0  0  0  0  0  0  0  0  0  0  0\\n   -0.4883   -3.6445    0.5880 H   0  0  0  0  0  0  0  0  0  0  0  0\\n    2.8232    0.8232   -2.2299 H   0  0  0  0  0  0  0  0  0  0  0  0\\n    2.6053    2.1876   -1.1554 H   0  0  0  0  0  0  0  0  0  0  0  0\\n    3.1140    2.2062    1.0961 H   0  0  0  0  0  0  0  0  0  0  0  0\\n    2.8582    0.9882    3.2288 H   0  0  0  0  0  0  0  0  0  0  0  0\\n    3.7038   -1.2978    3.2985 H   0  0  0  0  0  0  0  0  0  0  0  0\\n    4.6399   -3.1035    1.9692 H   0  0  0  0  0  0  0  0  0  0  0  0\\n    4.5635   -4.4030   -0.1535 H   0  0  0  0  0  0  0  0  0  0  0  0\\n    2.9407   -3.6547   -1.9300 H   0  0  0  0  0  0  0  0  0  0  0  0\\n    2.7675   -1.1873   -2.1322 H   0  0  0  0  0  0  0  0  0  0  0  0\\n    1.2590    4.1408   -1.4069 H   0  0  0  0  0  0  0  0  0  0  0  0\\n  1  2  2  0\\n  2  3  1  0\\n  3  4  2  0\\n  4  5  1  0\\n  5  6  1  0\\n  6  7  2  0\\n  7  8  1  0\\n  8  9  2  0\\n  8 10  1  0\\n 10 11  1  0\\n 10 12  1  0\\n 12 13  2  0\\n 12 14  1  0\\n 14 15  1  0\\n 15 16  1  0\\n 16 17  1  0\\n 16 18  1  0\\n 14 19  1  0\\n 19 20  2  0\\n 20 21  1  0\\n 21 22  1  0\\n 22 23  1  0\\n 23 24  2  0\\n 24 25  1  0\\n 25 26  2  0\\n 26 27  1  0\\n 27 28  2  0\\n 28 29  1  0\\n 29 30  2  0\\n 30 31  1  0\\n 31 32  2  0\\n  5 33  2  0\\n 33  1  1  0\\n 21  6  1  0\\n 32 23  1  0\\n 19  7  1  0\\n 32 27  1  0\\n  1 34  1  0\\n  3 35  1  0\\n  4 36  1  0\\n 11 37  1  0\\n 11 38  1  0\\n 11 39  1  0\\n 15 40  1  0\\n 15 41  1  0\\n 16 42  1  0\\n 17 43  1  0\\n 17 44  1  0\\n 17 45  1  0\\n 18 46  1  0\\n 18 47  1  0\\n 18 48  1  0\\n 22 49  1  0\\n 22 50  1  0\\n 24 51  1  0\\n 25 52  1  0\\n 26 53  1  0\\n 28 54  1  0\\n 29 55  1  0\\n 30 56  1  0\\n 31 57  1  0\\n 33 58  1  0\\nM  END\\n\",\"sdf\");\n",
       "\tviewer_15825205073297029.addModel(\"\\n     RDKit          3D\\n\\n 58 62  0  0  0  0  0  0  0  0999 V2000\\n    2.7772    3.7242    0.5163 C   0  0  0  0  0  0  0  0  0  0  0  0\\n    2.3609    4.7610    1.2372 N   0  0  0  0  0  0  0  0  0  0  0  0\\n    1.2054    4.6985    1.8837 C   0  0  0  0  0  0  0  0  0  0  0  0\\n    0.4158    3.5424    1.8129 C   0  0  0  0  0  0  0  0  0  0  0  0\\n    0.7946    2.4375    1.0794 C   0  0  0  0  0  0  0  0  0  0  0  0\\n   -0.0483    1.2679    0.8876 C   0  0  0  0  0  0  0  0  0  0  0  0\\n   -1.4436    1.2786    0.8481 C   0  0  0  0  0  0  0  0  0  0  0  0\\n   -2.4408    2.2167    0.7715 C   0  0  0  0  0  0  0  0  0  0  0  0\\n   -2.1561    3.4346    0.7338 O   0  0  0  0  0  0  0  0  0  0  0  0\\n   -3.7632    1.9156    0.7233 N   0  0  0  0  0  0  0  0  0  0  0  0\\n   -4.7785    2.9467    0.6456 C   0  0  0  0  0  0  0  0  0  0  0  0\\n   -4.0879    0.5974    0.7515 C   0  0  0  0  0  0  0  0  0  0  0  0\\n   -5.3333    0.3611    0.7084 O   0  0  0  0  0  0  0  0  0  0  0  0\\n   -3.1511   -0.3548    0.8217 N   0  0  0  0  0  0  0  0  0  0  0  0\\n   -3.5478   -1.7349    0.8406 C   0  0  0  0  0  0  0  0  0  0  0  0\\n   -3.6191   -2.3816   -0.4999 C   0  0  0  0  0  0  0  0  0  0  0  0\\n   -4.6037   -1.6775   -1.3762 C   0  0  0  0  0  0  0  0  0  0  0  0\\n   -2.2654   -2.5238   -1.1494 C   0  0  0  0  0  0  0  0  0  0  0  0\\n   -1.8239   -0.0372    0.8706 C   0  0  0  0  0  0  0  0  0  0  0  0\\n   -0.7082   -0.7581    0.9144 N   0  0  0  0  0  0  0  0  0  0  0  0\\n    0.3960    0.0040    0.9243 N   0  0  0  0  0  0  0  0  0  0  0  0\\n    1.7480   -0.5373    0.9523 C   0  0  0  0  0  0  0  0  0  0  0  0\\n    2.2875   -0.9023   -0.3556 C   0  0  0  0  0  0  0  0  0  0  0  0\\n    1.6176   -0.7579   -1.5465 C   0  0  0  0  0  0  0  0  0  0  0  0\\n    2.1880   -1.1219   -2.7474 C   0  0  0  0  0  0  0  0  0  0  0  0\\n    3.4488   -1.6422   -2.7890 C   0  0  0  0  0  0  0  0  0  0  0  0\\n    4.1507   -1.8004   -1.6033 C   0  0  0  0  0  0  0  0  0  0  0  0\\n    5.4219   -2.3234   -1.6305 C   0  0  0  0  0  0  0  0  0  0  0  0\\n    6.1555   -2.4972   -0.4695 C   0  0  0  0  0  0  0  0  0  0  0  0\\n    5.5888   -2.1346    0.7331 C   0  0  0  0  0  0  0  0  0  0  0  0\\n    4.3108   -1.6101    0.7483 C   0  0  0  0  0  0  0  0  0  0  0  0\\n    3.5655   -1.4298   -0.3977 C   0  0  0  0  0  0  0  0  0  0  0  0\\n    2.0094    2.5561    0.4251 C   0  0  0  0  0  0  0  0  0  0  0  0\\n    3.7319    3.8086   -0.0015 H   0  0  0  0  0  0  0  0  0  0  0  0\\n    0.8787    5.5500    2.4666 H   0  0  0  0  0  0  0  0  0  0  0  0\\n   -0.4666    3.5423    2.4114 H   0  0  0  0  0  0  0  0  0  0  0  0\\n   -5.6494    2.6329    0.0273 H   0  0  0  0  0  0  0  0  0  0  0  0\\n   -4.3146    3.8748    0.2621 H   0  0  0  0  0  0  0  0  0  0  0  0\\n   -5.0948    3.1641    1.7010 H   0  0  0  0  0  0  0  0  0  0  0  0\\n   -2.8165   -2.3583    1.4461 H   0  0  0  0  0  0  0  0  0  0  0  0\\n   -4.5144   -1.8776    1.4003 H   0  0  0  0  0  0  0  0  0  0  0  0\\n   -4.0175   -3.4397   -0.3972 H   0  0  0  0  0  0  0  0  0  0  0  0\\n   -5.6234   -1.7569   -0.9514 H   0  0  0  0  0  0  0  0  0  0  0  0\\n   -4.3117   -0.6391   -1.5874 H   0  0  0  0  0  0  0  0  0  0  0  0\\n   -4.6632   -2.2170   -2.3784 H   0  0  0  0  0  0  0  0  0  0  0  0\\n   -1.8299   -1.5662   -1.4926 H   0  0  0  0  0  0  0  0  0  0  0  0\\n   -2.3910   -3.2403   -2.0072 H   0  0  0  0  0  0  0  0  0  0  0  0\\n   -1.5343   -3.0110   -0.4800 H   0  0  0  0  0  0  0  0  0  0  0  0\\n    1.7656   -1.4944    1.5625 H   0  0  0  0  0  0  0  0  0  0  0  0\\n    2.4614    0.1181    1.4707 H   0  0  0  0  0  0  0  0  0  0  0  0\\n    0.6234   -0.3463   -1.5027 H   0  0  0  0  0  0  0  0  0  0  0  0\\n    1.6516   -1.0057   -3.6958 H   0  0  0  0  0  0  0  0  0  0  0  0\\n    3.9501   -1.9458   -3.6948 H   0  0  0  0  0  0  0  0  0  0  0  0\\n    5.9126   -2.6239   -2.5494 H   0  0  0  0  0  0  0  0  0  0  0  0\\n    7.1580   -2.9080   -0.4757 H   0  0  0  0  0  0  0  0  0  0  0  0\\n    6.1201   -2.2491    1.6790 H   0  0  0  0  0  0  0  0  0  0  0  0\\n    3.8693   -1.3249    1.7172 H   0  0  0  0  0  0  0  0  0  0  0  0\\n    2.4329    1.7958   -0.1950 H   0  0  0  0  0  0  0  0  0  0  0  0\\n  1  2  2  0\\n  2  3  1  0\\n  3  4  2  0\\n  4  5  1  0\\n  5  6  1  0\\n  6  7  2  0\\n  7  8  1  0\\n  8  9  2  0\\n  8 10  1  0\\n 10 11  1  0\\n 10 12  1  0\\n 12 13  2  0\\n 12 14  1  0\\n 14 15  1  0\\n 15 16  1  0\\n 16 17  1  0\\n 16 18  1  0\\n 14 19  1  0\\n 19 20  2  0\\n 20 21  1  0\\n 21 22  1  0\\n 22 23  1  0\\n 23 24  2  0\\n 24 25  1  0\\n 25 26  2  0\\n 26 27  1  0\\n 27 28  2  0\\n 28 29  1  0\\n 29 30  2  0\\n 30 31  1  0\\n 31 32  2  0\\n  5 33  2  0\\n 33  1  1  0\\n 21  6  1  0\\n 32 23  1  0\\n 19  7  1  0\\n 32 27  1  0\\n  1 34  1  0\\n  3 35  1  0\\n  4 36  1  0\\n 11 37  1  0\\n 11 38  1  0\\n 11 39  1  0\\n 15 40  1  0\\n 15 41  1  0\\n 16 42  1  0\\n 17 43  1  0\\n 17 44  1  0\\n 17 45  1  0\\n 18 46  1  0\\n 18 47  1  0\\n 18 48  1  0\\n 22 49  1  0\\n 22 50  1  0\\n 24 51  1  0\\n 25 52  1  0\\n 26 53  1  0\\n 28 54  1  0\\n 29 55  1  0\\n 30 56  1  0\\n 31 57  1  0\\n 33 58  1  0\\nM  END\\n\",\"sdf\");\n",
       "\tviewer_15825205073297029.addModel(\"\\n     RDKit          3D\\n\\n 58 62  0  0  0  0  0  0  0  0999 V2000\\n    1.9857    3.7077   -1.6667 C   0  0  0  0  0  0  0  0  0  0  0  0\\n    1.7681    4.8457   -0.9803 N   0  0  0  0  0  0  0  0  0  0  0  0\\n    1.0557    4.8704    0.1648 C   0  0  0  0  0  0  0  0  0  0  0  0\\n    0.5191    3.7140    0.6779 C   0  0  0  0  0  0  0  0  0  0  0  0\\n    0.7124    2.5171    0.0136 C   0  0  0  0  0  0  0  0  0  0  0  0\\n    0.0683    1.3236    0.5065 C   0  0  0  0  0  0  0  0  0  0  0  0\\n   -1.3474    1.2546    0.4915 C   0  0  0  0  0  0  0  0  0  0  0  0\\n   -2.3011    2.1324    0.0274 C   0  0  0  0  0  0  0  0  0  0  0  0\\n   -2.0003    3.2337   -0.5018 O   0  0  0  0  0  0  0  0  0  0  0  0\\n   -3.5973    1.7540    0.1673 N   0  0  0  0  0  0  0  0  0  0  0  0\\n   -4.6106    2.6670   -0.3159 C   0  0  0  0  0  0  0  0  0  0  0  0\\n   -3.8947    0.5650    0.7401 C   0  0  0  0  0  0  0  0  0  0  0  0\\n   -5.1297    0.2902    0.8316 O   0  0  0  0  0  0  0  0  0  0  0  0\\n   -2.9419   -0.2726    1.1844 N   0  0  0  0  0  0  0  0  0  0  0  0\\n   -3.3375   -1.5111    1.7846 C   0  0  0  0  0  0  0  0  0  0  0  0\\n   -3.4916   -2.6621    0.8441 C   0  0  0  0  0  0  0  0  0  0  0  0\\n   -3.9161   -3.8672    1.6680 C   0  0  0  0  0  0  0  0  0  0  0  0\\n   -2.1643   -2.9444    0.1426 C   0  0  0  0  0  0  0  0  0  0  0  0\\n   -1.6246    0.0530    1.0711 C   0  0  0  0  0  0  0  0  0  0  0  0\\n   -0.4785   -0.5349    1.4005 N   0  0  0  0  0  0  0  0  0  0  0  0\\n    0.5934    0.2442    1.0567 N   0  0  0  0  0  0  0  0  0  0  0  0\\n    1.9129   -0.2395    1.3873 C   0  0  0  0  0  0  0  0  0  0  0  0\\n    2.5420   -1.0848    0.3696 C   0  0  0  0  0  0  0  0  0  0  0  0\\n    2.1338   -2.4398    0.2877 C   0  0  0  0  0  0  0  0  0  0  0  0\\n    2.5941   -3.2919   -0.6851 C   0  0  0  0  0  0  0  0  0  0  0  0\\n    3.4760   -2.8648   -1.6250 C   0  0  0  0  0  0  0  0  0  0  0  0\\n    3.9123   -1.5450   -1.5905 C   0  0  0  0  0  0  0  0  0  0  0  0\\n    4.8374   -1.1096   -2.5091 C   0  0  0  0  0  0  0  0  0  0  0  0\\n    5.3351    0.1700   -2.4910 C   0  0  0  0  0  0  0  0  0  0  0  0\\n    4.8664    1.0070   -1.5065 C   0  0  0  0  0  0  0  0  0  0  0  0\\n    3.9366    0.5700   -0.5852 C   0  0  0  0  0  0  0  0  0  0  0  0\\n    3.4315   -0.7131   -0.6003 C   0  0  0  0  0  0  0  0  0  0  0  0\\n    1.4408    2.5508   -1.1412 C   0  0  0  0  0  0  0  0  0  0  0  0\\n    2.5618    3.7470   -2.5741 H   0  0  0  0  0  0  0  0  0  0  0  0\\n    0.9025    5.8220    0.6935 H   0  0  0  0  0  0  0  0  0  0  0  0\\n   -0.0555    3.7778    1.6153 H   0  0  0  0  0  0  0  0  0  0  0  0\\n   -4.8515    3.3787    0.5044 H   0  0  0  0  0  0  0  0  0  0  0  0\\n   -4.1929    3.2652   -1.1546 H   0  0  0  0  0  0  0  0  0  0  0  0\\n   -5.5171    2.1240   -0.6741 H   0  0  0  0  0  0  0  0  0  0  0  0\\n   -2.5559   -1.8292    2.5375 H   0  0  0  0  0  0  0  0  0  0  0  0\\n   -4.2999   -1.4176    2.3665 H   0  0  0  0  0  0  0  0  0  0  0  0\\n   -4.2333   -2.5198    0.0575 H   0  0  0  0  0  0  0  0  0  0  0  0\\n   -4.1582   -4.6790    0.9735 H   0  0  0  0  0  0  0  0  0  0  0  0\\n   -4.8256   -3.5841    2.2369 H   0  0  0  0  0  0  0  0  0  0  0  0\\n   -3.1196   -4.1414    2.3998 H   0  0  0  0  0  0  0  0  0  0  0  0\\n   -1.3959   -3.1169    0.8957 H   0  0  0  0  0  0  0  0  0  0  0  0\\n   -2.2998   -3.8160   -0.5386 H   0  0  0  0  0  0  0  0  0  0  0  0\\n   -1.9099   -2.0514   -0.4536 H   0  0  0  0  0  0  0  0  0  0  0  0\\n    1.8622   -0.9126    2.3109 H   0  0  0  0  0  0  0  0  0  0  0  0\\n    2.5723    0.5683    1.7657 H   0  0  0  0  0  0  0  0  0  0  0  0\\n    1.4335   -2.8024    1.0249 H   0  0  0  0  0  0  0  0  0  0  0  0\\n    2.2579   -4.3246   -0.7192 H   0  0  0  0  0  0  0  0  0  0  0  0\\n    3.8573   -3.5075   -2.4038 H   0  0  0  0  0  0  0  0  0  0  0  0\\n    5.1873   -1.7850   -3.2662 H   0  0  0  0  0  0  0  0  0  0  0  0\\n    6.0760    0.5105   -3.2302 H   0  0  0  0  0  0  0  0  0  0  0  0\\n    5.2162    2.0290   -1.4309 H   0  0  0  0  0  0  0  0  0  0  0  0\\n    3.5711    1.2245    0.1988 H   0  0  0  0  0  0  0  0  0  0  0  0\\n    1.6312    1.6510   -1.7544 H   0  0  0  0  0  0  0  0  0  0  0  0\\n  1  2  2  0\\n  2  3  1  0\\n  3  4  2  0\\n  4  5  1  0\\n  5  6  1  0\\n  6  7  2  0\\n  7  8  1  0\\n  8  9  2  0\\n  8 10  1  0\\n 10 11  1  0\\n 10 12  1  0\\n 12 13  2  0\\n 12 14  1  0\\n 14 15  1  0\\n 15 16  1  0\\n 16 17  1  0\\n 16 18  1  0\\n 14 19  1  0\\n 19 20  2  0\\n 20 21  1  0\\n 21 22  1  0\\n 22 23  1  0\\n 23 24  2  0\\n 24 25  1  0\\n 25 26  2  0\\n 26 27  1  0\\n 27 28  2  0\\n 28 29  1  0\\n 29 30  2  0\\n 30 31  1  0\\n 31 32  2  0\\n  5 33  2  0\\n 33  1  1  0\\n 21  6  1  0\\n 32 23  1  0\\n 19  7  1  0\\n 32 27  1  0\\n  1 34  1  0\\n  3 35  1  0\\n  4 36  1  0\\n 11 37  1  0\\n 11 38  1  0\\n 11 39  1  0\\n 15 40  1  0\\n 15 41  1  0\\n 16 42  1  0\\n 17 43  1  0\\n 17 44  1  0\\n 17 45  1  0\\n 18 46  1  0\\n 18 47  1  0\\n 18 48  1  0\\n 22 49  1  0\\n 22 50  1  0\\n 24 51  1  0\\n 25 52  1  0\\n 26 53  1  0\\n 28 54  1  0\\n 29 55  1  0\\n 30 56  1  0\\n 31 57  1  0\\n 33 58  1  0\\nM  END\\n\",\"sdf\");\n",
       "\tviewer_15825205073297029.setBackgroundColor(\"0xeeeeee\");\n",
       "\tviewer_15825205073297029.setStyle({\"stick\": {}});\n",
       "\tviewer_15825205073297029.zoomTo();\n",
       "viewer_15825205073297029.render();\n",
       "});\n",
       "</script>"
      ]
     },
     "metadata": {},
     "output_type": "display_data"
    }
   ],
   "source": [
    "v = py3Dmol.view(width=400, height=400)\n",
    "mols_show = [DG_m[1], ETDG_m[1], ETKDGv1_m[1], ETKDGv2_m[1]]\n",
    "for mol in mols_show:\n",
    "    mb = Chem.MolToMolBlock(mol)\n",
    "    v.addModel(mb, 'sdf')\n",
    "v.setBackgroundColor('0xeeeeee')\n",
    "v.setStyle({'stick': {}})\n",
    "v.zoomTo()\n",
    "v.show()"
   ]
  },
  {
   "cell_type": "code",
   "execution_count": 20,
   "metadata": {
    "scrolled": true
   },
   "outputs": [
    {
     "data": {
      "application/3dmoljs_load.v0": "<div id=\"3dmolviewer_15825207112778828\"  style=\"position: relative; width: 600px; height: 400px\">\n        <p id=\"3dmolwarning_15825207112778828\" style=\"background-color:#ffcccc;color:black\">You appear to be running in JupyterLab (or JavaScript failed to load for some other reason).  You need to install the 3dmol extension: <br>\n        <tt>jupyter labextension install jupyterlab_3dmol</tt></p>\n        </div>\n<script>\n\nvar loadScriptAsync = function(uri){\n  return new Promise((resolve, reject) => {\n    var tag = document.createElement('script');\n    tag.src = uri;\n    tag.async = true;\n    tag.onload = () => {\n      resolve();\n    };\n  var firstScriptTag = document.getElementsByTagName('script')[0];\n  firstScriptTag.parentNode.insertBefore(tag, firstScriptTag);\n});\n};\n\nif(typeof $3Dmolpromise === 'undefined') {\n$3Dmolpromise = null;\n  $3Dmolpromise = loadScriptAsync('https://3dmol.csb.pitt.edu/build/3Dmol.js');\n}\n\nvar viewer_15825207112778828 = null;\nvar warn = document.getElementById(\"3dmolwarning_15825207112778828\");\nif(warn) {\n    warn.parentNode.removeChild(warn);\n}\n$3Dmolpromise.then(function() {\nvar viewergrid_15825207112778828 = null;\nviewergrid_15825207112778828 = $3Dmol.createViewerGrid($(\"#3dmolviewer_15825207112778828\"),{rows: 2, cols: 2, control_all: false},{backgroundColor:\"white\"});\nviewer_15825207112778828 = viewergrid_15825207112778828[0][0];\n\tviewergrid_15825207112778828[0][0].addModel(\"002_2FV9_B\\n     RDKit          3D\\n\\n 65 65  0  0  0  0  0  0  0  0999 V2000\\n    0.5063   -0.9689    1.2549 C   0  0  0  0  0  0  0  0  0  0  0  0\\n    0.7488   -2.2967    2.0016 C   0  0  0  0  0  0  0  0  0  0  0  0\\n   -0.2920   -2.4811    3.1068 C   0  0  0  0  0  0  0  0  0  0  0  0\\n   -0.3099   -3.8961    3.6655 C   0  0  0  0  0  0  0  0  0  0  0  0\\n   -1.5931    0.1716    1.0941 C   0  0  0  0  0  0  0  0  0  0  0  0\\n    1.5483   -0.8143    0.1433 C   0  0  0  0  0  0  0  0  0  0  0  0\\n    3.7602    0.0151   -0.3502 C   0  0  0  0  0  0  0  0  0  0  0  0\\n    4.0411    1.4005   -0.9478 C   0  0  0  0  0  0  0  0  0  0  0  0\\n   -5.3749   -0.2392    1.6310 C   0  0  0  0  0  0  0  0  0  0  0  0\\n   -3.9004   -0.1312    1.9296 C   0  0  0  0  0  0  0  0  0  0  0  0\\n    4.9582   -0.4205    0.4824 C   0  0  0  0  0  0  0  0  0  0  0  0\\n    2.1709   -2.2903    2.5763 C   0  0  0  0  0  0  0  0  0  0  0  0\\n   -0.8737   -0.9172    0.7661 N   0  0  0  0  0  0  0  0  0  0  0  0\\n    1.4449   -1.4408   -0.9120 O   0  0  0  0  0  0  0  0  0  0  0  0\\n    5.7432   -1.2643    0.0014 O   0  0  0  0  0  0  0  0  0  0  0  0\\n   -7.4258    0.6437    1.4638 O   0  0  0  0  0  0  0  0  0  0  0  0\\n    3.1980    1.7319   -2.1863 C   0  0  0  0  0  0  0  0  0  0  0  0\\n    3.2419    0.5934   -3.2070 C   0  0  0  0  0  0  0  0  0  0  0  0\\n    3.6979    3.0224   -2.8425 C   0  0  0  0  0  0  0  0  0  0  0  0\\n   -6.1392    0.8257    1.9147 N   0  0  0  0  0  0  0  0  0  0  0  0\\n   -5.8370   -1.2701    1.1484 O   0  0  0  0  0  0  0  0  0  0  0  0\\n   -3.0599    0.1100    0.6745 C   0  0  0  0  0  0  0  0  0  0  0  0\\n   -3.4703    1.4006   -0.0562 C   0  0  0  0  0  0  0  0  0  0  0  0\\n   -1.1612    1.1479    1.6979 O   0  0  0  0  0  0  0  0  0  0  0  0\\n    2.5322    0.0574    0.4357 N   0  0  0  0  0  0  0  0  0  0  0  0\\n    5.1042    0.0821    1.6187 O   0  0  0  0  0  0  0  0  0  0  0  0\\n   -2.7955    1.4908   -1.4110 C   0  0  0  0  0  0  0  0  0  0  0  0\\n   -3.4462    0.9774   -2.5682 C   0  0  0  0  0  0  0  0  0  0  0  0\\n   -2.8334    1.0965   -3.8494 C   0  0  0  0  0  0  0  0  0  0  0  0\\n   -1.5613    1.7256   -3.9735 C   0  0  0  0  0  0  0  0  0  0  0  0\\n   -0.8928    2.2122   -2.8157 C   0  0  0  0  0  0  0  0  0  0  0  0\\n   -1.5093    2.0963   -1.5331 C   0  0  0  0  0  0  0  0  0  0  0  0\\n    0.6332   -0.2199    1.9051 H   0  0  0  0  0  0  0  0  0  0  0  0\\n    0.6667   -3.0522    1.3517 H   0  0  0  0  0  0  0  0  0  0  0  0\\n   -1.1959   -2.2732    2.7330 H   0  0  0  0  0  0  0  0  0  0  0  0\\n   -0.0848   -1.8459    3.8508 H   0  0  0  0  0  0  0  0  0  0  0  0\\n   -1.0047   -3.9629    4.3817 H   0  0  0  0  0  0  0  0  0  0  0  0\\n   -0.5239   -4.5414    2.9322 H   0  0  0  0  0  0  0  0  0  0  0  0\\n    0.5872   -4.1140    4.0499 H   0  0  0  0  0  0  0  0  0  0  0  0\\n    3.6378   -0.6366   -1.0988 H   0  0  0  0  0  0  0  0  0  0  0  0\\n    5.0066    1.4416   -1.2050 H   0  0  0  0  0  0  0  0  0  0  0  0\\n    3.8534    2.0886   -0.2469 H   0  0  0  0  0  0  0  0  0  0  0  0\\n   -3.5977   -0.9823    2.3587 H   0  0  0  0  0  0  0  0  0  0  0  0\\n   -3.7569    0.6301    2.5619 H   0  0  0  0  0  0  0  0  0  0  0  0\\n    2.3377   -3.1480    3.0628 H   0  0  0  0  0  0  0  0  0  0  0  0\\n    2.8311   -2.1960    1.8312 H   0  0  0  0  0  0  0  0  0  0  0  0\\n    2.2711   -1.5230    3.2097 H   0  0  0  0  0  0  0  0  0  0  0  0\\n   -1.2625   -1.6555    0.2150 H   0  0  0  0  0  0  0  0  0  0  0  0\\n    2.2496    1.8666   -1.8996 H   0  0  0  0  0  0  0  0  0  0  0  0\\n    2.6852    0.8363   -4.0014 H   0  0  0  0  0  0  0  0  0  0  0  0\\n    4.1870    0.4412   -3.4962 H   0  0  0  0  0  0  0  0  0  0  0  0\\n    2.8821   -0.2416   -2.7906 H   0  0  0  0  0  0  0  0  0  0  0  0\\n    3.1396    3.2251   -3.6471 H   0  0  0  0  0  0  0  0  0  0  0  0\\n    3.6284    3.7768   -2.1897 H   0  0  0  0  0  0  0  0  0  0  0  0\\n    4.6521    2.9078   -3.1190 H   0  0  0  0  0  0  0  0  0  0  0  0\\n   -5.8165    1.6437    2.3908 H   0  0  0  0  0  0  0  0  0  0  0  0\\n   -3.1832   -0.6634    0.0526 H   0  0  0  0  0  0  0  0  0  0  0  0\\n   -3.2023    2.1896    0.4966 H   0  0  0  0  0  0  0  0  0  0  0  0\\n   -4.4622    1.4041   -0.1832 H   0  0  0  0  0  0  0  0  0  0  0  0\\n    2.4232    0.7202    1.1765 H   0  0  0  0  0  0  0  0  0  0  0  0\\n   -4.3370    0.5314   -2.4819 H   0  0  0  0  0  0  0  0  0  0  0  0\\n   -3.2961    0.7388   -4.6606 H   0  0  0  0  0  0  0  0  0  0  0  0\\n   -1.1382    1.8250   -4.8741 H   0  0  0  0  0  0  0  0  0  0  0  0\\n    0.0092    2.6356   -2.9002 H   0  0  0  0  0  0  0  0  0  0  0  0\\n   -1.0394    2.4397   -0.7199 H   0  0  0  0  0  0  0  0  0  0  0  0\\n  1  2  1  0\\n  1  6  1  0\\n  1 13  1  0\\n  2  3  1  0\\n  2 12  1  0\\n  3  4  1  0\\n  5 13  1  0\\n  5 22  1  0\\n  5 24  2  0\\n  6 14  2  0\\n  6 25  1  0\\n  7  8  1  0\\n  7 11  1  0\\n  7 25  1  0\\n  8 17  1  0\\n  9 10  1  0\\n  9 20  1  0\\n  9 21  2  0\\n 10 22  1  0\\n 11 15  2  0\\n 11 26  1  0\\n 16 20  1  0\\n 17 18  1  0\\n 17 19  1  0\\n 22 23  1  0\\n 23 27  1  0\\n 27 28  2  0\\n 27 32  1  0\\n 28 29  1  0\\n 29 30  2  0\\n 30 31  1  0\\n 31 32  2  0\\n  1 33  1  0\\n  2 34  1  0\\n  3 35  1  0\\n  3 36  1  0\\n  4 37  1  0\\n  4 38  1  0\\n  4 39  1  0\\n  7 40  1  0\\n  8 41  1  0\\n  8 42  1  0\\n 10 43  1  0\\n 10 44  1  0\\n 12 45  1  0\\n 12 46  1  0\\n 12 47  1  0\\n 13 48  1  0\\n 32 65  1  0\\n 31 64  1  0\\n 17 49  1  0\\n 18 50  1  0\\n 18 51  1  0\\n 18 52  1  0\\n 19 53  1  0\\n 19 54  1  0\\n 19 55  1  0\\n 20 56  1  0\\n 22 57  1  0\\n 23 58  1  0\\n 23 59  1  0\\n 25 60  1  0\\n 28 61  1  0\\n 29 62  1  0\\n 30 63  1  0\\nM  CHG  2  16  -1  26  -1\\nM  END\\n\",\"sdf\");\n\tviewergrid_15825207112778828[0][0].setBackgroundClolor(\"0xeeeeee\");\n\tviewergrid_15825207112778828[0][1].setBackgroundClolor(\"0xeeeeee\");\n\tviewergrid_15825207112778828[1][0].setBackgroundClolor(\"0xeeeeee\");\n\tviewergrid_15825207112778828[1][1].setBackgroundClolor(\"0xeeeeee\");\n\tviewergrid_15825207112778828[0][0].setStyle({\"stick\": {}});\n\tviewergrid_15825207112778828[0][1].setStyle({\"stick\": {}});\n\tviewergrid_15825207112778828[1][0].setStyle({\"stick\": {}});\n\tviewergrid_15825207112778828[1][1].setStyle({\"stick\": {}});\n\tviewergrid_15825207112778828[0][0].zoomTo();\n\tviewergrid_15825207112778828[0][1].zoomTo();\n\tviewergrid_15825207112778828[1][0].zoomTo();\n\tviewergrid_15825207112778828[1][1].zoomTo();\nviewergrid_15825207112778828[1][1].render();\nviewergrid_15825207112778828[1][0].render();\nviewergrid_15825207112778828[0][1].render();\nviewergrid_15825207112778828[0][0].render();\n});\n</script>",
      "text/html": [
       "<div id=\"3dmolviewer_15825207112778828\"  style=\"position: relative; width: 600px; height: 400px\">\n",
       "        <p id=\"3dmolwarning_15825207112778828\" style=\"background-color:#ffcccc;color:black\">You appear to be running in JupyterLab (or JavaScript failed to load for some other reason).  You need to install the 3dmol extension: <br>\n",
       "        <tt>jupyter labextension install jupyterlab_3dmol</tt></p>\n",
       "        </div>\n",
       "<script>\n",
       "\n",
       "var loadScriptAsync = function(uri){\n",
       "  return new Promise((resolve, reject) => {\n",
       "    var tag = document.createElement('script');\n",
       "    tag.src = uri;\n",
       "    tag.async = true;\n",
       "    tag.onload = () => {\n",
       "      resolve();\n",
       "    };\n",
       "  var firstScriptTag = document.getElementsByTagName('script')[0];\n",
       "  firstScriptTag.parentNode.insertBefore(tag, firstScriptTag);\n",
       "});\n",
       "};\n",
       "\n",
       "if(typeof $3Dmolpromise === 'undefined') {\n",
       "$3Dmolpromise = null;\n",
       "  $3Dmolpromise = loadScriptAsync('https://3dmol.csb.pitt.edu/build/3Dmol.js');\n",
       "}\n",
       "\n",
       "var viewer_15825207112778828 = null;\n",
       "var warn = document.getElementById(\"3dmolwarning_15825207112778828\");\n",
       "if(warn) {\n",
       "    warn.parentNode.removeChild(warn);\n",
       "}\n",
       "$3Dmolpromise.then(function() {\n",
       "var viewergrid_15825207112778828 = null;\n",
       "viewergrid_15825207112778828 = $3Dmol.createViewerGrid($(\"#3dmolviewer_15825207112778828\"),{rows: 2, cols: 2, control_all: false},{backgroundColor:\"white\"});\n",
       "viewer_15825207112778828 = viewergrid_15825207112778828[0][0];\n",
       "\tviewergrid_15825207112778828[0][0].addModel(\"002_2FV9_B\\n     RDKit          3D\\n\\n 65 65  0  0  0  0  0  0  0  0999 V2000\\n    0.5063   -0.9689    1.2549 C   0  0  0  0  0  0  0  0  0  0  0  0\\n    0.7488   -2.2967    2.0016 C   0  0  0  0  0  0  0  0  0  0  0  0\\n   -0.2920   -2.4811    3.1068 C   0  0  0  0  0  0  0  0  0  0  0  0\\n   -0.3099   -3.8961    3.6655 C   0  0  0  0  0  0  0  0  0  0  0  0\\n   -1.5931    0.1716    1.0941 C   0  0  0  0  0  0  0  0  0  0  0  0\\n    1.5483   -0.8143    0.1433 C   0  0  0  0  0  0  0  0  0  0  0  0\\n    3.7602    0.0151   -0.3502 C   0  0  0  0  0  0  0  0  0  0  0  0\\n    4.0411    1.4005   -0.9478 C   0  0  0  0  0  0  0  0  0  0  0  0\\n   -5.3749   -0.2392    1.6310 C   0  0  0  0  0  0  0  0  0  0  0  0\\n   -3.9004   -0.1312    1.9296 C   0  0  0  0  0  0  0  0  0  0  0  0\\n    4.9582   -0.4205    0.4824 C   0  0  0  0  0  0  0  0  0  0  0  0\\n    2.1709   -2.2903    2.5763 C   0  0  0  0  0  0  0  0  0  0  0  0\\n   -0.8737   -0.9172    0.7661 N   0  0  0  0  0  0  0  0  0  0  0  0\\n    1.4449   -1.4408   -0.9120 O   0  0  0  0  0  0  0  0  0  0  0  0\\n    5.7432   -1.2643    0.0014 O   0  0  0  0  0  0  0  0  0  0  0  0\\n   -7.4258    0.6437    1.4638 O   0  0  0  0  0  0  0  0  0  0  0  0\\n    3.1980    1.7319   -2.1863 C   0  0  0  0  0  0  0  0  0  0  0  0\\n    3.2419    0.5934   -3.2070 C   0  0  0  0  0  0  0  0  0  0  0  0\\n    3.6979    3.0224   -2.8425 C   0  0  0  0  0  0  0  0  0  0  0  0\\n   -6.1392    0.8257    1.9147 N   0  0  0  0  0  0  0  0  0  0  0  0\\n   -5.8370   -1.2701    1.1484 O   0  0  0  0  0  0  0  0  0  0  0  0\\n   -3.0599    0.1100    0.6745 C   0  0  0  0  0  0  0  0  0  0  0  0\\n   -3.4703    1.4006   -0.0562 C   0  0  0  0  0  0  0  0  0  0  0  0\\n   -1.1612    1.1479    1.6979 O   0  0  0  0  0  0  0  0  0  0  0  0\\n    2.5322    0.0574    0.4357 N   0  0  0  0  0  0  0  0  0  0  0  0\\n    5.1042    0.0821    1.6187 O   0  0  0  0  0  0  0  0  0  0  0  0\\n   -2.7955    1.4908   -1.4110 C   0  0  0  0  0  0  0  0  0  0  0  0\\n   -3.4462    0.9774   -2.5682 C   0  0  0  0  0  0  0  0  0  0  0  0\\n   -2.8334    1.0965   -3.8494 C   0  0  0  0  0  0  0  0  0  0  0  0\\n   -1.5613    1.7256   -3.9735 C   0  0  0  0  0  0  0  0  0  0  0  0\\n   -0.8928    2.2122   -2.8157 C   0  0  0  0  0  0  0  0  0  0  0  0\\n   -1.5093    2.0963   -1.5331 C   0  0  0  0  0  0  0  0  0  0  0  0\\n    0.6332   -0.2199    1.9051 H   0  0  0  0  0  0  0  0  0  0  0  0\\n    0.6667   -3.0522    1.3517 H   0  0  0  0  0  0  0  0  0  0  0  0\\n   -1.1959   -2.2732    2.7330 H   0  0  0  0  0  0  0  0  0  0  0  0\\n   -0.0848   -1.8459    3.8508 H   0  0  0  0  0  0  0  0  0  0  0  0\\n   -1.0047   -3.9629    4.3817 H   0  0  0  0  0  0  0  0  0  0  0  0\\n   -0.5239   -4.5414    2.9322 H   0  0  0  0  0  0  0  0  0  0  0  0\\n    0.5872   -4.1140    4.0499 H   0  0  0  0  0  0  0  0  0  0  0  0\\n    3.6378   -0.6366   -1.0988 H   0  0  0  0  0  0  0  0  0  0  0  0\\n    5.0066    1.4416   -1.2050 H   0  0  0  0  0  0  0  0  0  0  0  0\\n    3.8534    2.0886   -0.2469 H   0  0  0  0  0  0  0  0  0  0  0  0\\n   -3.5977   -0.9823    2.3587 H   0  0  0  0  0  0  0  0  0  0  0  0\\n   -3.7569    0.6301    2.5619 H   0  0  0  0  0  0  0  0  0  0  0  0\\n    2.3377   -3.1480    3.0628 H   0  0  0  0  0  0  0  0  0  0  0  0\\n    2.8311   -2.1960    1.8312 H   0  0  0  0  0  0  0  0  0  0  0  0\\n    2.2711   -1.5230    3.2097 H   0  0  0  0  0  0  0  0  0  0  0  0\\n   -1.2625   -1.6555    0.2150 H   0  0  0  0  0  0  0  0  0  0  0  0\\n    2.2496    1.8666   -1.8996 H   0  0  0  0  0  0  0  0  0  0  0  0\\n    2.6852    0.8363   -4.0014 H   0  0  0  0  0  0  0  0  0  0  0  0\\n    4.1870    0.4412   -3.4962 H   0  0  0  0  0  0  0  0  0  0  0  0\\n    2.8821   -0.2416   -2.7906 H   0  0  0  0  0  0  0  0  0  0  0  0\\n    3.1396    3.2251   -3.6471 H   0  0  0  0  0  0  0  0  0  0  0  0\\n    3.6284    3.7768   -2.1897 H   0  0  0  0  0  0  0  0  0  0  0  0\\n    4.6521    2.9078   -3.1190 H   0  0  0  0  0  0  0  0  0  0  0  0\\n   -5.8165    1.6437    2.3908 H   0  0  0  0  0  0  0  0  0  0  0  0\\n   -3.1832   -0.6634    0.0526 H   0  0  0  0  0  0  0  0  0  0  0  0\\n   -3.2023    2.1896    0.4966 H   0  0  0  0  0  0  0  0  0  0  0  0\\n   -4.4622    1.4041   -0.1832 H   0  0  0  0  0  0  0  0  0  0  0  0\\n    2.4232    0.7202    1.1765 H   0  0  0  0  0  0  0  0  0  0  0  0\\n   -4.3370    0.5314   -2.4819 H   0  0  0  0  0  0  0  0  0  0  0  0\\n   -3.2961    0.7388   -4.6606 H   0  0  0  0  0  0  0  0  0  0  0  0\\n   -1.1382    1.8250   -4.8741 H   0  0  0  0  0  0  0  0  0  0  0  0\\n    0.0092    2.6356   -2.9002 H   0  0  0  0  0  0  0  0  0  0  0  0\\n   -1.0394    2.4397   -0.7199 H   0  0  0  0  0  0  0  0  0  0  0  0\\n  1  2  1  0\\n  1  6  1  0\\n  1 13  1  0\\n  2  3  1  0\\n  2 12  1  0\\n  3  4  1  0\\n  5 13  1  0\\n  5 22  1  0\\n  5 24  2  0\\n  6 14  2  0\\n  6 25  1  0\\n  7  8  1  0\\n  7 11  1  0\\n  7 25  1  0\\n  8 17  1  0\\n  9 10  1  0\\n  9 20  1  0\\n  9 21  2  0\\n 10 22  1  0\\n 11 15  2  0\\n 11 26  1  0\\n 16 20  1  0\\n 17 18  1  0\\n 17 19  1  0\\n 22 23  1  0\\n 23 27  1  0\\n 27 28  2  0\\n 27 32  1  0\\n 28 29  1  0\\n 29 30  2  0\\n 30 31  1  0\\n 31 32  2  0\\n  1 33  1  0\\n  2 34  1  0\\n  3 35  1  0\\n  3 36  1  0\\n  4 37  1  0\\n  4 38  1  0\\n  4 39  1  0\\n  7 40  1  0\\n  8 41  1  0\\n  8 42  1  0\\n 10 43  1  0\\n 10 44  1  0\\n 12 45  1  0\\n 12 46  1  0\\n 12 47  1  0\\n 13 48  1  0\\n 32 65  1  0\\n 31 64  1  0\\n 17 49  1  0\\n 18 50  1  0\\n 18 51  1  0\\n 18 52  1  0\\n 19 53  1  0\\n 19 54  1  0\\n 19 55  1  0\\n 20 56  1  0\\n 22 57  1  0\\n 23 58  1  0\\n 23 59  1  0\\n 25 60  1  0\\n 28 61  1  0\\n 29 62  1  0\\n 30 63  1  0\\nM  CHG  2  16  -1  26  -1\\nM  END\\n\",\"sdf\");\n",
       "\tviewergrid_15825207112778828[0][0].setBackgroundClolor(\"0xeeeeee\");\n",
       "\tviewergrid_15825207112778828[0][1].setBackgroundClolor(\"0xeeeeee\");\n",
       "\tviewergrid_15825207112778828[1][0].setBackgroundClolor(\"0xeeeeee\");\n",
       "\tviewergrid_15825207112778828[1][1].setBackgroundClolor(\"0xeeeeee\");\n",
       "\tviewergrid_15825207112778828[0][0].setStyle({\"stick\": {}});\n",
       "\tviewergrid_15825207112778828[0][1].setStyle({\"stick\": {}});\n",
       "\tviewergrid_15825207112778828[1][0].setStyle({\"stick\": {}});\n",
       "\tviewergrid_15825207112778828[1][1].setStyle({\"stick\": {}});\n",
       "\tviewergrid_15825207112778828[0][0].zoomTo();\n",
       "\tviewergrid_15825207112778828[0][1].zoomTo();\n",
       "\tviewergrid_15825207112778828[1][0].zoomTo();\n",
       "\tviewergrid_15825207112778828[1][1].zoomTo();\n",
       "viewergrid_15825207112778828[1][1].render();\n",
       "viewergrid_15825207112778828[1][0].render();\n",
       "viewergrid_15825207112778828[0][1].render();\n",
       "viewergrid_15825207112778828[0][0].render();\n",
       "});\n",
       "</script>"
      ]
     },
     "metadata": {},
     "output_type": "display_data"
    }
   ],
   "source": [
    "v = py3Dmol.view(width=600, height=400, linked=False, viewergrid=(2,2))\n",
    "for m, i in zip(mols[0:1], [(0,0), (0,1), (1,0), (1,1)]):\n",
    "    mb = Chem.MolToMolBlock(m)\n",
    "    v.addModel(mb, 'sdf', viewer=i)\n",
    "v.setBackgroundClolor('0xeeeeee')\n",
    "v.setStyle({'stick': {}})\n",
    "v.zoomTo()\n",
    "v.show()"
   ]
  },
  {
   "cell_type": "code",
   "execution_count": null,
   "metadata": {},
   "outputs": [],
   "source": []
  }
 ],
 "metadata": {
  "kernelspec": {
   "display_name": "Python 3",
   "language": "python",
   "name": "python3"
  },
  "language_info": {
   "codemirror_mode": {
    "name": "ipython",
    "version": 3
   },
   "file_extension": ".py",
   "mimetype": "text/x-python",
   "name": "python",
   "nbconvert_exporter": "python",
   "pygments_lexer": "ipython3",
   "version": "3.7.5"
  }
 },
 "nbformat": 4,
 "nbformat_minor": 2
}
