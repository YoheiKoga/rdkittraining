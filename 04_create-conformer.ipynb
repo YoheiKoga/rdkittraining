{
 "cells": [
  {
   "cell_type": "code",
   "execution_count": 1,
   "metadata": {},
   "outputs": [
    {
     "name": "stderr",
     "output_type": "stream",
     "text": [
      "RDKit WARNING: [10:30:02] Enabling RDKit 2019.09.2 jupyter extensions\n"
     ]
    }
   ],
   "source": [
    "from rdkit import rdBase, Chem\n",
    "from rdkit.Chem import AllChem\n",
    "from rdkit.Chem.Draw import IPythonConsole\n",
    "import py3Dmol\n",
    "import pandas as pd"
   ]
  },
  {
   "cell_type": "code",
   "execution_count": 2,
   "metadata": {},
   "outputs": [],
   "source": [
    "# read molecule\n",
    "suppl = Chem.SDMolSupplier('./sdf/platinum_dataset_2017_01.sdf', removeHs=False)\n",
    "mols = [x for x in suppl if x is not None]\n",
    "# len(mols)"
   ]
  },
  {
   "cell_type": "code",
   "execution_count": 3,
   "metadata": {},
   "outputs": [
    {
     "data": {
      "image/png": "[encoded data removed]",
      "text/plain": [
       "<rdkit.Chem.rdchem.Mol at 0x11874c3a0>"
      ]
     },
     "execution_count": 3,
     "metadata": {},
     "output_type": "execute_result"
    }
   ],
   "source": [
    "mol = mols[0]\n",
    "smtest = Chem.MolToSmiles(mol)\n",
    "mtest = Chem.MolFromSmiles(smtest)\n",
    "m_htest = Chem.AddHs(mtest)\n",
    "m_htest"
   ]
  },
  {
   "cell_type": "code",
   "execution_count": 4,
   "metadata": {},
   "outputs": [],
   "source": [
    "def conf_generation(mol, numConfs, rms):\n",
    "    sm = Chem.MolToSmiles(mol)\n",
    "    m = Chem.MolFromSmiles(sm)\n",
    "    m_h = Chem.AddHs(m)\n",
    "    num_of_confs = []\n",
    "    for i in rms:\n",
    "        confids = AllChem.EmbedMultipleConfs(m_h, numConfs=numConfs, randomSeed=1234, pruneRmsThresh=i, numThreads=0)\n",
    "        num_of_confs.append((i, len(confids)))\n",
    "    \n",
    "    return num_of_confs\n",
    "\n",
    "rms = [0.5, 1.0, 1.5, 2.0]\n",
    "num_of_confs = conf_generation(mol, 1000, rms)"
   ]
  },
  {
   "cell_type": "code",
   "execution_count": 13,
   "metadata": {},
   "outputs": [
    {
     "name": "stdout",
     "output_type": "stream",
     "text": [
      "(0.5, 1000)\n",
      "(1.0, 998)\n",
      "(1.5, 843)\n",
      "(2.0, 265)\n"
     ]
    }
   ],
   "source": [
    "for i in num_of_confs:\n",
    "    print(i)"
   ]
  },
  {
   "cell_type": "code",
   "execution_count": 12,
   "metadata": {},
   "outputs": [],
   "source": [
    "mol = mols[0]\n",
    "sm_test = Chem.MolToSmiles(mol)\n",
    "m_test = Chem.MolFromSmiles(sm_test)\n",
    "m_h_test = Chem.AddHs(m_test)\n",
    "cids_test = AllChem.EmbedMultipleConfs(m_h_test, numConfs=100, randomSeed=1234, pruneRmsThresh=2, numThreads=0)\n",
    "\n",
    "\n",
    "rmsd_test = []\n",
    "m_test = Chem.RemoveHs(m_h_test)\n"
   ]
  },
  {
   "cell_type": "code",
   "execution_count": 24,
   "metadata": {},
   "outputs": [
    {
     "data": {
      "text/plain": [
       "[(0, 45.01019684539773),\n",
       " (1, 47.69093997962961),\n",
       " (1, 41.203013593756076),\n",
       " (1, 41.82452935930037),\n",
       " (1, 43.5061727808862),\n",
       " (1, 46.483936195098316),\n",
       " (1, 46.246280831312035),\n",
       " (1, 42.57961622646165),\n",
       " (1, 41.04048510725408),\n",
       " (1, 42.23246057425159),\n",
       " (1, 36.08759650087166),\n",
       " (0, 40.33018182845635),\n",
       " (1, 41.99043364625938),\n",
       " (0, 42.44232313279096),\n",
       " (1, 42.33295114643878),\n",
       " (1, 44.95622090122325),\n",
       " (0, 41.280765833083),\n",
       " (0, 41.82410436387364),\n",
       " (1, 45.07725579869078),\n",
       " (1, 40.61843466859741),\n",
       " (1, 41.17402983043115),\n",
       " (1, 40.47699581648325),\n",
       " (1, 39.49137660782719),\n",
       " (1, 39.241079958259746),\n",
       " (1, 48.23584580279666),\n",
       " (1, 45.651825127033106),\n",
       " (1, 39.80605157068149),\n",
       " (1, 39.915983459096),\n",
       " (1, 45.398213249831315),\n",
       " (1, 41.8131007925036),\n",
       " (1, 54.257300348015455),\n",
       " (1, 42.17852611820054),\n",
       " (0, 37.68487640680897),\n",
       " (1, 41.15994079014598),\n",
       " (1, 42.70185184727726),\n",
       " (0, 42.61781227034683),\n",
       " (1, 46.356367582634256),\n",
       " (1, 41.62044021464719),\n",
       " (1, 41.6660938031771),\n",
       " (1, 41.431141081711736),\n",
       " (1, 39.312172289422236),\n",
       " (1, 46.489235164392035),\n",
       " (1, 43.895596097041434),\n",
       " (1, 47.391892872176946),\n",
       " (1, 45.20260599342271),\n",
       " (1, 40.95133684762718),\n",
       " (1, 44.32146570081859),\n",
       " (1, 39.40452201019954),\n",
       " (1, 51.53322170179114),\n",
       " (0, 44.86449795524684),\n",
       " (1, 39.67022681978808),\n",
       " (1, 40.56055090331415),\n",
       " (1, 45.4968670317658),\n",
       " (1, 40.792266554374926),\n",
       " (1, 39.32055374016654),\n",
       " (1, 43.75820018080472),\n",
       " (1, 36.79302169647394),\n",
       " (1, 45.20095362579153),\n",
       " (1, 41.74274570556933),\n",
       " (1, 38.7852087535337),\n",
       " (1, 45.93817171868471),\n",
       " (1, 44.28374564704361),\n",
       " (1, 45.89249372048841),\n",
       " (0, 42.05608103477607),\n",
       " (1, 40.057789425217),\n",
       " (1, 40.868493819729956),\n",
       " (0, 39.35126046789347),\n",
       " (1, 42.52195111325656),\n",
       " (1, 41.58458201069062),\n",
       " (1, 47.79990077315708),\n",
       " (1, 39.958172728787886),\n",
       " (1, 35.43880211777094)]"
      ]
     },
     "execution_count": 24,
     "metadata": {},
     "output_type": "execute_result"
    }
   ],
   "source": [
    "AllChem.UFFOptimizeMoleculeConfs(m_h_test, numThreads=0)\n"
   ]
  },
  {
   "cell_type": "code",
   "execution_count": 15,
   "metadata": {},
   "outputs": [
    {
     "data": {
      "text/plain": [
       "[0.0,\n",
       " 2.945148003079379,\n",
       " 2.6877992216118227,\n",
       " 2.4436763749094426,\n",
       " 2.6264635258989446,\n",
       " 1.8514781850950335,\n",
       " 2.19130585350164,\n",
       " 2.0528522591106295,\n",
       " 2.602199606904684,\n",
       " 2.2766938206984872,\n",
       " 3.1182706090522823,\n",
       " 2.9160049725504282,\n",
       " 3.1550139673700026,\n",
       " 2.4722665972389835,\n",
       " 2.8394737019938776,\n",
       " 2.9903164157670936,\n",
       " 2.4837470493156895,\n",
       " 2.4963795146012813,\n",
       " 2.869999898056474,\n",
       " 2.503140441334511,\n",
       " 2.099948417694484,\n",
       " 3.1810224169516093,\n",
       " 2.1966999402989447,\n",
       " 2.232028479913319,\n",
       " 2.849004610140913,\n",
       " 2.0656487315162737,\n",
       " 1.7892003770715974,\n",
       " 3.300845428805136,\n",
       " 2.5214635981762,\n",
       " 2.8217536048855094,\n",
       " 3.566043373498134,\n",
       " 2.5860768959187346,\n",
       " 2.0786360329184608,\n",
       " 2.3785773976485753,\n",
       " 2.800658763707593,\n",
       " 2.5421241188578847,\n",
       " 2.69679201058714,\n",
       " 2.6631924495339434,\n",
       " 2.43697114979953,\n",
       " 1.4121324749292636,\n",
       " 2.3767136453186573,\n",
       " 2.9326492970218028,\n",
       " 2.094359026270612,\n",
       " 2.743763849351924,\n",
       " 2.793030433007768,\n",
       " 2.2568064433515698,\n",
       " 3.599918312842664,\n",
       " 3.2479264701223824,\n",
       " 2.300569776921468,\n",
       " 2.259412555140692,\n",
       " 2.9765075513950667,\n",
       " 2.823572612365808,\n",
       " 1.712156767862104,\n",
       " 2.559225721366004,\n",
       " 2.8589736550379876,\n",
       " 2.302216278068844,\n",
       " 2.6521652109498515,\n",
       " 2.927368373128745,\n",
       " 1.834522494722973,\n",
       " 3.514582825928537,\n",
       " 2.2957139130787154,\n",
       " 2.866688392774846,\n",
       " 2.2045636101253607,\n",
       " 2.2335745521575427,\n",
       " 2.566667640715219,\n",
       " 2.2109269600242154,\n",
       " 2.124806129470657,\n",
       " 2.527747691067143,\n",
       " 3.455259705405475,\n",
       " 2.100040283381549,\n",
       " 2.257119165073956,\n",
       " 2.6997679820059024]"
      ]
     },
     "execution_count": 15,
     "metadata": {},
     "output_type": "execute_result"
    }
   ],
   "source": [
    "for cid in cids_test:\n",
    "    rmsd_test.append(AllChem.GetConformerRMS(m_test, 0, cid))\n",
    "\n",
    "rmsd_test"
   ]
  },
  {
   "cell_type": "code",
   "execution_count": 6,
   "metadata": {},
   "outputs": [
    {
     "data": {
      "text/html": [
       "<div>\n",
       "<style scoped>\n",
       "    .dataframe tbody tr th:only-of-type {\n",
       "        vertical-align: middle;\n",
       "    }\n",
       "\n",
       "    .dataframe tbody tr th {\n",
       "        vertical-align: top;\n",
       "    }\n",
       "\n",
       "    .dataframe thead th {\n",
       "        text-align: right;\n",
       "    }\n",
       "</style>\n",
       "<table border=\"1\" class=\"dataframe\">\n",
       "  <thead>\n",
       "    <tr style=\"text-align: right;\">\n",
       "      <th></th>\n",
       "      <th>uff</th>\n",
       "      <th>mmff</th>\n",
       "    </tr>\n",
       "  </thead>\n",
       "  <tbody>\n",
       "    <tr>\n",
       "      <th>count</th>\n",
       "      <td>72.00</td>\n",
       "      <td>72.00</td>\n",
       "    </tr>\n",
       "    <tr>\n",
       "      <th>mean</th>\n",
       "      <td>2.67</td>\n",
       "      <td>2.58</td>\n",
       "    </tr>\n",
       "    <tr>\n",
       "      <th>std</th>\n",
       "      <td>0.57</td>\n",
       "      <td>0.60</td>\n",
       "    </tr>\n",
       "    <tr>\n",
       "      <th>min</th>\n",
       "      <td>0.00</td>\n",
       "      <td>0.00</td>\n",
       "    </tr>\n",
       "    <tr>\n",
       "      <th>25%</th>\n",
       "      <td>2.36</td>\n",
       "      <td>2.33</td>\n",
       "    </tr>\n",
       "    <tr>\n",
       "      <th>50%</th>\n",
       "      <td>2.73</td>\n",
       "      <td>2.74</td>\n",
       "    </tr>\n",
       "    <tr>\n",
       "      <th>75%</th>\n",
       "      <td>3.07</td>\n",
       "      <td>2.96</td>\n",
       "    </tr>\n",
       "    <tr>\n",
       "      <th>max</th>\n",
       "      <td>3.91</td>\n",
       "      <td>3.85</td>\n",
       "    </tr>\n",
       "  </tbody>\n",
       "</table>\n",
       "</div>"
      ],
      "text/plain": [
       "         uff   mmff\n",
       "count  72.00  72.00\n",
       "mean    2.67   2.58\n",
       "std     0.57   0.60\n",
       "min     0.00   0.00\n",
       "25%     2.36   2.33\n",
       "50%     2.73   2.74\n",
       "75%     3.07   2.96\n",
       "max     3.91   3.85"
      ]
     },
     "execution_count": 6,
     "metadata": {},
     "output_type": "execute_result"
    }
   ],
   "source": [
    "def mm_opt(mol, ff):\n",
    "    sm = Chem.MolToSmiles(mol)\n",
    "    m = Chem.MolFromSmiles(sm)\n",
    "    m_h = Chem.AddHs(m)\n",
    "    cids = AllChem.EmbedMultipleConfs(m_h, numConfs=100, randomSeed=1234, pruneRmsThresh=2, numThreads=0)\n",
    "    \n",
    "    if ff == 'uff':\n",
    "        AllChem.UFFOptimizeMoleculeConfs(m_h, numThreads=0)\n",
    "    if ff == 'mmff':\n",
    "        AllChem.MMFFOptimizeMoleculeConfs(m_h, numThreads=0)\n",
    "    rmsd = []\n",
    "    m = Chem.RemoveHs(m_h)\n",
    "    for cid in cids:\n",
    "        rmsd.append(AllChem.GetConformerRMS(m, 0, cid))\n",
    "    return rmsd\n",
    "\n",
    "uff_rmsd = mm_opt(mol, 'uff')\n",
    "mmff_rmsd = mm_opt(mol, 'mmff')\n",
    "df = pd.DataFrame({'uff': uff_rmsd, 'mmff': mmff_rmsd})\n",
    "df.describe().round(2)"
   ]
  },
  {
   "cell_type": "code",
   "execution_count": 27,
   "metadata": {},
   "outputs": [],
   "source": [
    "def opt_sp_mm(mol, ff):\n",
    "    # generate 1000 conformers\n",
    "    sm = Chem.MolToSmiles(mol)\n",
    "    m = Chem.MolFromSmiles(sm)\n",
    "    m_h = Chem.AddHs(m)\n",
    "    cids = AllChem.EmbedMultipleConfs(m_h, numConfs=1000, randomSeed=1234, pruneRmsThresh=2, numThreads=0)\n",
    "    \n",
    "    # optimize each conformers and calculate energy\n",
    "    energy = []\n",
    "    if ff == 'uff':\n",
    "        for cid in cids:\n",
    "            uff = AllChem.UFFGetMoleculeForceField(m_h, confId=cid)\n",
    "            uff.Minimize()\n",
    "            energy.append((uff.CalcEnergy(), cid))\n",
    "    if ff == 'mmff':\n",
    "        prop = AllChem.MMFFGetMoleculeProperties(m_h)\n",
    "        for cid in cids:\n",
    "            mmff = AllChem.MMFFGetMoleculeForceField(m_h, prop, confId=cid)\n",
    "            mmff.Minimize()\n",
    "            energy.append((mmff.CalcEnergy(), cid))\n",
    "    \n",
    "    # sort energy and store relative energy and ID to the list\n",
    "    energy.sort()\n",
    "    return [(i-energy[0][0], j) for i,j in energy]\n",
    "\n",
    "uff_e = opt_sp_mm(mol, 'uff')\n",
    "mmff_e = opt_sp_mm(mol, 'mmff')"
   ]
  },
  {
   "cell_type": "code",
   "execution_count": 35,
   "metadata": {},
   "outputs": [
    {
     "name": "stdout",
     "output_type": "stream",
     "text": [
      "[(0.0, 71), (0.8680767627518122, 144), (1.1093474183794996, 164), (1.1606893327714332, 223), (1.3767404084060857, 10)]\n",
      "[(0.0, 151), (1.0154467648072085, 196), (1.5150582844411247, 170), (2.404494467880781, 43), (2.6960686078414824, 262)]\n"
     ]
    }
   ],
   "source": [
    "print(uff_e[0:5])\n",
    "print(mmff_e[0:5])"
   ]
  },
  {
   "cell_type": "code",
   "execution_count": 38,
   "metadata": {},
   "outputs": [
    {
     "data": {
      "application/3dmoljs_load.v0": "<div id=\"3dmolviewer_1583634223412244\"  style=\"position: relative; width: 600px; height: 600px\">\n        <p id=\"3dmolwarning_1583634223412244\" style=\"background-color:#ffcccc;color:black\">You appear to be running in JupyterLab (or JavaScript failed to load for some other reason).  You need to install the 3dmol extension: <br>\n        <tt>jupyter labextension install jupyterlab_3dmol</tt></p>\n        </div>\n<script>\n\nvar loadScriptAsync = function(uri){\n  return new Promise((resolve, reject) => {\n    var tag = document.createElement('script');\n    tag.src = uri;\n    tag.async = true;\n    tag.onload = () => {\n      resolve();\n    };\n  var firstScriptTag = document.getElementsByTagName('script')[0];\n  firstScriptTag.parentNode.insertBefore(tag, firstScriptTag);\n});\n};\n\nif(typeof $3Dmolpromise === 'undefined') {\n$3Dmolpromise = null;\n  $3Dmolpromise = loadScriptAsync('https://3dmol.csb.pitt.edu/build/3Dmol.js');\n}\n\nvar viewer_1583634223412244 = null;\nvar warn = document.getElementById(\"3dmolwarning_1583634223412244\");\nif(warn) {\n    warn.parentNode.removeChild(warn);\n}\n$3Dmolpromise.then(function() {\nviewer_1583634223412244 = $3Dmol.createViewer($(\"#3dmolviewer_1583634223412244\"),{backgroundColor:\"white\"});\n\tviewer_1583634223412244.addModel(\"\\n     RDKit          3D\\n\\n 32 32  0  0  0  0  0  0  0  0999 V2000\\n   -8.0026    0.8762   -0.2731 C   0  0  0  0  0  0  0  0  0  0  0  0\\n   -7.2872    2.0512   -0.5143 C   0  0  0  0  0  0  0  0  0  0  0  0\\n   -5.9662    2.1699   -0.0730 C   0  0  0  0  0  0  0  0  0  0  0  0\\n   -5.3532    1.1123    0.6198 C   0  0  0  0  0  0  0  0  0  0  0  0\\n   -3.9169    1.2320    1.0629 C   0  0  0  0  0  0  0  0  0  0  0  0\\n   -2.9427    0.9010   -0.0896 C   0  0  0  0  0  0  0  0  0  0  0  0\\n   -3.0331   -0.5576   -0.4736 C   0  0  0  0  0  0  0  0  0  0  0  0\\n   -3.4620   -0.8669   -1.6190 O   0  0  0  0  0  0  0  0  0  0  0  0\\n   -2.6234   -1.5850    0.4431 N   0  0  0  0  0  0  0  0  0  0  0  0\\n   -2.4585   -2.9824    0.0324 C   0  0  0  0  0  0  0  0  0  0  0  0\\n   -3.7852   -3.6864    0.1706 C   0  0  0  0  0  0  0  0  0  0  0  0\\n   -4.3325   -4.1765   -0.8542 O   0  0  0  0  0  0  0  0  0  0  0  0\\n   -4.4132   -3.8127    1.4564 N   0  0  0  0  0  0  0  0  0  0  0  0\\n   -5.6071   -4.6396    1.6608 C   0  0  0  0  0  0  0  0  0  0  0  0\\n   -5.6983   -5.0516    3.1055 C   0  0  0  0  0  0  0  0  0  0  0  0\\n   -5.6599   -6.2707    3.4195 O   0  0  0  0  0  0  0  0  0  0  0  0\\n   -5.8273   -4.0905    4.1027 O   0  0  0  0  0  1  0  0  0  0  0  0\\n   -6.8646   -3.8568    1.2272 C   0  0  0  0  0  0  0  0  0  0  0  0\\n   -8.1741   -4.6828    1.2707 C   0  0  0  0  0  0  0  0  0  0  0  0\\n   -8.1930   -5.7867    0.2023 C   0  0  0  0  0  0  0  0  0  0  0  0\\n   -9.3818   -3.7564    1.0789 C   0  0  0  0  0  0  0  0  0  0  0  0\\n   -1.3337   -3.6708    0.8611 C   0  0  0  0  0  0  0  0  0  0  0  0\\n   -1.2129   -5.1646    0.4994 C   0  0  0  0  0  0  0  0  0  0  0  0\\n    0.0218   -2.9498    0.6338 C   0  0  0  0  0  0  0  0  0  0  0  0\\n    1.0837   -3.3329    1.6662 C   0  0  0  0  0  0  0  0  0  0  0  0\\n   -1.4852    1.2566    0.2745 C   0  0  0  0  0  0  0  0  0  0  0  0\\n   -1.2808    2.7451    0.3856 C   0  0  0  0  0  0  0  0  0  0  0  0\\n   -1.4276    3.4652   -0.6381 O   0  0  0  0  0  0  0  0  0  0  0  0\\n   -0.9188    3.3596    1.6261 N   0  0  0  0  0  0  0  0  0  0  0  0\\n   -0.7663    2.6313    2.7570 O   0  0  0  0  0  1  0  0  0  0  0  0\\n   -6.0745   -0.0714    0.8479 C   0  0  0  0  0  0  0  0  0  0  0  0\\n   -7.3967   -0.1840    0.4061 C   0  0  0  0  0  0  0  0  0  0  0  0\\n  1  2  2  0\\n  2  3  1  0\\n  3  4  2  0\\n  4  5  1  0\\n  5  6  1  0\\n  6  7  1  0\\n  7  8  2  0\\n  7  9  1  0\\n  9 10  1  0\\n 10 11  1  0\\n 11 12  2  0\\n 11 13  1  0\\n 13 14  1  0\\n 14 15  1  0\\n 15 16  2  0\\n 15 17  1  0\\n 14 18  1  0\\n 18 19  1  0\\n 19 20  1  0\\n 19 21  1  0\\n 10 22  1  0\\n 22 23  1  0\\n 22 24  1  0\\n 24 25  1  0\\n  6 26  1  0\\n 26 27  1  0\\n 27 28  2  0\\n 27 29  1  0\\n 29 30  1  0\\n  4 31  1  0\\n 31 32  2  0\\n 32  1  1  0\\nM  CHG  2  17  -1  30  -1\\nM  END\\n\",\"sdf\");\n\tviewer_1583634223412244.setStyle({\"stick\": {}});\n\tviewer_1583634223412244.addModel(\"\\n     RDKit          3D\\n\\n 32 32  0  0  0  0  0  0  0  0999 V2000\\n   -8.0014    0.8740   -0.2767 C   0  0  0  0  0  0  0  0  0  0  0  0\\n   -7.2872    2.0519   -0.5129 C   0  0  0  0  0  0  0  0  0  0  0  0\\n   -5.9676    2.1725   -0.0684 C   0  0  0  0  0  0  0  0  0  0  0  0\\n   -5.3497    1.1090    0.6118 C   0  0  0  0  0  0  0  0  0  0  0  0\\n   -3.9463    1.2565    1.1474 C   0  0  0  0  0  0  0  0  0  0  0  0\\n   -3.9533    1.6315    2.6468 C   0  0  0  0  0  0  0  0  0  0  0  0\\n   -4.6341    2.9651    2.8410 C   0  0  0  0  0  0  0  0  0  0  0  0\\n   -4.1002    4.0130    2.3832 O   0  0  0  0  0  0  0  0  0  0  0  0\\n   -5.9052    3.0349    3.5029 N   0  0  0  0  0  0  0  0  0  0  0  0\\n   -6.7167    4.2562    3.4940 C   0  0  0  0  0  0  0  0  0  0  0  0\\n   -6.1346    5.2184    4.4973 C   0  0  0  0  0  0  0  0  0  0  0  0\\n   -6.0609    4.8840    5.7115 O   0  0  0  0  0  0  0  0  0  0  0  0\\n   -5.6507    6.4983    4.0699 N   0  0  0  0  0  0  0  0  0  0  0  0\\n   -4.9816    7.4256    4.9845 C   0  0  0  0  0  0  0  0  0  0  0  0\\n   -6.0163    8.1921    5.7555 C   0  0  0  0  0  0  0  0  0  0  0  0\\n   -6.0026    8.1853    7.0146 O   0  0  0  0  0  0  0  0  0  0  0  0\\n   -7.0035    8.9050    5.0838 O   0  0  0  0  0  1  0  0  0  0  0  0\\n   -4.0675    8.3999    4.2114 C   0  0  0  0  0  0  0  0  0  0  0  0\\n   -2.9797    7.7000    3.3587 C   0  0  0  0  0  0  0  0  0  0  0  0\\n   -2.2179    8.7418    2.5299 C   0  0  0  0  0  0  0  0  0  0  0  0\\n   -1.9931    6.8977    4.2206 C   0  0  0  0  0  0  0  0  0  0  0  0\\n   -8.2136    3.9408    3.7848 C   0  0  0  0  0  0  0  0  0  0  0  0\\n   -8.7732    2.9834    2.7123 C   0  0  0  0  0  0  0  0  0  0  0  0\\n   -9.0578    5.2429    3.8427 C   0  0  0  0  0  0  0  0  0  0  0  0\\n  -10.5147    5.0020    4.2410 C   0  0  0  0  0  0  0  0  0  0  0  0\\n   -2.5217    1.6832    3.2287 C   0  0  0  0  0  0  0  0  0  0  0  0\\n   -1.8755    0.3324    3.4054 C   0  0  0  0  0  0  0  0  0  0  0  0\\n   -2.5231   -0.7307    3.2033 O   0  0  0  0  0  0  0  0  0  0  0  0\\n   -0.5146    0.2569    3.8333 N   0  0  0  0  0  0  0  0  0  0  0  0\\n    0.0823   -0.9435    4.0187 O   0  0  0  0  0  1  0  0  0  0  0  0\\n   -6.0774   -0.0683    0.8532 C   0  0  0  0  0  0  0  0  0  0  0  0\\n   -7.3972   -0.1848    0.4066 C   0  0  0  0  0  0  0  0  0  0  0  0\\n  1  2  2  0\\n  2  3  1  0\\n  3  4  2  0\\n  4  5  1  0\\n  5  6  1  0\\n  6  7  1  0\\n  7  8  2  0\\n  7  9  1  0\\n  9 10  1  0\\n 10 11  1  0\\n 11 12  2  0\\n 11 13  1  0\\n 13 14  1  0\\n 14 15  1  0\\n 15 16  2  0\\n 15 17  1  0\\n 14 18  1  0\\n 18 19  1  0\\n 19 20  1  0\\n 19 21  1  0\\n 10 22  1  0\\n 22 23  1  0\\n 22 24  1  0\\n 24 25  1  0\\n  6 26  1  0\\n 26 27  1  0\\n 27 28  2  0\\n 27 29  1  0\\n 29 30  1  0\\n  4 31  1  0\\n 31 32  2  0\\n 32  1  1  0\\nM  CHG  2  17  -1  30  -1\\nM  END\\n\",\"sdf\");\n\tviewer_1583634223412244.setStyle({\"stick\": {}});\n\tviewer_1583634223412244.addModel(\"\\n     RDKit          3D\\n\\n 32 32  0  0  0  0  0  0  0  0999 V2000\\n   -8.0030    0.8754   -0.2733 C   0  0  0  0  0  0  0  0  0  0  0  0\\n   -7.2877    2.0517   -0.5126 C   0  0  0  0  0  0  0  0  0  0  0  0\\n   -5.9655    2.1699   -0.0733 C   0  0  0  0  0  0  0  0  0  0  0  0\\n   -5.3511    1.1121    0.6181 C   0  0  0  0  0  0  0  0  0  0  0  0\\n   -3.9278    1.2403    1.1054 C   0  0  0  0  0  0  0  0  0  0  0  0\\n   -3.7851    1.9046    2.4949 C   0  0  0  0  0  0  0  0  0  0  0  0\\n   -4.5093    1.1215    3.5702 C   0  0  0  0  0  0  0  0  0  0  0  0\\n   -3.8389    0.3613    4.3204 O   0  0  0  0  0  0  0  0  0  0  0  0\\n   -5.9302    1.2469    3.7579 N   0  0  0  0  0  0  0  0  0  0  0  0\\n   -6.6613    0.5292    4.8061 C   0  0  0  0  0  0  0  0  0  0  0  0\\n   -7.4461   -0.5781    4.1515 C   0  0  0  0  0  0  0  0  0  0  0  0\\n   -8.4470   -0.2962    3.4365 O   0  0  0  0  0  0  0  0  0  0  0  0\\n   -7.0307   -1.9427    4.3045 N   0  0  0  0  0  0  0  0  0  0  0  0\\n   -7.7034   -3.0439    3.6094 C   0  0  0  0  0  0  0  0  0  0  0  0\\n   -8.9694   -3.3877    4.3394 C   0  0  0  0  0  0  0  0  0  0  0  0\\n  -10.0808   -3.3066    3.7530 O   0  0  0  0  0  0  0  0  0  0  0  0\\n   -8.9231   -3.7897    5.6691 O   0  0  0  0  0  1  0  0  0  0  0  0\\n   -6.7863   -4.2830    3.5251 C   0  0  0  0  0  0  0  0  0  0  0  0\\n   -5.5222   -4.0482    2.6595 C   0  0  0  0  0  0  0  0  0  0  0  0\\n   -4.4591   -5.1074    2.9770 C   0  0  0  0  0  0  0  0  0  0  0  0\\n   -5.8470   -4.0756    1.1576 C   0  0  0  0  0  0  0  0  0  0  0  0\\n   -7.5723    1.5037    5.6063 C   0  0  0  0  0  0  0  0  0  0  0  0\\n   -8.3314    0.7496    6.7172 C   0  0  0  0  0  0  0  0  0  0  0  0\\n   -6.7327    2.6619    6.2057 C   0  0  0  0  0  0  0  0  0  0  0  0\\n   -7.5862    3.7599    6.8427 C   0  0  0  0  0  0  0  0  0  0  0  0\\n   -4.1724    3.4038    2.4817 C   0  0  0  0  0  0  0  0  0  0  0  0\\n   -3.8430    4.1342    3.7593 C   0  0  0  0  0  0  0  0  0  0  0  0\\n   -3.2029    3.5662    4.6863 O   0  0  0  0  0  0  0  0  0  0  0  0\\n   -4.2561    5.4921    3.9180 N   0  0  0  0  0  0  0  0  0  0  0  0\\n   -3.9860    6.1635    5.0620 O   0  0  0  0  0  1  0  0  0  0  0  0\\n   -6.0767   -0.0695    0.8506 C   0  0  0  0  0  0  0  0  0  0  0  0\\n   -7.3965   -0.1854    0.4040 C   0  0  0  0  0  0  0  0  0  0  0  0\\n  1  2  2  0\\n  2  3  1  0\\n  3  4  2  0\\n  4  5  1  0\\n  5  6  1  0\\n  6  7  1  0\\n  7  8  2  0\\n  7  9  1  0\\n  9 10  1  0\\n 10 11  1  0\\n 11 12  2  0\\n 11 13  1  0\\n 13 14  1  0\\n 14 15  1  0\\n 15 16  2  0\\n 15 17  1  0\\n 14 18  1  0\\n 18 19  1  0\\n 19 20  1  0\\n 19 21  1  0\\n 10 22  1  0\\n 22 23  1  0\\n 22 24  1  0\\n 24 25  1  0\\n  6 26  1  0\\n 26 27  1  0\\n 27 28  2  0\\n 27 29  1  0\\n 29 30  1  0\\n  4 31  1  0\\n 31 32  2  0\\n 32  1  1  0\\nM  CHG  2  17  -1  30  -1\\nM  END\\n\",\"sdf\");\n\tviewer_1583634223412244.setStyle({\"stick\": {}});\n\tviewer_1583634223412244.addModel(\"\\n     RDKit          3D\\n\\n 32 32  0  0  0  0  0  0  0  0999 V2000\\n   -8.0021    0.8743   -0.2756 C   0  0  0  0  0  0  0  0  0  0  0  0\\n   -7.2870    2.0509   -0.5145 C   0  0  0  0  0  0  0  0  0  0  0  0\\n   -5.9668    2.1717   -0.0694 C   0  0  0  0  0  0  0  0  0  0  0  0\\n   -5.3509    1.1111    0.6163 C   0  0  0  0  0  0  0  0  0  0  0  0\\n   -3.9123    1.2255    1.0613 C   0  0  0  0  0  0  0  0  0  0  0  0\\n   -2.9278    1.1421   -0.1259 C   0  0  0  0  0  0  0  0  0  0  0  0\\n   -3.1416   -0.1276   -0.9192 C   0  0  0  0  0  0  0  0  0  0  0  0\\n   -3.5178   -0.0413   -2.1194 O   0  0  0  0  0  0  0  0  0  0  0  0\\n   -2.9378   -1.4156   -0.3160 N   0  0  0  0  0  0  0  0  0  0  0  0\\n   -3.2884   -2.6718   -0.9848 C   0  0  0  0  0  0  0  0  0  0  0  0\\n   -4.5443   -3.2121   -0.3518 C   0  0  0  0  0  0  0  0  0  0  0  0\\n   -4.5289   -3.5646    0.8595 O   0  0  0  0  0  0  0  0  0  0  0  0\\n   -5.7553   -3.3104   -1.1162 N   0  0  0  0  0  0  0  0  0  0  0  0\\n   -6.9804   -3.8944   -0.5624 C   0  0  0  0  0  0  0  0  0  0  0  0\\n   -6.8089   -5.3851   -0.4782 C   0  0  0  0  0  0  0  0  0  0  0  0\\n   -6.6432   -6.0684   -1.5231 O   0  0  0  0  0  0  0  0  0  0  0  0\\n   -6.7953   -6.0136    0.7601 O   0  0  0  0  0  1  0  0  0  0  0  0\\n   -8.2015   -3.4987   -1.4290 C   0  0  0  0  0  0  0  0  0  0  0  0\\n   -9.5612   -3.5819   -0.6905 C   0  0  0  0  0  0  0  0  0  0  0  0\\n  -10.0048   -5.0309   -0.4436 C   0  0  0  0  0  0  0  0  0  0  0  0\\n  -10.6392   -2.8424   -1.4956 C   0  0  0  0  0  0  0  0  0  0  0  0\\n   -2.1097   -3.6791   -0.8869 C   0  0  0  0  0  0  0  0  0  0  0  0\\n   -0.8449   -3.1098   -1.5543 C   0  0  0  0  0  0  0  0  0  0  0  0\\n   -2.4493   -5.0894   -1.4402 C   0  0  0  0  0  0  0  0  0  0  0  0\\n   -2.8880   -5.1134   -2.9069 C   0  0  0  0  0  0  0  0  0  0  0  0\\n   -1.4690    1.2524    0.3746 C   0  0  0  0  0  0  0  0  0  0  0  0\\n   -0.4439    1.3516   -0.7265 C   0  0  0  0  0  0  0  0  0  0  0  0\\n   -0.7948    1.4509   -1.9337 O   0  0  0  0  0  0  0  0  0  0  0  0\\n    0.9457    1.3488   -0.3936 N   0  0  0  0  0  0  0  0  0  0  0  0\\n    1.8836    1.4648   -1.3615 O   0  0  0  0  0  1  0  0  0  0  0  0\\n   -6.0757   -0.0704    0.8481 C   0  0  0  0  0  0  0  0  0  0  0  0\\n   -7.3979   -0.1832    0.4085 C   0  0  0  0  0  0  0  0  0  0  0  0\\n  1  2  2  0\\n  2  3  1  0\\n  3  4  2  0\\n  4  5  1  0\\n  5  6  1  0\\n  6  7  1  0\\n  7  8  2  0\\n  7  9  1  0\\n  9 10  1  0\\n 10 11  1  0\\n 11 12  2  0\\n 11 13  1  0\\n 13 14  1  0\\n 14 15  1  0\\n 15 16  2  0\\n 15 17  1  0\\n 14 18  1  0\\n 18 19  1  0\\n 19 20  1  0\\n 19 21  1  0\\n 10 22  1  0\\n 22 23  1  0\\n 22 24  1  0\\n 24 25  1  0\\n  6 26  1  0\\n 26 27  1  0\\n 27 28  2  0\\n 27 29  1  0\\n 29 30  1  0\\n  4 31  1  0\\n 31 32  2  0\\n 32  1  1  0\\nM  CHG  2  17  -1  30  -1\\nM  END\\n\",\"sdf\");\n\tviewer_1583634223412244.setStyle({\"stick\": {}});\n\tviewer_1583634223412244.addModel(\"\\n     RDKit          3D\\n\\n 32 32  0  0  0  0  0  0  0  0999 V2000\\n   -8.0002    0.8726   -0.2786 C   0  0  0  0  0  0  0  0  0  0  0  0\\n   -7.2872    2.0523   -0.5131 C   0  0  0  0  0  0  0  0  0  0  0  0\\n   -5.9680    2.1745   -0.0658 C   0  0  0  0  0  0  0  0  0  0  0  0\\n   -5.3491    1.1074    0.6084 C   0  0  0  0  0  0  0  0  0  0  0  0\\n   -3.9292    1.2302    1.1008 C   0  0  0  0  0  0  0  0  0  0  0  0\\n   -3.8800    1.5881    2.6035 C   0  0  0  0  0  0  0  0  0  0  0  0\\n   -4.4259    2.9784    2.8270 C   0  0  0  0  0  0  0  0  0  0  0  0\\n   -3.8361    3.9693    2.3149 O   0  0  0  0  0  0  0  0  0  0  0  0\\n   -5.6076    3.1739    3.6173 N   0  0  0  0  0  0  0  0  0  0  0  0\\n   -6.1069    4.5117    3.9499 C   0  0  0  0  0  0  0  0  0  0  0  0\\n   -6.8788    5.0424    2.7684 C   0  0  0  0  0  0  0  0  0  0  0  0\\n   -6.4454    6.0553    2.1535 O   0  0  0  0  0  0  0  0  0  0  0  0\\n   -8.0954    4.4078    2.3445 N   0  0  0  0  0  0  0  0  0  0  0  0\\n   -8.9833    5.0206    1.3498 C   0  0  0  0  0  0  0  0  0  0  0  0\\n   -9.5683    6.2778    1.9344 C   0  0  0  0  0  0  0  0  0  0  0  0\\n   -9.2829    7.3999    1.4402 O   0  0  0  0  0  0  0  0  0  0  0  0\\n  -10.3970    6.2112    3.0475 O   0  0  0  0  0  1  0  0  0  0  0  0\\n  -10.0954    4.0275    0.9278 C   0  0  0  0  0  0  0  0  0  0  0  0\\n  -10.7045    4.3130   -0.4693 C   0  0  0  0  0  0  0  0  0  0  0  0\\n  -11.5750    3.1281   -0.9132 C   0  0  0  0  0  0  0  0  0  0  0  0\\n  -11.5396    5.6006   -0.4937 C   0  0  0  0  0  0  0  0  0  0  0  0\\n   -6.9624    4.4858    5.2528 C   0  0  0  0  0  0  0  0  0  0  0  0\\n   -6.1224    3.9525    6.4307 C   0  0  0  0  0  0  0  0  0  0  0  0\\n   -7.5236    5.8946    5.5857 C   0  0  0  0  0  0  0  0  0  0  0  0\\n   -8.5475    5.8789    6.7227 C   0  0  0  0  0  0  0  0  0  0  0  0\\n   -2.4385    1.5063    3.1554 C   0  0  0  0  0  0  0  0  0  0  0  0\\n   -1.9091    0.1018    3.3031 C   0  0  0  0  0  0  0  0  0  0  0  0\\n   -2.6568   -0.8983    3.1214 O   0  0  0  0  0  0  0  0  0  0  0  0\\n   -0.5443   -0.0971    3.6764 N   0  0  0  0  0  0  0  0  0  0  0  0\\n   -0.0413   -1.3479    3.8044 O   0  0  0  0  0  1  0  0  0  0  0  0\\n   -6.0782   -0.0681    0.8541 C   0  0  0  0  0  0  0  0  0  0  0  0\\n   -7.3977   -0.1844    0.4085 C   0  0  0  0  0  0  0  0  0  0  0  0\\n  1  2  2  0\\n  2  3  1  0\\n  3  4  2  0\\n  4  5  1  0\\n  5  6  1  0\\n  6  7  1  0\\n  7  8  2  0\\n  7  9  1  0\\n  9 10  1  0\\n 10 11  1  0\\n 11 12  2  0\\n 11 13  1  0\\n 13 14  1  0\\n 14 15  1  0\\n 15 16  2  0\\n 15 17  1  0\\n 14 18  1  0\\n 18 19  1  0\\n 19 20  1  0\\n 19 21  1  0\\n 10 22  1  0\\n 22 23  1  0\\n 22 24  1  0\\n 24 25  1  0\\n  6 26  1  0\\n 26 27  1  0\\n 27 28  2  0\\n 27 29  1  0\\n 29 30  1  0\\n  4 31  1  0\\n 31 32  2  0\\n 32  1  1  0\\nM  CHG  2  17  -1  30  -1\\nM  END\\n\",\"sdf\");\n\tviewer_1583634223412244.setStyle({\"stick\": {}});\n\tviewer_1583634223412244.setBackgroundColor(\"0xeeeeee\");\n\tviewer_1583634223412244.zoomTo();\nviewer_1583634223412244.render();\n});\n</script>",
      "text/html": [
       "<div id=\"3dmolviewer_1583634223412244\"  style=\"position: relative; width: 600px; height: 600px\">\n",
       "        <p id=\"3dmolwarning_1583634223412244\" style=\"background-color:#ffcccc;color:black\">You appear to be running in JupyterLab (or JavaScript failed to load for some other reason).  You need to install the 3dmol extension: <br>\n",
       "        <tt>jupyter labextension install jupyterlab_3dmol</tt></p>\n",
       "        </div>\n",
       "<script>\n",
       "\n",
       "var loadScriptAsync = function(uri){\n",
       "  return new Promise((resolve, reject) => {\n",
       "    var tag = document.createElement('script');\n",
       "    tag.src = uri;\n",
       "    tag.async = true;\n",
       "    tag.onload = () => {\n",
       "      resolve();\n",
       "    };\n",
       "  var firstScriptTag = document.getElementsByTagName('script')[0];\n",
       "  firstScriptTag.parentNode.insertBefore(tag, firstScriptTag);\n",
       "});\n",
       "};\n",
       "\n",
       "if(typeof $3Dmolpromise === 'undefined') {\n",
       "$3Dmolpromise = null;\n",
       "  $3Dmolpromise = loadScriptAsync('https://3dmol.csb.pitt.edu/build/3Dmol.js');\n",
       "}\n",
       "\n",
       "var viewer_1583634223412244 = null;\n",
       "var warn = document.getElementById(\"3dmolwarning_1583634223412244\");\n",
       "if(warn) {\n",
       "    warn.parentNode.removeChild(warn);\n",
       "}\n",
       "$3Dmolpromise.then(function() {\n",
       "viewer_1583634223412244 = $3Dmol.createViewer($(\"#3dmolviewer_1583634223412244\"),{backgroundColor:\"white\"});\n",
       "\tviewer_1583634223412244.addModel(\"\\n     RDKit          3D\\n\\n 32 32  0  0  0  0  0  0  0  0999 V2000\\n   -8.0026    0.8762   -0.2731 C   0  0  0  0  0  0  0  0  0  0  0  0\\n   -7.2872    2.0512   -0.5143 C   0  0  0  0  0  0  0  0  0  0  0  0\\n   -5.9662    2.1699   -0.0730 C   0  0  0  0  0  0  0  0  0  0  0  0\\n   -5.3532    1.1123    0.6198 C   0  0  0  0  0  0  0  0  0  0  0  0\\n   -3.9169    1.2320    1.0629 C   0  0  0  0  0  0  0  0  0  0  0  0\\n   -2.9427    0.9010   -0.0896 C   0  0  0  0  0  0  0  0  0  0  0  0\\n   -3.0331   -0.5576   -0.4736 C   0  0  0  0  0  0  0  0  0  0  0  0\\n   -3.4620   -0.8669   -1.6190 O   0  0  0  0  0  0  0  0  0  0  0  0\\n   -2.6234   -1.5850    0.4431 N   0  0  0  0  0  0  0  0  0  0  0  0\\n   -2.4585   -2.9824    0.0324 C   0  0  0  0  0  0  0  0  0  0  0  0\\n   -3.7852   -3.6864    0.1706 C   0  0  0  0  0  0  0  0  0  0  0  0\\n   -4.3325   -4.1765   -0.8542 O   0  0  0  0  0  0  0  0  0  0  0  0\\n   -4.4132   -3.8127    1.4564 N   0  0  0  0  0  0  0  0  0  0  0  0\\n   -5.6071   -4.6396    1.6608 C   0  0  0  0  0  0  0  0  0  0  0  0\\n   -5.6983   -5.0516    3.1055 C   0  0  0  0  0  0  0  0  0  0  0  0\\n   -5.6599   -6.2707    3.4195 O   0  0  0  0  0  0  0  0  0  0  0  0\\n   -5.8273   -4.0905    4.1027 O   0  0  0  0  0  1  0  0  0  0  0  0\\n   -6.8646   -3.8568    1.2272 C   0  0  0  0  0  0  0  0  0  0  0  0\\n   -8.1741   -4.6828    1.2707 C   0  0  0  0  0  0  0  0  0  0  0  0\\n   -8.1930   -5.7867    0.2023 C   0  0  0  0  0  0  0  0  0  0  0  0\\n   -9.3818   -3.7564    1.0789 C   0  0  0  0  0  0  0  0  0  0  0  0\\n   -1.3337   -3.6708    0.8611 C   0  0  0  0  0  0  0  0  0  0  0  0\\n   -1.2129   -5.1646    0.4994 C   0  0  0  0  0  0  0  0  0  0  0  0\\n    0.0218   -2.9498    0.6338 C   0  0  0  0  0  0  0  0  0  0  0  0\\n    1.0837   -3.3329    1.6662 C   0  0  0  0  0  0  0  0  0  0  0  0\\n   -1.4852    1.2566    0.2745 C   0  0  0  0  0  0  0  0  0  0  0  0\\n   -1.2808    2.7451    0.3856 C   0  0  0  0  0  0  0  0  0  0  0  0\\n   -1.4276    3.4652   -0.6381 O   0  0  0  0  0  0  0  0  0  0  0  0\\n   -0.9188    3.3596    1.6261 N   0  0  0  0  0  0  0  0  0  0  0  0\\n   -0.7663    2.6313    2.7570 O   0  0  0  0  0  1  0  0  0  0  0  0\\n   -6.0745   -0.0714    0.8479 C   0  0  0  0  0  0  0  0  0  0  0  0\\n   -7.3967   -0.1840    0.4061 C   0  0  0  0  0  0  0  0  0  0  0  0\\n  1  2  2  0\\n  2  3  1  0\\n  3  4  2  0\\n  4  5  1  0\\n  5  6  1  0\\n  6  7  1  0\\n  7  8  2  0\\n  7  9  1  0\\n  9 10  1  0\\n 10 11  1  0\\n 11 12  2  0\\n 11 13  1  0\\n 13 14  1  0\\n 14 15  1  0\\n 15 16  2  0\\n 15 17  1  0\\n 14 18  1  0\\n 18 19  1  0\\n 19 20  1  0\\n 19 21  1  0\\n 10 22  1  0\\n 22 23  1  0\\n 22 24  1  0\\n 24 25  1  0\\n  6 26  1  0\\n 26 27  1  0\\n 27 28  2  0\\n 27 29  1  0\\n 29 30  1  0\\n  4 31  1  0\\n 31 32  2  0\\n 32  1  1  0\\nM  CHG  2  17  -1  30  -1\\nM  END\\n\",\"sdf\");\n",
       "\tviewer_1583634223412244.setStyle({\"stick\": {}});\n",
       "\tviewer_1583634223412244.addModel(\"\\n     RDKit          3D\\n\\n 32 32  0  0  0  0  0  0  0  0999 V2000\\n   -8.0014    0.8740   -0.2767 C   0  0  0  0  0  0  0  0  0  0  0  0\\n   -7.2872    2.0519   -0.5129 C   0  0  0  0  0  0  0  0  0  0  0  0\\n   -5.9676    2.1725   -0.0684 C   0  0  0  0  0  0  0  0  0  0  0  0\\n   -5.3497    1.1090    0.6118 C   0  0  0  0  0  0  0  0  0  0  0  0\\n   -3.9463    1.2565    1.1474 C   0  0  0  0  0  0  0  0  0  0  0  0\\n   -3.9533    1.6315    2.6468 C   0  0  0  0  0  0  0  0  0  0  0  0\\n   -4.6341    2.9651    2.8410 C   0  0  0  0  0  0  0  0  0  0  0  0\\n   -4.1002    4.0130    2.3832 O   0  0  0  0  0  0  0  0  0  0  0  0\\n   -5.9052    3.0349    3.5029 N   0  0  0  0  0  0  0  0  0  0  0  0\\n   -6.7167    4.2562    3.4940 C   0  0  0  0  0  0  0  0  0  0  0  0\\n   -6.1346    5.2184    4.4973 C   0  0  0  0  0  0  0  0  0  0  0  0\\n   -6.0609    4.8840    5.7115 O   0  0  0  0  0  0  0  0  0  0  0  0\\n   -5.6507    6.4983    4.0699 N   0  0  0  0  0  0  0  0  0  0  0  0\\n   -4.9816    7.4256    4.9845 C   0  0  0  0  0  0  0  0  0  0  0  0\\n   -6.0163    8.1921    5.7555 C   0  0  0  0  0  0  0  0  0  0  0  0\\n   -6.0026    8.1853    7.0146 O   0  0  0  0  0  0  0  0  0  0  0  0\\n   -7.0035    8.9050    5.0838 O   0  0  0  0  0  1  0  0  0  0  0  0\\n   -4.0675    8.3999    4.2114 C   0  0  0  0  0  0  0  0  0  0  0  0\\n   -2.9797    7.7000    3.3587 C   0  0  0  0  0  0  0  0  0  0  0  0\\n   -2.2179    8.7418    2.5299 C   0  0  0  0  0  0  0  0  0  0  0  0\\n   -1.9931    6.8977    4.2206 C   0  0  0  0  0  0  0  0  0  0  0  0\\n   -8.2136    3.9408    3.7848 C   0  0  0  0  0  0  0  0  0  0  0  0\\n   -8.7732    2.9834    2.7123 C   0  0  0  0  0  0  0  0  0  0  0  0\\n   -9.0578    5.2429    3.8427 C   0  0  0  0  0  0  0  0  0  0  0  0\\n  -10.5147    5.0020    4.2410 C   0  0  0  0  0  0  0  0  0  0  0  0\\n   -2.5217    1.6832    3.2287 C   0  0  0  0  0  0  0  0  0  0  0  0\\n   -1.8755    0.3324    3.4054 C   0  0  0  0  0  0  0  0  0  0  0  0\\n   -2.5231   -0.7307    3.2033 O   0  0  0  0  0  0  0  0  0  0  0  0\\n   -0.5146    0.2569    3.8333 N   0  0  0  0  0  0  0  0  0  0  0  0\\n    0.0823   -0.9435    4.0187 O   0  0  0  0  0  1  0  0  0  0  0  0\\n   -6.0774   -0.0683    0.8532 C   0  0  0  0  0  0  0  0  0  0  0  0\\n   -7.3972   -0.1848    0.4066 C   0  0  0  0  0  0  0  0  0  0  0  0\\n  1  2  2  0\\n  2  3  1  0\\n  3  4  2  0\\n  4  5  1  0\\n  5  6  1  0\\n  6  7  1  0\\n  7  8  2  0\\n  7  9  1  0\\n  9 10  1  0\\n 10 11  1  0\\n 11 12  2  0\\n 11 13  1  0\\n 13 14  1  0\\n 14 15  1  0\\n 15 16  2  0\\n 15 17  1  0\\n 14 18  1  0\\n 18 19  1  0\\n 19 20  1  0\\n 19 21  1  0\\n 10 22  1  0\\n 22 23  1  0\\n 22 24  1  0\\n 24 25  1  0\\n  6 26  1  0\\n 26 27  1  0\\n 27 28  2  0\\n 27 29  1  0\\n 29 30  1  0\\n  4 31  1  0\\n 31 32  2  0\\n 32  1  1  0\\nM  CHG  2  17  -1  30  -1\\nM  END\\n\",\"sdf\");\n",
       "\tviewer_1583634223412244.setStyle({\"stick\": {}});\n",
       "\tviewer_1583634223412244.addModel(\"\\n     RDKit          3D\\n\\n 32 32  0  0  0  0  0  0  0  0999 V2000\\n   -8.0030    0.8754   -0.2733 C   0  0  0  0  0  0  0  0  0  0  0  0\\n   -7.2877    2.0517   -0.5126 C   0  0  0  0  0  0  0  0  0  0  0  0\\n   -5.9655    2.1699   -0.0733 C   0  0  0  0  0  0  0  0  0  0  0  0\\n   -5.3511    1.1121    0.6181 C   0  0  0  0  0  0  0  0  0  0  0  0\\n   -3.9278    1.2403    1.1054 C   0  0  0  0  0  0  0  0  0  0  0  0\\n   -3.7851    1.9046    2.4949 C   0  0  0  0  0  0  0  0  0  0  0  0\\n   -4.5093    1.1215    3.5702 C   0  0  0  0  0  0  0  0  0  0  0  0\\n   -3.8389    0.3613    4.3204 O   0  0  0  0  0  0  0  0  0  0  0  0\\n   -5.9302    1.2469    3.7579 N   0  0  0  0  0  0  0  0  0  0  0  0\\n   -6.6613    0.5292    4.8061 C   0  0  0  0  0  0  0  0  0  0  0  0\\n   -7.4461   -0.5781    4.1515 C   0  0  0  0  0  0  0  0  0  0  0  0\\n   -8.4470   -0.2962    3.4365 O   0  0  0  0  0  0  0  0  0  0  0  0\\n   -7.0307   -1.9427    4.3045 N   0  0  0  0  0  0  0  0  0  0  0  0\\n   -7.7034   -3.0439    3.6094 C   0  0  0  0  0  0  0  0  0  0  0  0\\n   -8.9694   -3.3877    4.3394 C   0  0  0  0  0  0  0  0  0  0  0  0\\n  -10.0808   -3.3066    3.7530 O   0  0  0  0  0  0  0  0  0  0  0  0\\n   -8.9231   -3.7897    5.6691 O   0  0  0  0  0  1  0  0  0  0  0  0\\n   -6.7863   -4.2830    3.5251 C   0  0  0  0  0  0  0  0  0  0  0  0\\n   -5.5222   -4.0482    2.6595 C   0  0  0  0  0  0  0  0  0  0  0  0\\n   -4.4591   -5.1074    2.9770 C   0  0  0  0  0  0  0  0  0  0  0  0\\n   -5.8470   -4.0756    1.1576 C   0  0  0  0  0  0  0  0  0  0  0  0\\n   -7.5723    1.5037    5.6063 C   0  0  0  0  0  0  0  0  0  0  0  0\\n   -8.3314    0.7496    6.7172 C   0  0  0  0  0  0  0  0  0  0  0  0\\n   -6.7327    2.6619    6.2057 C   0  0  0  0  0  0  0  0  0  0  0  0\\n   -7.5862    3.7599    6.8427 C   0  0  0  0  0  0  0  0  0  0  0  0\\n   -4.1724    3.4038    2.4817 C   0  0  0  0  0  0  0  0  0  0  0  0\\n   -3.8430    4.1342    3.7593 C   0  0  0  0  0  0  0  0  0  0  0  0\\n   -3.2029    3.5662    4.6863 O   0  0  0  0  0  0  0  0  0  0  0  0\\n   -4.2561    5.4921    3.9180 N   0  0  0  0  0  0  0  0  0  0  0  0\\n   -3.9860    6.1635    5.0620 O   0  0  0  0  0  1  0  0  0  0  0  0\\n   -6.0767   -0.0695    0.8506 C   0  0  0  0  0  0  0  0  0  0  0  0\\n   -7.3965   -0.1854    0.4040 C   0  0  0  0  0  0  0  0  0  0  0  0\\n  1  2  2  0\\n  2  3  1  0\\n  3  4  2  0\\n  4  5  1  0\\n  5  6  1  0\\n  6  7  1  0\\n  7  8  2  0\\n  7  9  1  0\\n  9 10  1  0\\n 10 11  1  0\\n 11 12  2  0\\n 11 13  1  0\\n 13 14  1  0\\n 14 15  1  0\\n 15 16  2  0\\n 15 17  1  0\\n 14 18  1  0\\n 18 19  1  0\\n 19 20  1  0\\n 19 21  1  0\\n 10 22  1  0\\n 22 23  1  0\\n 22 24  1  0\\n 24 25  1  0\\n  6 26  1  0\\n 26 27  1  0\\n 27 28  2  0\\n 27 29  1  0\\n 29 30  1  0\\n  4 31  1  0\\n 31 32  2  0\\n 32  1  1  0\\nM  CHG  2  17  -1  30  -1\\nM  END\\n\",\"sdf\");\n",
       "\tviewer_1583634223412244.setStyle({\"stick\": {}});\n",
       "\tviewer_1583634223412244.addModel(\"\\n     RDKit          3D\\n\\n 32 32  0  0  0  0  0  0  0  0999 V2000\\n   -8.0021    0.8743   -0.2756 C   0  0  0  0  0  0  0  0  0  0  0  0\\n   -7.2870    2.0509   -0.5145 C   0  0  0  0  0  0  0  0  0  0  0  0\\n   -5.9668    2.1717   -0.0694 C   0  0  0  0  0  0  0  0  0  0  0  0\\n   -5.3509    1.1111    0.6163 C   0  0  0  0  0  0  0  0  0  0  0  0\\n   -3.9123    1.2255    1.0613 C   0  0  0  0  0  0  0  0  0  0  0  0\\n   -2.9278    1.1421   -0.1259 C   0  0  0  0  0  0  0  0  0  0  0  0\\n   -3.1416   -0.1276   -0.9192 C   0  0  0  0  0  0  0  0  0  0  0  0\\n   -3.5178   -0.0413   -2.1194 O   0  0  0  0  0  0  0  0  0  0  0  0\\n   -2.9378   -1.4156   -0.3160 N   0  0  0  0  0  0  0  0  0  0  0  0\\n   -3.2884   -2.6718   -0.9848 C   0  0  0  0  0  0  0  0  0  0  0  0\\n   -4.5443   -3.2121   -0.3518 C   0  0  0  0  0  0  0  0  0  0  0  0\\n   -4.5289   -3.5646    0.8595 O   0  0  0  0  0  0  0  0  0  0  0  0\\n   -5.7553   -3.3104   -1.1162 N   0  0  0  0  0  0  0  0  0  0  0  0\\n   -6.9804   -3.8944   -0.5624 C   0  0  0  0  0  0  0  0  0  0  0  0\\n   -6.8089   -5.3851   -0.4782 C   0  0  0  0  0  0  0  0  0  0  0  0\\n   -6.6432   -6.0684   -1.5231 O   0  0  0  0  0  0  0  0  0  0  0  0\\n   -6.7953   -6.0136    0.7601 O   0  0  0  0  0  1  0  0  0  0  0  0\\n   -8.2015   -3.4987   -1.4290 C   0  0  0  0  0  0  0  0  0  0  0  0\\n   -9.5612   -3.5819   -0.6905 C   0  0  0  0  0  0  0  0  0  0  0  0\\n  -10.0048   -5.0309   -0.4436 C   0  0  0  0  0  0  0  0  0  0  0  0\\n  -10.6392   -2.8424   -1.4956 C   0  0  0  0  0  0  0  0  0  0  0  0\\n   -2.1097   -3.6791   -0.8869 C   0  0  0  0  0  0  0  0  0  0  0  0\\n   -0.8449   -3.1098   -1.5543 C   0  0  0  0  0  0  0  0  0  0  0  0\\n   -2.4493   -5.0894   -1.4402 C   0  0  0  0  0  0  0  0  0  0  0  0\\n   -2.8880   -5.1134   -2.9069 C   0  0  0  0  0  0  0  0  0  0  0  0\\n   -1.4690    1.2524    0.3746 C   0  0  0  0  0  0  0  0  0  0  0  0\\n   -0.4439    1.3516   -0.7265 C   0  0  0  0  0  0  0  0  0  0  0  0\\n   -0.7948    1.4509   -1.9337 O   0  0  0  0  0  0  0  0  0  0  0  0\\n    0.9457    1.3488   -0.3936 N   0  0  0  0  0  0  0  0  0  0  0  0\\n    1.8836    1.4648   -1.3615 O   0  0  0  0  0  1  0  0  0  0  0  0\\n   -6.0757   -0.0704    0.8481 C   0  0  0  0  0  0  0  0  0  0  0  0\\n   -7.3979   -0.1832    0.4085 C   0  0  0  0  0  0  0  0  0  0  0  0\\n  1  2  2  0\\n  2  3  1  0\\n  3  4  2  0\\n  4  5  1  0\\n  5  6  1  0\\n  6  7  1  0\\n  7  8  2  0\\n  7  9  1  0\\n  9 10  1  0\\n 10 11  1  0\\n 11 12  2  0\\n 11 13  1  0\\n 13 14  1  0\\n 14 15  1  0\\n 15 16  2  0\\n 15 17  1  0\\n 14 18  1  0\\n 18 19  1  0\\n 19 20  1  0\\n 19 21  1  0\\n 10 22  1  0\\n 22 23  1  0\\n 22 24  1  0\\n 24 25  1  0\\n  6 26  1  0\\n 26 27  1  0\\n 27 28  2  0\\n 27 29  1  0\\n 29 30  1  0\\n  4 31  1  0\\n 31 32  2  0\\n 32  1  1  0\\nM  CHG  2  17  -1  30  -1\\nM  END\\n\",\"sdf\");\n",
       "\tviewer_1583634223412244.setStyle({\"stick\": {}});\n",
       "\tviewer_1583634223412244.addModel(\"\\n     RDKit          3D\\n\\n 32 32  0  0  0  0  0  0  0  0999 V2000\\n   -8.0002    0.8726   -0.2786 C   0  0  0  0  0  0  0  0  0  0  0  0\\n   -7.2872    2.0523   -0.5131 C   0  0  0  0  0  0  0  0  0  0  0  0\\n   -5.9680    2.1745   -0.0658 C   0  0  0  0  0  0  0  0  0  0  0  0\\n   -5.3491    1.1074    0.6084 C   0  0  0  0  0  0  0  0  0  0  0  0\\n   -3.9292    1.2302    1.1008 C   0  0  0  0  0  0  0  0  0  0  0  0\\n   -3.8800    1.5881    2.6035 C   0  0  0  0  0  0  0  0  0  0  0  0\\n   -4.4259    2.9784    2.8270 C   0  0  0  0  0  0  0  0  0  0  0  0\\n   -3.8361    3.9693    2.3149 O   0  0  0  0  0  0  0  0  0  0  0  0\\n   -5.6076    3.1739    3.6173 N   0  0  0  0  0  0  0  0  0  0  0  0\\n   -6.1069    4.5117    3.9499 C   0  0  0  0  0  0  0  0  0  0  0  0\\n   -6.8788    5.0424    2.7684 C   0  0  0  0  0  0  0  0  0  0  0  0\\n   -6.4454    6.0553    2.1535 O   0  0  0  0  0  0  0  0  0  0  0  0\\n   -8.0954    4.4078    2.3445 N   0  0  0  0  0  0  0  0  0  0  0  0\\n   -8.9833    5.0206    1.3498 C   0  0  0  0  0  0  0  0  0  0  0  0\\n   -9.5683    6.2778    1.9344 C   0  0  0  0  0  0  0  0  0  0  0  0\\n   -9.2829    7.3999    1.4402 O   0  0  0  0  0  0  0  0  0  0  0  0\\n  -10.3970    6.2112    3.0475 O   0  0  0  0  0  1  0  0  0  0  0  0\\n  -10.0954    4.0275    0.9278 C   0  0  0  0  0  0  0  0  0  0  0  0\\n  -10.7045    4.3130   -0.4693 C   0  0  0  0  0  0  0  0  0  0  0  0\\n  -11.5750    3.1281   -0.9132 C   0  0  0  0  0  0  0  0  0  0  0  0\\n  -11.5396    5.6006   -0.4937 C   0  0  0  0  0  0  0  0  0  0  0  0\\n   -6.9624    4.4858    5.2528 C   0  0  0  0  0  0  0  0  0  0  0  0\\n   -6.1224    3.9525    6.4307 C   0  0  0  0  0  0  0  0  0  0  0  0\\n   -7.5236    5.8946    5.5857 C   0  0  0  0  0  0  0  0  0  0  0  0\\n   -8.5475    5.8789    6.7227 C   0  0  0  0  0  0  0  0  0  0  0  0\\n   -2.4385    1.5063    3.1554 C   0  0  0  0  0  0  0  0  0  0  0  0\\n   -1.9091    0.1018    3.3031 C   0  0  0  0  0  0  0  0  0  0  0  0\\n   -2.6568   -0.8983    3.1214 O   0  0  0  0  0  0  0  0  0  0  0  0\\n   -0.5443   -0.0971    3.6764 N   0  0  0  0  0  0  0  0  0  0  0  0\\n   -0.0413   -1.3479    3.8044 O   0  0  0  0  0  1  0  0  0  0  0  0\\n   -6.0782   -0.0681    0.8541 C   0  0  0  0  0  0  0  0  0  0  0  0\\n   -7.3977   -0.1844    0.4085 C   0  0  0  0  0  0  0  0  0  0  0  0\\n  1  2  2  0\\n  2  3  1  0\\n  3  4  2  0\\n  4  5  1  0\\n  5  6  1  0\\n  6  7  1  0\\n  7  8  2  0\\n  7  9  1  0\\n  9 10  1  0\\n 10 11  1  0\\n 11 12  2  0\\n 11 13  1  0\\n 13 14  1  0\\n 14 15  1  0\\n 15 16  2  0\\n 15 17  1  0\\n 14 18  1  0\\n 18 19  1  0\\n 19 20  1  0\\n 19 21  1  0\\n 10 22  1  0\\n 22 23  1  0\\n 22 24  1  0\\n 24 25  1  0\\n  6 26  1  0\\n 26 27  1  0\\n 27 28  2  0\\n 27 29  1  0\\n 29 30  1  0\\n  4 31  1  0\\n 31 32  2  0\\n 32  1  1  0\\nM  CHG  2  17  -1  30  -1\\nM  END\\n\",\"sdf\");\n",
       "\tviewer_1583634223412244.setStyle({\"stick\": {}});\n",
       "\tviewer_1583634223412244.setBackgroundColor(\"0xeeeeee\");\n",
       "\tviewer_1583634223412244.zoomTo();\n",
       "viewer_1583634223412244.render();\n",
       "});\n",
       "</script>"
      ]
     },
     "metadata": {},
     "output_type": "display_data"
    }
   ],
   "source": [
    "# function for generating conformers and structure optimization\n",
    "def get_confs(mol, ff):\n",
    "    sm = Chem.MolToSmiles(mol)\n",
    "    m = Chem.MolFromSmiles(sm)\n",
    "    m_h = Chem.AddHs(m)\n",
    "    cids = AllChem.EmbedMultipleConfs(m_h, numConfs=1000, randomSeed=1234, pruneRmsThresh=2, numThreads=0)\n",
    "    \n",
    "    if ff == 'uff':\n",
    "        for cid in cids:\n",
    "            uff = AllChem.UFFGetMoleculeForceField(m_h, confId=cid)\n",
    "            uff.Minimize()\n",
    "    if ff == 'mmff':\n",
    "        prop = AllChem.MMFFGetMoleculeProperties(m_h)\n",
    "        for cid in cids:\n",
    "            mmff = AllChem.MMFFGetMoleculeForceField(m_h, prop, confId=cid)\n",
    "            mmff.Minimize()\n",
    "    return Chem.RemoveHs(m_h)\n",
    "\n",
    "# get ID of five stable structures\n",
    "uff_confIds = [j for i, j in uff_e[:5]]\n",
    "mmff_confIds = [j for i, j in mmff_e[:5]]\n",
    "\n",
    "# get optimized conformers by UFF or MMFF\n",
    "uff = get_confs(mol, 'uff')\n",
    "mmff = get_confs(mol, 'mmff')\n",
    "\n",
    "# get matching structure for benzene template\n",
    "core = uff.GetSubstructMatch(Chem.MolFromSmiles('C1=CC=CC=C1'))\n",
    "\n",
    "# align conformers by template\n",
    "AllChem.AlignMolConformers(uff, atomIds=core)\n",
    "AllChem.AlignMolConformers(mmff, atomIds=core)\n",
    "\n",
    "# draw conformers on stacks\n",
    "v = py3Dmol.view(width=600, height=600)\n",
    "for cid in uff_confIds:\n",
    "    IPythonConsole.addMolToView(uff, confId=cid, view=v)\n",
    "v.setBackgroundColor('0xeeeeee')\n",
    "v.zoomTo()\n",
    "v.show()"
   ]
  }
 ],
 "metadata": {
  "kernelspec": {
   "display_name": "Python 3",
   "language": "python",
   "name": "python3"
  },
  "language_info": {
   "codemirror_mode": {
    "name": "ipython",
    "version": 3
   },
   "file_extension": ".py",
   "mimetype": "text/x-python",
   "name": "python",
   "nbconvert_exporter": "python",
   "pygments_lexer": "ipython3",
   "version": "3.7.5"
  }
 },
 "nbformat": 4,
 "nbformat_minor": 2
}
