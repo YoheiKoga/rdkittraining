{
 "cells": [
  {
   "cell_type": "code",
   "execution_count": 1,
   "metadata": {},
   "outputs": [
    {
     "name": "stderr",
     "output_type": "stream",
     "text": [
      "RDKit WARNING: [08:10:59] Enabling RDKit 2019.09.2 jupyter extensions\n"
     ]
    }
   ],
   "source": [
    "# reference\n",
    "# [RDKitで配座を発生させてエネルギーを計算してみる – Is life worth living?](https://iwatobipen.wordpress.com/2012/10/21/rdkit%E3%81%A7%E9%85%8D%E5%BA%A7%E3%82%92%E7%99%BA%E7%94%9F%E3%81%95%E3%81%9B%E3%81%A6%E3%82%A8%E3%83%8D%E3%83%AB%E3%82%AE%E3%83%BC%E3%82%92%E8%A8%88%E7%AE%97%E3%81%97%E3%81%A6%E3%81%BF%E3%82%8B/)\n",
    "\n",
    "import sys\n",
    "from rdkit import Chem\n",
    "from rdkit.Chem import AllChem"
   ]
  },
  {
   "cell_type": "code",
   "execution_count": 2,
   "metadata": {},
   "outputs": [],
   "source": [
    "# sdf = Chem.SDMolSupplier(sys.argv[1])\n",
    "sdf = Chem.SDMolSupplier(\"./sdf/ArBr.sdf\")\n",
    "mols = [Chem.AddHs(m) for m in sdf]\n",
    "out = Chem.SDWriter(\"./data/genconf.sdf\")"
   ]
  },
  {
   "cell_type": "code",
   "execution_count": 3,
   "metadata": {},
   "outputs": [
    {
     "data": {
      "text/plain": [
       "[<rdkit.Chem.rdchem.Mol at 0x7fd66aa62cb0>,\n",
       " <rdkit.Chem.rdchem.Mol at 0x7fd66aa627b0>,\n",
       " <rdkit.Chem.rdchem.Mol at 0x7fd66aa62ee0>,\n",
       " <rdkit.Chem.rdchem.Mol at 0x7fd66aa62e90>,\n",
       " <rdkit.Chem.rdchem.Mol at 0x7fd66aa62c60>,\n",
       " <rdkit.Chem.rdchem.Mol at 0x7fd66aa62b70>,\n",
       " <rdkit.Chem.rdchem.Mol at 0x7fd66aa62a80>,\n",
       " <rdkit.Chem.rdchem.Mol at 0x7fd66aa62d00>,\n",
       " <rdkit.Chem.rdchem.Mol at 0x7fd66aa62760>,\n",
       " <rdkit.Chem.rdchem.Mol at 0x7fd66aa628f0>,\n",
       " <rdkit.Chem.rdchem.Mol at 0x7fd66ac45580>,\n",
       " <rdkit.Chem.rdchem.Mol at 0x7fd66ac45530>,\n",
       " <rdkit.Chem.rdchem.Mol at 0x7fd66ac45030>,\n",
       " <rdkit.Chem.rdchem.Mol at 0x7fd66ac450d0>,\n",
       " <rdkit.Chem.rdchem.Mol at 0x7fd66ac45120>,\n",
       " <rdkit.Chem.rdchem.Mol at 0x7fd66ac45170>,\n",
       " <rdkit.Chem.rdchem.Mol at 0x7fd66ac45210>,\n",
       " <rdkit.Chem.rdchem.Mol at 0x7fd66ac45260>,\n",
       " <rdkit.Chem.rdchem.Mol at 0x7fd66ac45300>,\n",
       " <rdkit.Chem.rdchem.Mol at 0x7fd66ac4c710>,\n",
       " <rdkit.Chem.rdchem.Mol at 0x7fd66ac4c6c0>,\n",
       " <rdkit.Chem.rdchem.Mol at 0x7fd66ac4e440>,\n",
       " <rdkit.Chem.rdchem.Mol at 0x7fd66ac4ecb0>,\n",
       " <rdkit.Chem.rdchem.Mol at 0x7fd66ac4ec10>,\n",
       " <rdkit.Chem.rdchem.Mol at 0x7fd66ac4ed00>,\n",
       " <rdkit.Chem.rdchem.Mol at 0x7fd66ac4eda0>,\n",
       " <rdkit.Chem.rdchem.Mol at 0x7fd66ac521c0>,\n",
       " <rdkit.Chem.rdchem.Mol at 0x7fd66ac52260>,\n",
       " <rdkit.Chem.rdchem.Mol at 0x7fd66ac52170>,\n",
       " <rdkit.Chem.rdchem.Mol at 0x7fd66ac52300>,\n",
       " <rdkit.Chem.rdchem.Mol at 0x7fd66ac52350>,\n",
       " <rdkit.Chem.rdchem.Mol at 0x7fd66ac523a0>,\n",
       " <rdkit.Chem.rdchem.Mol at 0x7fd66ac52440>,\n",
       " <rdkit.Chem.rdchem.Mol at 0x7fd66ac52490>,\n",
       " <rdkit.Chem.rdchem.Mol at 0x7fd66ac524e0>,\n",
       " <rdkit.Chem.rdchem.Mol at 0x7fd66ac52530>,\n",
       " <rdkit.Chem.rdchem.Mol at 0x7fd66ac52580>,\n",
       " <rdkit.Chem.rdchem.Mol at 0x7fd66ac525d0>,\n",
       " <rdkit.Chem.rdchem.Mol at 0x7fd66ac52710>,\n",
       " <rdkit.Chem.rdchem.Mol at 0x7fd66ac52850>,\n",
       " <rdkit.Chem.rdchem.Mol at 0x7fd66ac528a0>,\n",
       " <rdkit.Chem.rdchem.Mol at 0x7fd66ac52990>,\n",
       " <rdkit.Chem.rdchem.Mol at 0x7fd66ac52a30>,\n",
       " <rdkit.Chem.rdchem.Mol at 0x7fd66ac52a80>,\n",
       " <rdkit.Chem.rdchem.Mol at 0x7fd66ac52b70>,\n",
       " <rdkit.Chem.rdchem.Mol at 0x7fd66ac52c60>,\n",
       " <rdkit.Chem.rdchem.Mol at 0x7fd66ac52cb0>,\n",
       " <rdkit.Chem.rdchem.Mol at 0x7fd66ac52d00>,\n",
       " <rdkit.Chem.rdchem.Mol at 0x7fd66ac52da0>,\n",
       " <rdkit.Chem.rdchem.Mol at 0x7fd66ac52ee0>,\n",
       " <rdkit.Chem.rdchem.Mol at 0x7fd66ac52f80>,\n",
       " <rdkit.Chem.rdchem.Mol at 0x7fd66aa5ff80>,\n",
       " <rdkit.Chem.rdchem.Mol at 0x7fd66aa5fe90>,\n",
       " <rdkit.Chem.rdchem.Mol at 0x7fd66aa5fe40>,\n",
       " <rdkit.Chem.rdchem.Mol at 0x7fd66aa5fd50>,\n",
       " <rdkit.Chem.rdchem.Mol at 0x7fd66aa5fc60>,\n",
       " <rdkit.Chem.rdchem.Mol at 0x7fd66aa5fb70>,\n",
       " <rdkit.Chem.rdchem.Mol at 0x7fd66aa5fb20>,\n",
       " <rdkit.Chem.rdchem.Mol at 0x7fd66aa5fa30>,\n",
       " <rdkit.Chem.rdchem.Mol at 0x7fd66aa5f9e0>,\n",
       " <rdkit.Chem.rdchem.Mol at 0x7fd66aa5f8f0>,\n",
       " <rdkit.Chem.rdchem.Mol at 0x7fd66aa5f8a0>,\n",
       " <rdkit.Chem.rdchem.Mol at 0x7fd66aa5f7b0>,\n",
       " <rdkit.Chem.rdchem.Mol at 0x7fd66aa5f6c0>,\n",
       " <rdkit.Chem.rdchem.Mol at 0x7fd66aa5f5d0>,\n",
       " <rdkit.Chem.rdchem.Mol at 0x7fd66aa5f580>,\n",
       " <rdkit.Chem.rdchem.Mol at 0x7fd66aa5f490>,\n",
       " <rdkit.Chem.rdchem.Mol at 0x7fd66aa5f440>,\n",
       " <rdkit.Chem.rdchem.Mol at 0x7fd66aa5f350>,\n",
       " <rdkit.Chem.rdchem.Mol at 0x7fd66aa5f300>,\n",
       " <rdkit.Chem.rdchem.Mol at 0x7fd66aa5f210>,\n",
       " <rdkit.Chem.rdchem.Mol at 0x7fd66aa5f1c0>,\n",
       " <rdkit.Chem.rdchem.Mol at 0x7fd66aa5f0d0>,\n",
       " <rdkit.Chem.rdchem.Mol at 0x7fd66ac55030>,\n",
       " <rdkit.Chem.rdchem.Mol at 0x7fd66ac55120>,\n",
       " <rdkit.Chem.rdchem.Mol at 0x7fd66ac55170>,\n",
       " <rdkit.Chem.rdchem.Mol at 0x7fd66ac55210>,\n",
       " <rdkit.Chem.rdchem.Mol at 0x7fd66ac552b0>,\n",
       " <rdkit.Chem.rdchem.Mol at 0x7fd66ac55300>,\n",
       " <rdkit.Chem.rdchem.Mol at 0x7fd66ac553a0>,\n",
       " <rdkit.Chem.rdchem.Mol at 0x7fd66ac553f0>,\n",
       " <rdkit.Chem.rdchem.Mol at 0x7fd66ac55530>,\n",
       " <rdkit.Chem.rdchem.Mol at 0x7fd66ac555d0>,\n",
       " <rdkit.Chem.rdchem.Mol at 0x7fd66ac55620>,\n",
       " <rdkit.Chem.rdchem.Mol at 0x7fd66ac556c0>,\n",
       " <rdkit.Chem.rdchem.Mol at 0x7fd66ac55760>,\n",
       " <rdkit.Chem.rdchem.Mol at 0x7fd66ac558a0>,\n",
       " <rdkit.Chem.rdchem.Mol at 0x7fd66ac558f0>,\n",
       " <rdkit.Chem.rdchem.Mol at 0x7fd66ac55940>,\n",
       " <rdkit.Chem.rdchem.Mol at 0x7fd66ac559e0>,\n",
       " <rdkit.Chem.rdchem.Mol at 0x7fd66ac55a80>,\n",
       " <rdkit.Chem.rdchem.Mol at 0x7fd66ac55b70>,\n",
       " <rdkit.Chem.rdchem.Mol at 0x7fd66ac55c10>,\n",
       " <rdkit.Chem.rdchem.Mol at 0x7fd66ac55cb0>,\n",
       " <rdkit.Chem.rdchem.Mol at 0x7fd66ac55d50>,\n",
       " <rdkit.Chem.rdchem.Mol at 0x7fd66ac55df0>,\n",
       " <rdkit.Chem.rdchem.Mol at 0x7fd66ac55e90>,\n",
       " <rdkit.Chem.rdchem.Mol at 0x7fd66ac55f30>,\n",
       " <rdkit.Chem.rdchem.Mol at 0x7fd66aa61ee0>,\n",
       " <rdkit.Chem.rdchem.Mol at 0x7fd66aa61e90>,\n",
       " <rdkit.Chem.rdchem.Mol at 0x7fd66aa61da0>]"
      ]
     },
     "execution_count": 3,
     "metadata": {},
     "output_type": "execute_result"
    }
   ],
   "source": [
    "mols"
   ]
  },
  {
   "cell_type": "code",
   "execution_count": 4,
   "metadata": {},
   "outputs": [],
   "source": [
    "for mol in mols:\n",
    "    ids = AllChem.EmbedMultipleConfs(mol, numConfs = 10, clearConfs = True, pruneRmsThresh = 0.5)\n",
    "    for cid in ids:\n",
    "        AllChem.UFFOptimizeMolecule(mol, maxIters = 1000, confId = cid)\n",
    "        ff = AllChem.UFFGetMoleculeForceField(mol, confId = cid)\n",
    "        ff.Minimize()\n",
    "        energy=ff.CalcEnergy()\n",
    "        mol.SetProp(\"UFF_Energy\", \"%s\"%energy)\n",
    "        mol.SetProp(\"confId\", \"%s\" % cid)\n",
    "        out.write(mol, confId=cid)\n",
    "out.close()"
   ]
  },
  {
   "cell_type": "code",
   "execution_count": null,
   "metadata": {},
   "outputs": [],
   "source": []
  }
 ],
 "metadata": {
  "kernelspec": {
   "display_name": "Python 3",
   "language": "python",
   "name": "python3"
  },
  "language_info": {
   "codemirror_mode": {
    "name": "ipython",
    "version": 3
   },
   "file_extension": ".py",
   "mimetype": "text/x-python",
   "name": "python",
   "nbconvert_exporter": "python",
   "pygments_lexer": "ipython3",
   "version": "3.7.5"
  }
 },
 "nbformat": 4,
 "nbformat_minor": 4
}
